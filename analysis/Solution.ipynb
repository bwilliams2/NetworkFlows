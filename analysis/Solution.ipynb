{
 "cells": [
  {
   "cell_type": "code",
   "execution_count": 50,
   "metadata": {},
   "outputs": [
    {
     "name": "stdout",
     "output_type": "stream",
     "text": [
      "The autoreload extension is already loaded. To reload it, use:\n",
      "  %reload_ext autoreload\n"
     ]
    }
   ],
   "source": [
    "%load_ext autoreload\n",
    "%autoreload 2"
   ]
  },
  {
   "attachments": {},
   "cell_type": "markdown",
   "metadata": {},
   "source": [
    "# Network Flow Modeling\n",
    "\n",
    "\n",
    "## Solution Approach\n",
    "\n",
    "To solve the network flow model, I have utilized CP-SAT solver from Google OR-Tools for constraint solving and NetworkX to visualize flow paths. \n",
    "\n",
    "### Problem Constraints\n",
    "\n",
    "The high level constraints applied in the model are:\n",
    "\n",
    "- **Product Conservation:** The total flow into a process step must equal the process step amount.\n",
    "- **Flow Conservation:** The total flow out of a process step must be less than or equal to the process step amount.\n",
    "- **Sequentiality:** A process step must occur before a subsequent process step is completed.\n",
    "- **Flow Simplicity:** Minimize number of unique product flows out of each process step to prevent trivial solution differences.\n",
    "\n",
    "### Solution Structure\n",
    "\n",
    "Two Python classes have been developed to enable repeatable flow data preparation, model setup, model solving, and visualization.\n",
    "The `NetworkFlowModel` class is used to generate the network flow model and solve it using the CP-SAT solver.\n",
    "`NetworkFlowModel.solve` outputs a custom `NetworkFlowSolution` object.\n",
    "The `NetworkFlowSolution` class provides an interface for a solved `NetworkFlowModel` that generates a graph network using NetworkX.\n",
    "The graph network is generated from the solution data and provides a visual representation of the flow paths."
   ]
  },
  {
   "attachments": {},
   "cell_type": "markdown",
   "metadata": {},
   "source": [
    "\n",
    "## Solutions"
   ]
  },
  {
   "cell_type": "code",
   "execution_count": 51,
   "metadata": {},
   "outputs": [],
   "source": [
    "import pandas as pd\n",
    "from utils import NetworkFlowModel\n",
    "\n",
    "wb = pd.ExcelFile(\"../data/NetworkFlowProblem-Data.xlsx\")\n",
    "data = {} \n",
    "for sheet in wb.sheet_names:\n",
    "    data[sheet] = wb.parse(sheet)"
   ]
  },
  {
   "attachments": {},
   "cell_type": "markdown",
   "metadata": {},
   "source": [
    "### Input 1"
   ]
  },
  {
   "cell_type": "code",
   "execution_count": 52,
   "metadata": {},
   "outputs": [
    {
     "data": {
      "text/html": [
       "<div>\n",
       "<style scoped>\n",
       "    .dataframe tbody tr th:only-of-type {\n",
       "        vertical-align: middle;\n",
       "    }\n",
       "\n",
       "    .dataframe tbody tr th {\n",
       "        vertical-align: top;\n",
       "    }\n",
       "\n",
       "    .dataframe thead th {\n",
       "        text-align: right;\n",
       "    }\n",
       "</style>\n",
       "<table border=\"1\" class=\"dataframe\">\n",
       "  <thead>\n",
       "    <tr style=\"text-align: right;\">\n",
       "      <th></th>\n",
       "      <th>product</th>\n",
       "      <th>treatment</th>\n",
       "      <th>send_from_cnt</th>\n",
       "      <th>to_processing_cnt</th>\n",
       "      <th>for_process</th>\n",
       "      <th>Week</th>\n",
       "      <th>Amount</th>\n",
       "    </tr>\n",
       "  </thead>\n",
       "  <tbody>\n",
       "    <tr>\n",
       "      <th>0</th>\n",
       "      <td>P11</td>\n",
       "      <td>I300</td>\n",
       "      <td>NaN</td>\n",
       "      <td>AUSTRIA</td>\n",
       "      <td>Sourcing</td>\n",
       "      <td>1</td>\n",
       "      <td>36207.19</td>\n",
       "    </tr>\n",
       "    <tr>\n",
       "      <th>1</th>\n",
       "      <td>P11</td>\n",
       "      <td>I300</td>\n",
       "      <td>NaN</td>\n",
       "      <td>FRANCE</td>\n",
       "      <td>Sourcing</td>\n",
       "      <td>1</td>\n",
       "      <td>3022.10</td>\n",
       "    </tr>\n",
       "    <tr>\n",
       "      <th>2</th>\n",
       "      <td>P11</td>\n",
       "      <td>I300</td>\n",
       "      <td>NaN</td>\n",
       "      <td>HUNGARY</td>\n",
       "      <td>Sourcing</td>\n",
       "      <td>1</td>\n",
       "      <td>14839.81</td>\n",
       "    </tr>\n",
       "    <tr>\n",
       "      <th>3</th>\n",
       "      <td>P11</td>\n",
       "      <td>I300</td>\n",
       "      <td>NaN</td>\n",
       "      <td>GERMANY</td>\n",
       "      <td>Sourcing</td>\n",
       "      <td>1</td>\n",
       "      <td>312.47</td>\n",
       "    </tr>\n",
       "    <tr>\n",
       "      <th>4</th>\n",
       "      <td>P11</td>\n",
       "      <td>I300</td>\n",
       "      <td>NaN</td>\n",
       "      <td>ROMANIA</td>\n",
       "      <td>Sourcing</td>\n",
       "      <td>1</td>\n",
       "      <td>5551.43</td>\n",
       "    </tr>\n",
       "  </tbody>\n",
       "</table>\n",
       "</div>"
      ],
      "text/plain": [
       "  product treatment send_from_cnt to_processing_cnt for_process  Week   \n",
       "0     P11      I300           NaN           AUSTRIA    Sourcing     1  \\\n",
       "1     P11      I300           NaN            FRANCE    Sourcing     1   \n",
       "2     P11      I300           NaN           HUNGARY    Sourcing     1   \n",
       "3     P11      I300           NaN           GERMANY    Sourcing     1   \n",
       "4     P11      I300           NaN           ROMANIA    Sourcing     1   \n",
       "\n",
       "     Amount  \n",
       "0  36207.19  \n",
       "1   3022.10  \n",
       "2  14839.81  \n",
       "3    312.47  \n",
       "4   5551.43  "
      ]
     },
     "execution_count": 52,
     "metadata": {},
     "output_type": "execute_result"
    }
   ],
   "source": [
    "data[\"Input1\"].head()"
   ]
  },
  {
   "cell_type": "code",
   "execution_count": 53,
   "metadata": {},
   "outputs": [],
   "source": [
    "input1_model = NetworkFlowModel(data[\"Input1\"])\n",
    "input1_solution = input1_model.solve()"
   ]
  },
  {
   "cell_type": "code",
   "execution_count": 54,
   "metadata": {},
   "outputs": [
    {
     "data": {
      "text/html": [
       "<div>\n",
       "<style scoped>\n",
       "    .dataframe tbody tr th:only-of-type {\n",
       "        vertical-align: middle;\n",
       "    }\n",
       "\n",
       "    .dataframe tbody tr th {\n",
       "        vertical-align: top;\n",
       "    }\n",
       "\n",
       "    .dataframe thead th {\n",
       "        text-align: right;\n",
       "    }\n",
       "</style>\n",
       "<table border=\"1\" class=\"dataframe\">\n",
       "  <thead>\n",
       "    <tr style=\"text-align: right;\">\n",
       "      <th></th>\n",
       "      <th>Process1_id</th>\n",
       "      <th>Process1_Cnt</th>\n",
       "      <th>Process1_Amount</th>\n",
       "      <th>Process1_Week</th>\n",
       "      <th>Process2_id</th>\n",
       "      <th>Process2_Cnt</th>\n",
       "      <th>Process2_Amount</th>\n",
       "      <th>Process2_Week</th>\n",
       "      <th>Process3_id</th>\n",
       "      <th>Process3_Cnt</th>\n",
       "      <th>Process3_Amount</th>\n",
       "      <th>Process3_Week</th>\n",
       "      <th>Process4_id</th>\n",
       "      <th>Process4_Cnt</th>\n",
       "      <th>Process4_Amount</th>\n",
       "      <th>Process4_Week</th>\n",
       "      <th>Process5_id</th>\n",
       "      <th>Process5_Cnt</th>\n",
       "      <th>Process5_Amount</th>\n",
       "      <th>Process5_Week</th>\n",
       "    </tr>\n",
       "  </thead>\n",
       "  <tbody>\n",
       "    <tr>\n",
       "      <th>0</th>\n",
       "      <td>0</td>\n",
       "      <td>AUSTRIA</td>\n",
       "      <td>6859.19</td>\n",
       "      <td>1</td>\n",
       "      <td>6.0</td>\n",
       "      <td>AUSTRIA</td>\n",
       "      <td>6859.19</td>\n",
       "      <td>1.0</td>\n",
       "      <td>9.0</td>\n",
       "      <td>SLOVENIA</td>\n",
       "      <td>6859.19</td>\n",
       "      <td>4.0</td>\n",
       "      <td>11.0</td>\n",
       "      <td>SLOVENIA</td>\n",
       "      <td>6859.19</td>\n",
       "      <td>8.0</td>\n",
       "      <td>12.0</td>\n",
       "      <td>HUNGARY</td>\n",
       "      <td>6859.19</td>\n",
       "      <td>8.0</td>\n",
       "    </tr>\n",
       "    <tr>\n",
       "      <th>1</th>\n",
       "      <td>2</td>\n",
       "      <td>HUNGARY</td>\n",
       "      <td>300.00</td>\n",
       "      <td>1</td>\n",
       "      <td>5.0</td>\n",
       "      <td>HUNGARY</td>\n",
       "      <td>300.00</td>\n",
       "      <td>1.0</td>\n",
       "      <td>8.0</td>\n",
       "      <td>ROMANIA</td>\n",
       "      <td>300.00</td>\n",
       "      <td>4.0</td>\n",
       "      <td>15.0</td>\n",
       "      <td>ROMANIA</td>\n",
       "      <td>300.00</td>\n",
       "      <td>8.0</td>\n",
       "      <td>13.0</td>\n",
       "      <td>ROMANIA</td>\n",
       "      <td>300.00</td>\n",
       "      <td>8.0</td>\n",
       "    </tr>\n",
       "    <tr>\n",
       "      <th>2</th>\n",
       "      <td>0</td>\n",
       "      <td>AUSTRIA</td>\n",
       "      <td>1000.00</td>\n",
       "      <td>1</td>\n",
       "      <td>6.0</td>\n",
       "      <td>AUSTRIA</td>\n",
       "      <td>1000.00</td>\n",
       "      <td>1.0</td>\n",
       "      <td>9.0</td>\n",
       "      <td>SLOVENIA</td>\n",
       "      <td>1000.00</td>\n",
       "      <td>4.0</td>\n",
       "      <td>14.0</td>\n",
       "      <td>FRANCE</td>\n",
       "      <td>1000.00</td>\n",
       "      <td>8.0</td>\n",
       "      <td>22.0</td>\n",
       "      <td>MOLDOVA</td>\n",
       "      <td>1000.00</td>\n",
       "      <td>13.0</td>\n",
       "    </tr>\n",
       "    <tr>\n",
       "      <th>3</th>\n",
       "      <td>0</td>\n",
       "      <td>AUSTRIA</td>\n",
       "      <td>5000.00</td>\n",
       "      <td>1</td>\n",
       "      <td>7.0</td>\n",
       "      <td>AUSTRIA</td>\n",
       "      <td>5000.00</td>\n",
       "      <td>2.0</td>\n",
       "      <td>10.0</td>\n",
       "      <td>SLOVENIA</td>\n",
       "      <td>5000.00</td>\n",
       "      <td>5.0</td>\n",
       "      <td>17.0</td>\n",
       "      <td>FRANCE</td>\n",
       "      <td>5000.00</td>\n",
       "      <td>9.0</td>\n",
       "      <td>25.0</td>\n",
       "      <td>MOLDOVA</td>\n",
       "      <td>5000.00</td>\n",
       "      <td>18.0</td>\n",
       "    </tr>\n",
       "    <tr>\n",
       "      <th>4</th>\n",
       "      <td>0</td>\n",
       "      <td>AUSTRIA</td>\n",
       "      <td>6348.00</td>\n",
       "      <td>1</td>\n",
       "      <td>7.0</td>\n",
       "      <td>AUSTRIA</td>\n",
       "      <td>6348.00</td>\n",
       "      <td>2.0</td>\n",
       "      <td>24.0</td>\n",
       "      <td>SLOVENIA</td>\n",
       "      <td>6348.00</td>\n",
       "      <td>17.0</td>\n",
       "      <td>30.0</td>\n",
       "      <td>SLOVENIA</td>\n",
       "      <td>6348.00</td>\n",
       "      <td>23.0</td>\n",
       "      <td>29.0</td>\n",
       "      <td>BULGARIA</td>\n",
       "      <td>6348.00</td>\n",
       "      <td>23.0</td>\n",
       "    </tr>\n",
       "    <tr>\n",
       "      <th>5</th>\n",
       "      <td>0</td>\n",
       "      <td>AUSTRIA</td>\n",
       "      <td>17000.00</td>\n",
       "      <td>1</td>\n",
       "      <td>7.0</td>\n",
       "      <td>AUSTRIA</td>\n",
       "      <td>17000.00</td>\n",
       "      <td>2.0</td>\n",
       "      <td>10.0</td>\n",
       "      <td>SLOVENIA</td>\n",
       "      <td>17000.00</td>\n",
       "      <td>5.0</td>\n",
       "      <td>18.0</td>\n",
       "      <td>HUNGARY</td>\n",
       "      <td>17000.00</td>\n",
       "      <td>9.0</td>\n",
       "      <td>31.0</td>\n",
       "      <td>ROMANIA</td>\n",
       "      <td>17000.00</td>\n",
       "      <td>23.0</td>\n",
       "    </tr>\n",
       "    <tr>\n",
       "      <th>6</th>\n",
       "      <td>2</td>\n",
       "      <td>HUNGARY</td>\n",
       "      <td>10138.81</td>\n",
       "      <td>1</td>\n",
       "      <td>21.0</td>\n",
       "      <td>HUNGARY</td>\n",
       "      <td>10138.81</td>\n",
       "      <td>10.0</td>\n",
       "      <td>23.0</td>\n",
       "      <td>HUNGARY</td>\n",
       "      <td>10138.81</td>\n",
       "      <td>14.0</td>\n",
       "      <td>34.0</td>\n",
       "      <td>HUNGARY</td>\n",
       "      <td>10138.81</td>\n",
       "      <td>24.0</td>\n",
       "      <td>35.0</td>\n",
       "      <td>HUNGARY</td>\n",
       "      <td>10138.81</td>\n",
       "      <td>24.0</td>\n",
       "    </tr>\n",
       "    <tr>\n",
       "      <th>7</th>\n",
       "      <td>2</td>\n",
       "      <td>HUNGARY</td>\n",
       "      <td>1901.00</td>\n",
       "      <td>1</td>\n",
       "      <td>21.0</td>\n",
       "      <td>HUNGARY</td>\n",
       "      <td>1901.00</td>\n",
       "      <td>10.0</td>\n",
       "      <td>27.0</td>\n",
       "      <td>AUSTRIA</td>\n",
       "      <td>1901.00</td>\n",
       "      <td>20.0</td>\n",
       "      <td>37.0</td>\n",
       "      <td>SLOVENIA</td>\n",
       "      <td>1901.00</td>\n",
       "      <td>25.0</td>\n",
       "      <td>38.0</td>\n",
       "      <td>HUNGARY</td>\n",
       "      <td>1901.00</td>\n",
       "      <td>27.0</td>\n",
       "    </tr>\n",
       "    <tr>\n",
       "      <th>9</th>\n",
       "      <td>4</td>\n",
       "      <td>ROMANIA</td>\n",
       "      <td>1476.90</td>\n",
       "      <td>1</td>\n",
       "      <td>20.0</td>\n",
       "      <td>ROMANIA</td>\n",
       "      <td>1476.90</td>\n",
       "      <td>10.0</td>\n",
       "      <td>28.0</td>\n",
       "      <td>FRANCE</td>\n",
       "      <td>1476.90</td>\n",
       "      <td>22.0</td>\n",
       "      <td>39.0</td>\n",
       "      <td>FRANCE</td>\n",
       "      <td>4499.00</td>\n",
       "      <td>28.0</td>\n",
       "      <td>40.0</td>\n",
       "      <td>HUNGARY</td>\n",
       "      <td>4499.00</td>\n",
       "      <td>28.0</td>\n",
       "    </tr>\n",
       "    <tr>\n",
       "      <th>8</th>\n",
       "      <td>1</td>\n",
       "      <td>FRANCE</td>\n",
       "      <td>3022.10</td>\n",
       "      <td>1</td>\n",
       "      <td>19.0</td>\n",
       "      <td>FRANCE</td>\n",
       "      <td>3022.10</td>\n",
       "      <td>10.0</td>\n",
       "      <td>33.0</td>\n",
       "      <td>FRANCE</td>\n",
       "      <td>3022.10</td>\n",
       "      <td>24.0</td>\n",
       "      <td>NaN</td>\n",
       "      <td>NaN</td>\n",
       "      <td>NaN</td>\n",
       "      <td>NaN</td>\n",
       "      <td>NaN</td>\n",
       "      <td>NaN</td>\n",
       "      <td>NaN</td>\n",
       "      <td>NaN</td>\n",
       "    </tr>\n",
       "    <tr>\n",
       "      <th>10</th>\n",
       "      <td>2</td>\n",
       "      <td>HUNGARY</td>\n",
       "      <td>2500.00</td>\n",
       "      <td>1</td>\n",
       "      <td>21.0</td>\n",
       "      <td>HUNGARY</td>\n",
       "      <td>2500.00</td>\n",
       "      <td>10.0</td>\n",
       "      <td>26.0</td>\n",
       "      <td>SLOVENIA</td>\n",
       "      <td>2500.00</td>\n",
       "      <td>20.0</td>\n",
       "      <td>42.0</td>\n",
       "      <td>SLOVENIA</td>\n",
       "      <td>2500.00</td>\n",
       "      <td>28.0</td>\n",
       "      <td>41.0</td>\n",
       "      <td>HUNGARY</td>\n",
       "      <td>2500.00</td>\n",
       "      <td>28.0</td>\n",
       "    </tr>\n",
       "    <tr>\n",
       "      <th>11</th>\n",
       "      <td>4</td>\n",
       "      <td>ROMANIA</td>\n",
       "      <td>2074.53</td>\n",
       "      <td>1</td>\n",
       "      <td>20.0</td>\n",
       "      <td>ROMANIA</td>\n",
       "      <td>2074.53</td>\n",
       "      <td>10.0</td>\n",
       "      <td>32.0</td>\n",
       "      <td>ROMANIA</td>\n",
       "      <td>2074.53</td>\n",
       "      <td>23.0</td>\n",
       "      <td>43.0</td>\n",
       "      <td>ROMANIA</td>\n",
       "      <td>2074.53</td>\n",
       "      <td>28.0</td>\n",
       "      <td>44.0</td>\n",
       "      <td>ROMANIA</td>\n",
       "      <td>2074.53</td>\n",
       "      <td>28.0</td>\n",
       "    </tr>\n",
       "    <tr>\n",
       "      <th>12</th>\n",
       "      <td>3</td>\n",
       "      <td>GERMANY</td>\n",
       "      <td>312.47</td>\n",
       "      <td>1</td>\n",
       "      <td>16.0</td>\n",
       "      <td>ITALY</td>\n",
       "      <td>312.47</td>\n",
       "      <td>8.0</td>\n",
       "      <td>36.0</td>\n",
       "      <td>ITALY</td>\n",
       "      <td>312.47</td>\n",
       "      <td>24.0</td>\n",
       "      <td>45.0</td>\n",
       "      <td>ITALY</td>\n",
       "      <td>312.47</td>\n",
       "      <td>28.0</td>\n",
       "      <td>46.0</td>\n",
       "      <td>ROMANIA</td>\n",
       "      <td>312.47</td>\n",
       "      <td>28.0</td>\n",
       "    </tr>\n",
       "    <tr>\n",
       "      <th>13</th>\n",
       "      <td>4</td>\n",
       "      <td>ROMANIA</td>\n",
       "      <td>2000.00</td>\n",
       "      <td>1</td>\n",
       "      <td>20.0</td>\n",
       "      <td>ROMANIA</td>\n",
       "      <td>2000.00</td>\n",
       "      <td>10.0</td>\n",
       "      <td>32.0</td>\n",
       "      <td>ROMANIA</td>\n",
       "      <td>2000.00</td>\n",
       "      <td>23.0</td>\n",
       "      <td>43.0</td>\n",
       "      <td>ROMANIA</td>\n",
       "      <td>2000.00</td>\n",
       "      <td>28.0</td>\n",
       "      <td>47.0</td>\n",
       "      <td>MOLDOVA</td>\n",
       "      <td>2000.00</td>\n",
       "      <td>28.0</td>\n",
       "    </tr>\n",
       "  </tbody>\n",
       "</table>\n",
       "</div>"
      ],
      "text/plain": [
       "    Process1_id Process1_Cnt  Process1_Amount  Process1_Week  Process2_id   \n",
       "0             0      AUSTRIA          6859.19              1          6.0  \\\n",
       "1             2      HUNGARY           300.00              1          5.0   \n",
       "2             0      AUSTRIA          1000.00              1          6.0   \n",
       "3             0      AUSTRIA          5000.00              1          7.0   \n",
       "4             0      AUSTRIA          6348.00              1          7.0   \n",
       "5             0      AUSTRIA         17000.00              1          7.0   \n",
       "6             2      HUNGARY         10138.81              1         21.0   \n",
       "7             2      HUNGARY          1901.00              1         21.0   \n",
       "9             4      ROMANIA          1476.90              1         20.0   \n",
       "8             1       FRANCE          3022.10              1         19.0   \n",
       "10            2      HUNGARY          2500.00              1         21.0   \n",
       "11            4      ROMANIA          2074.53              1         20.0   \n",
       "12            3      GERMANY           312.47              1         16.0   \n",
       "13            4      ROMANIA          2000.00              1         20.0   \n",
       "\n",
       "   Process2_Cnt  Process2_Amount  Process2_Week  Process3_id Process3_Cnt   \n",
       "0       AUSTRIA          6859.19            1.0          9.0     SLOVENIA  \\\n",
       "1       HUNGARY           300.00            1.0          8.0      ROMANIA   \n",
       "2       AUSTRIA          1000.00            1.0          9.0     SLOVENIA   \n",
       "3       AUSTRIA          5000.00            2.0         10.0     SLOVENIA   \n",
       "4       AUSTRIA          6348.00            2.0         24.0     SLOVENIA   \n",
       "5       AUSTRIA         17000.00            2.0         10.0     SLOVENIA   \n",
       "6       HUNGARY         10138.81           10.0         23.0      HUNGARY   \n",
       "7       HUNGARY          1901.00           10.0         27.0      AUSTRIA   \n",
       "9       ROMANIA          1476.90           10.0         28.0       FRANCE   \n",
       "8        FRANCE          3022.10           10.0         33.0       FRANCE   \n",
       "10      HUNGARY          2500.00           10.0         26.0     SLOVENIA   \n",
       "11      ROMANIA          2074.53           10.0         32.0      ROMANIA   \n",
       "12        ITALY           312.47            8.0         36.0        ITALY   \n",
       "13      ROMANIA          2000.00           10.0         32.0      ROMANIA   \n",
       "\n",
       "    Process3_Amount  Process3_Week  Process4_id Process4_Cnt  Process4_Amount   \n",
       "0           6859.19            4.0         11.0     SLOVENIA          6859.19  \\\n",
       "1            300.00            4.0         15.0      ROMANIA           300.00   \n",
       "2           1000.00            4.0         14.0       FRANCE          1000.00   \n",
       "3           5000.00            5.0         17.0       FRANCE          5000.00   \n",
       "4           6348.00           17.0         30.0     SLOVENIA          6348.00   \n",
       "5          17000.00            5.0         18.0      HUNGARY         17000.00   \n",
       "6          10138.81           14.0         34.0      HUNGARY         10138.81   \n",
       "7           1901.00           20.0         37.0     SLOVENIA          1901.00   \n",
       "9           1476.90           22.0         39.0       FRANCE          4499.00   \n",
       "8           3022.10           24.0          NaN          NaN              NaN   \n",
       "10          2500.00           20.0         42.0     SLOVENIA          2500.00   \n",
       "11          2074.53           23.0         43.0      ROMANIA          2074.53   \n",
       "12           312.47           24.0         45.0        ITALY           312.47   \n",
       "13          2000.00           23.0         43.0      ROMANIA          2000.00   \n",
       "\n",
       "    Process4_Week  Process5_id Process5_Cnt  Process5_Amount  Process5_Week  \n",
       "0             8.0         12.0      HUNGARY          6859.19            8.0  \n",
       "1             8.0         13.0      ROMANIA           300.00            8.0  \n",
       "2             8.0         22.0      MOLDOVA          1000.00           13.0  \n",
       "3             9.0         25.0      MOLDOVA          5000.00           18.0  \n",
       "4            23.0         29.0     BULGARIA          6348.00           23.0  \n",
       "5             9.0         31.0      ROMANIA         17000.00           23.0  \n",
       "6            24.0         35.0      HUNGARY         10138.81           24.0  \n",
       "7            25.0         38.0      HUNGARY          1901.00           27.0  \n",
       "9            28.0         40.0      HUNGARY          4499.00           28.0  \n",
       "8             NaN          NaN          NaN              NaN            NaN  \n",
       "10           28.0         41.0      HUNGARY          2500.00           28.0  \n",
       "11           28.0         44.0      ROMANIA          2074.53           28.0  \n",
       "12           28.0         46.0      ROMANIA           312.47           28.0  \n",
       "13           28.0         47.0      MOLDOVA          2000.00           28.0  "
      ]
     },
     "execution_count": 54,
     "metadata": {},
     "output_type": "execute_result"
    }
   ],
   "source": [
    "input1_solution.demands"
   ]
  },
  {
   "cell_type": "code",
   "execution_count": 55,
   "metadata": {},
   "outputs": [
    {
     "data": {
      "image/png": "[encoded data removed]",
      "text/plain": [
       "<Figure size 1000x1000 with 1 Axes>"
      ]
     },
     "metadata": {},
     "output_type": "display_data"
    }
   ],
   "source": [
    "input1_solution.visualize()"
   ]
  },
  {
   "cell_type": "code",
   "execution_count": 76,
   "metadata": {},
   "outputs": [
    {
     "data": {
      "application/vnd.plotly.v1+json": {
       "config": {
        "plotlyServerURL": "https://plot.ly"
       },
       "data": [
        {
         "line": {
          "color": "black",
          "width": 1.8420809314234836
         },
         "mode": "lines",
         "type": "scatter",
         "x": [
          0,
          0.25,
          null
         ],
         "y": [
          0,
          0.14285714285714285,
          null
         ]
        },
        {
         "hovertemplate": "%{text}",
         "marker": {
          "color": "black",
          "opacity": 0,
          "size": 20
         },
         "mode": "markers",
         "text": [
          "Amount: 7859.19"
         ],
         "type": "scatter",
         "x": [
          0.125
         ],
         "y": [
          0.07142857142857142
         ]
        },
        {
         "line": {
          "color": "black",
          "width": 4.124499577939682
         },
         "mode": "lines",
         "type": "scatter",
         "x": [
          0,
          0.25,
          null
         ],
         "y": [
          0,
          0.2857142857142857,
          null
         ]
        },
        {
         "hovertemplate": "%{text}",
         "marker": {
          "color": "black",
          "opacity": 0,
          "size": 20
         },
         "mode": "markers",
         "text": [
          "Amount: 28348.0"
         ],
         "type": "scatter",
         "x": [
          0.125
         ],
         "y": [
          0.14285714285714285
         ]
        },
        {
         "line": {
          "color": "black",
          "width": 1.3032373182084145
         },
         "mode": "lines",
         "type": "scatter",
         "x": [
          0,
          0.25,
          null
         ],
         "y": [
          0.2,
          0.5714285714285714,
          null
         ]
        },
        {
         "hovertemplate": "%{text}",
         "marker": {
          "color": "black",
          "opacity": 0,
          "size": 20
         },
         "mode": "markers",
         "text": [
          "Amount: 3022.1"
         ],
         "type": "scatter",
         "x": [
          0.125
         ],
         "y": [
          0.3857142857142857
         ]
        },
        {
         "line": {
          "color": "black",
          "width": 1
         },
         "mode": "lines",
         "type": "scatter",
         "x": [
          0,
          0.25,
          null
         ],
         "y": [
          0.4,
          0,
          null
         ]
        },
        {
         "hovertemplate": "%{text}",
         "marker": {
          "color": "black",
          "opacity": 0,
          "size": 20
         },
         "mode": "markers",
         "text": [
          "Amount: 300.0"
         ],
         "type": "scatter",
         "x": [
          0.125
         ],
         "y": [
          0.2
         ]
        },
        {
         "line": {
          "color": "black",
          "width": 2.586290656550958
         },
         "mode": "lines",
         "type": "scatter",
         "x": [
          0,
          0.25,
          null
         ],
         "y": [
          0.4,
          0.8571428571428571,
          null
         ]
        },
        {
         "hovertemplate": "%{text}",
         "marker": {
          "color": "black",
          "opacity": 0,
          "size": 20
         },
         "mode": "markers",
         "text": [
          "Amount: 14539.81"
         ],
         "type": "scatter",
         "x": [
          0.125
         ],
         "y": [
          0.6285714285714286
         ]
        },
        {
         "line": {
          "color": "black",
          "width": 1.001389136827471
         },
         "mode": "lines",
         "type": "scatter",
         "x": [
          0,
          0.25,
          null
         ],
         "y": [
          0.6000000000000001,
          0.42857142857142855,
          null
         ]
        },
        {
         "hovertemplate": "%{text}",
         "marker": {
          "color": "black",
          "opacity": 0,
          "size": 20
         },
         "mode": "markers",
         "text": [
          "Amount: 312.47"
         ],
         "type": "scatter",
         "x": [
          0.125
         ],
         "y": [
          0.5142857142857143
         ]
        },
        {
         "line": {
          "color": "black",
          "width": 1.585000385716621
         },
         "mode": "lines",
         "type": "scatter",
         "x": [
          0,
          0.25,
          null
         ],
         "y": [
          0.8,
          0.7142857142857142,
          null
         ]
        },
        {
         "hovertemplate": "%{text}",
         "marker": {
          "color": "black",
          "opacity": 0,
          "size": 20
         },
         "mode": "markers",
         "text": [
          "Amount: 5551.43"
         ],
         "type": "scatter",
         "x": [
          0.125
         ],
         "y": [
          0.7571428571428571
         ]
        },
        {
         "line": {
          "color": "black",
          "width": 1
         },
         "mode": "lines",
         "type": "scatter",
         "x": [
          0.25,
          0.5,
          null
         ],
         "y": [
          0,
          0,
          null
         ]
        },
        {
         "hovertemplate": "%{text}",
         "marker": {
          "color": "black",
          "opacity": 0,
          "size": 20
         },
         "mode": "markers",
         "text": [
          "Amount: 300.0"
         ],
         "type": "scatter",
         "x": [
          0.375
         ],
         "y": [
          0
         ]
        },
        {
         "line": {
          "color": "black",
          "width": 1.8420809314234836
         },
         "mode": "lines",
         "type": "scatter",
         "x": [
          0.25,
          0.5,
          null
         ],
         "y": [
          0.14285714285714285,
          0.09090909090909091,
          null
         ]
        },
        {
         "hovertemplate": "%{text}",
         "marker": {
          "color": "black",
          "opacity": 0,
          "size": 20
         },
         "mode": "markers",
         "text": [
          "Amount: 7859.19"
         ],
         "type": "scatter",
         "x": [
          0.375
         ],
         "y": [
          0.11688311688311688
         ]
        },
        {
         "line": {
          "color": "black",
          "width": 3.4173431560642866
         },
         "mode": "lines",
         "type": "scatter",
         "x": [
          0.25,
          0.5,
          null
         ],
         "y": [
          0.2857142857142857,
          0.18181818181818182,
          null
         ]
        },
        {
         "hovertemplate": "%{text}",
         "marker": {
          "color": "black",
          "opacity": 0,
          "size": 20
         },
         "mode": "markers",
         "text": [
          "Amount: 22000.0"
         ],
         "type": "scatter",
         "x": [
          0.375
         ],
         "y": [
          0.23376623376623376
         ]
        },
        {
         "line": {
          "color": "black",
          "width": 1.6737369312385626
         },
         "mode": "lines",
         "type": "scatter",
         "x": [
          0.25,
          0.5,
          null
         ],
         "y": [
          0.2857142857142857,
          0.36363636363636365,
          null
         ]
        },
        {
         "hovertemplate": "%{text}",
         "marker": {
          "color": "black",
          "opacity": 0,
          "size": 20
         },
         "mode": "markers",
         "text": [
          "Amount: 6348.0"
         ],
         "type": "scatter",
         "x": [
          0.375
         ],
         "y": [
          0.3246753246753247
         ]
        },
        {
         "line": {
          "color": "black",
          "width": 1.001389136827471
         },
         "mode": "lines",
         "type": "scatter",
         "x": [
          0.25,
          0.5,
          null
         ],
         "y": [
          0.42857142857142855,
          0.9090909090909092,
          null
         ]
        },
        {
         "hovertemplate": "%{text}",
         "marker": {
          "color": "black",
          "opacity": 0,
          "size": 20
         },
         "mode": "markers",
         "text": [
          "Amount: 312.47"
         ],
         "type": "scatter",
         "x": [
          0.375
         ],
         "y": [
          0.6688311688311689
         ]
        },
        {
         "line": {
          "color": "black",
          "width": 1.3032373182084145
         },
         "mode": "lines",
         "type": "scatter",
         "x": [
          0.25,
          0.5,
          null
         ],
         "y": [
          0.5714285714285714,
          0.8181818181818182,
          null
         ]
        },
        {
         "hovertemplate": "%{text}",
         "marker": {
          "color": "black",
          "opacity": 0,
          "size": 20
         },
         "mode": "markers",
         "text": [
          "Amount: 3022.1"
         ],
         "type": "scatter",
         "x": [
          0.375
         ],
         "y": [
          0.6948051948051948
         ]
        },
        {
         "line": {
          "color": "black",
          "width": 1.1311046617682976
         },
         "mode": "lines",
         "type": "scatter",
         "x": [
          0.25,
          0.5,
          null
         ],
         "y": [
          0.7142857142857142,
          0.6363636363636364,
          null
         ]
        },
        {
         "hovertemplate": "%{text}",
         "marker": {
          "color": "black",
          "opacity": 0,
          "size": 20
         },
         "mode": "markers",
         "text": [
          "Amount: 1476.9"
         ],
         "type": "scatter",
         "x": [
          0.375
         ],
         "y": [
          0.6753246753246753
         ]
        },
        {
         "line": {
          "color": "black",
          "width": 1.42047623331149
         },
         "mode": "lines",
         "type": "scatter",
         "x": [
          0.25,
          0.5,
          null
         ],
         "y": [
          0.7142857142857142,
          0.7272727272727273,
          null
         ]
        },
        {
         "hovertemplate": "%{text}",
         "marker": {
          "color": "black",
          "opacity": 0,
          "size": 20
         },
         "mode": "markers",
         "text": [
          "Amount: 4074.53"
         ],
         "type": "scatter",
         "x": [
          0.375
         ],
         "y": [
          0.7207792207792207
         ]
        },
        {
         "line": {
          "color": "black",
          "width": 2.096026728908611
         },
         "mode": "lines",
         "type": "scatter",
         "x": [
          0.25,
          0.5,
          null
         ],
         "y": [
          0.8571428571428571,
          0.2727272727272727,
          null
         ]
        },
        {
         "hovertemplate": "%{text}",
         "marker": {
          "color": "black",
          "opacity": 0,
          "size": 20
         },
         "mode": "markers",
         "text": [
          "Amount: 10138.81"
         ],
         "type": "scatter",
         "x": [
          0.375
         ],
         "y": [
          0.5649350649350648
         ]
        },
        {
         "line": {
          "color": "black",
          "width": 1.2450762646701121
         },
         "mode": "lines",
         "type": "scatter",
         "x": [
          0.25,
          0.5,
          null
         ],
         "y": [
          0.8571428571428571,
          0.4545454545454546,
          null
         ]
        },
        {
         "hovertemplate": "%{text}",
         "marker": {
          "color": "black",
          "opacity": 0,
          "size": 20
         },
         "mode": "markers",
         "text": [
          "Amount: 2500.0"
         ],
         "type": "scatter",
         "x": [
          0.375
         ],
         "y": [
          0.6558441558441559
         ]
        },
        {
         "line": {
          "color": "black",
          "width": 1.178348681698568
         },
         "mode": "lines",
         "type": "scatter",
         "x": [
          0.25,
          0.5,
          null
         ],
         "y": [
          0.8571428571428571,
          0.5454545454545454,
          null
         ]
        },
        {
         "hovertemplate": "%{text}",
         "marker": {
          "color": "black",
          "opacity": 0,
          "size": 20
         },
         "mode": "markers",
         "text": [
          "Amount: 1901.0"
         ],
         "type": "scatter",
         "x": [
          0.375
         ],
         "y": [
          0.7012987012987013
         ]
        },
        {
         "line": {
          "color": "black",
          "width": 1
         },
         "mode": "lines",
         "type": "scatter",
         "x": [
          0.5,
          0.75,
          null
         ],
         "y": [
          0,
          0.16666666666666666,
          null
         ]
        },
        {
         "hovertemplate": "%{text}",
         "marker": {
          "color": "black",
          "opacity": 0,
          "size": 20
         },
         "mode": "markers",
         "text": [
          "Amount: 300.0"
         ],
         "type": "scatter",
         "x": [
          0.625
         ],
         "y": [
          0.08333333333333333
         ]
        },
        {
         "line": {
          "color": "black",
          "width": 1.7306826293007054
         },
         "mode": "lines",
         "type": "scatter",
         "x": [
          0.5,
          0.75,
          null
         ],
         "y": [
          0.09090909090909091,
          0,
          null
         ]
        },
        {
         "hovertemplate": "%{text}",
         "marker": {
          "color": "black",
          "opacity": 0,
          "size": 20
         },
         "mode": "markers",
         "text": [
          "Amount: 6859.19"
         ],
         "type": "scatter",
         "x": [
          0.625
         ],
         "y": [
          0.045454545454545456
         ]
        },
        {
         "line": {
          "color": "black",
          "width": 1.0779788114859448
         },
         "mode": "lines",
         "type": "scatter",
         "x": [
          0.5,
          0.75,
          null
         ],
         "y": [
          0.09090909090909091,
          0.08333333333333333,
          null
         ]
        },
        {
         "hovertemplate": "%{text}",
         "marker": {
          "color": "black",
          "opacity": 0,
          "size": 20
         },
         "mode": "markers",
         "text": [
          "Amount: 1000.0"
         ],
         "type": "scatter",
         "x": [
          0.625
         ],
         "y": [
          0.08712121212121213
         ]
        },
        {
         "line": {
          "color": "black",
          "width": 1.5235720199770575
         },
         "mode": "lines",
         "type": "scatter",
         "x": [
          0.5,
          0.75,
          null
         ],
         "y": [
          0.18181818181818182,
          0.25,
          null
         ]
        },
        {
         "hovertemplate": "%{text}",
         "marker": {
          "color": "black",
          "opacity": 0,
          "size": 20
         },
         "mode": "markers",
         "text": [
          "Amount: 5000.0"
         ],
         "type": "scatter",
         "x": [
          0.625
         ],
         "y": [
          0.2159090909090909
         ]
        },
        {
         "line": {
          "color": "black",
          "width": 2.860351645450396
         },
         "mode": "lines",
         "type": "scatter",
         "x": [
          0.5,
          0.75,
          null
         ],
         "y": [
          0.18181818181818182,
          0.3333333333333333,
          null
         ]
        },
        {
         "hovertemplate": "%{text}",
         "marker": {
          "color": "black",
          "opacity": 0,
          "size": 20
         },
         "mode": "markers",
         "text": [
          "Amount: 17000.0"
         ],
         "type": "scatter",
         "x": [
          0.625
         ],
         "y": [
          0.25757575757575757
         ]
        },
        {
         "line": {
          "color": "black",
          "width": 2.096026728908611
         },
         "mode": "lines",
         "type": "scatter",
         "x": [
          0.5,
          0.75,
          null
         ],
         "y": [
          0.2727272727272727,
          0.5,
          null
         ]
        },
        {
         "hovertemplate": "%{text}",
         "marker": {
          "color": "black",
          "opacity": 0,
          "size": 20
         },
         "mode": "markers",
         "text": [
          "Amount: 10138.81"
         ],
         "type": "scatter",
         "x": [
          0.625
         ],
         "y": [
          0.38636363636363635
         ]
        },
        {
         "line": {
          "color": "black",
          "width": 1.6737369312385626
         },
         "mode": "lines",
         "type": "scatter",
         "x": [
          0.5,
          0.75,
          null
         ],
         "y": [
          0.36363636363636365,
          0.41666666666666663,
          null
         ]
        },
        {
         "hovertemplate": "%{text}",
         "marker": {
          "color": "black",
          "opacity": 0,
          "size": 20
         },
         "mode": "markers",
         "text": [
          "Amount: 6348.0"
         ],
         "type": "scatter",
         "x": [
          0.625
         ],
         "y": [
          0.39015151515151514
         ]
        },
        {
         "line": {
          "color": "black",
          "width": 1.2450762646701121
         },
         "mode": "lines",
         "type": "scatter",
         "x": [
          0.5,
          0.75,
          null
         ],
         "y": [
          0.4545454545454546,
          0.75,
          null
         ]
        },
        {
         "hovertemplate": "%{text}",
         "marker": {
          "color": "black",
          "opacity": 0,
          "size": 20
         },
         "mode": "markers",
         "text": [
          "Amount: 2500.0"
         ],
         "type": "scatter",
         "x": [
          0.625
         ],
         "y": [
          0.6022727272727273
         ]
        },
        {
         "line": {
          "color": "black",
          "width": 1.178348681698568
         },
         "mode": "lines",
         "type": "scatter",
         "x": [
          0.5,
          0.75,
          null
         ],
         "y": [
          0.5454545454545454,
          0.5833333333333333,
          null
         ]
        },
        {
         "hovertemplate": "%{text}",
         "marker": {
          "color": "black",
          "opacity": 0,
          "size": 20
         },
         "mode": "markers",
         "text": [
          "Amount: 1901.0"
         ],
         "type": "scatter",
         "x": [
          0.625
         ],
         "y": [
          0.5643939393939393
         ]
        },
        {
         "line": {
          "color": "black",
          "width": 1.1311046617682976
         },
         "mode": "lines",
         "type": "scatter",
         "x": [
          0.5,
          0.75,
          null
         ],
         "y": [
          0.6363636363636364,
          0.6666666666666666,
          null
         ]
        },
        {
         "hovertemplate": "%{text}",
         "marker": {
          "color": "black",
          "opacity": 0,
          "size": 20
         },
         "mode": "markers",
         "text": [
          "Amount: 1476.9"
         ],
         "type": "scatter",
         "x": [
          0.625
         ],
         "y": [
          0.6515151515151515
         ]
        },
        {
         "line": {
          "color": "black",
          "width": 1.42047623331149
         },
         "mode": "lines",
         "type": "scatter",
         "x": [
          0.5,
          0.75,
          null
         ],
         "y": [
          0.7272727272727273,
          0.8333333333333333,
          null
         ]
        },
        {
         "hovertemplate": "%{text}",
         "marker": {
          "color": "black",
          "opacity": 0,
          "size": 20
         },
         "mode": "markers",
         "text": [
          "Amount: 4074.53"
         ],
         "type": "scatter",
         "x": [
          0.625
         ],
         "y": [
          0.7803030303030303
         ]
        },
        {
         "line": {
          "color": "black",
          "width": 1.3032373182084145
         },
         "mode": "lines",
         "type": "scatter",
         "x": [
          0.5,
          0.75,
          null
         ],
         "y": [
          0.8181818181818182,
          0.6666666666666666,
          null
         ]
        },
        {
         "hovertemplate": "%{text}",
         "marker": {
          "color": "black",
          "opacity": 0,
          "size": 20
         },
         "mode": "markers",
         "text": [
          "Amount: 3022.1"
         ],
         "type": "scatter",
         "x": [
          0.625
         ],
         "y": [
          0.7424242424242424
         ]
        },
        {
         "line": {
          "color": "black",
          "width": 1.001389136827471
         },
         "mode": "lines",
         "type": "scatter",
         "x": [
          0.5,
          0.75,
          null
         ],
         "y": [
          0.9090909090909092,
          0.9166666666666666,
          null
         ]
        },
        {
         "hovertemplate": "%{text}",
         "marker": {
          "color": "black",
          "opacity": 0,
          "size": 20
         },
         "mode": "markers",
         "text": [
          "Amount: 312.47"
         ],
         "type": "scatter",
         "x": [
          0.625
         ],
         "y": [
          0.9128787878787878
         ]
        },
        {
         "line": {
          "color": "black",
          "width": 1.7306826293007054
         },
         "mode": "lines",
         "type": "scatter",
         "x": [
          0.75,
          1,
          null
         ],
         "y": [
          0,
          0,
          null
         ]
        },
        {
         "hovertemplate": "%{text}",
         "marker": {
          "color": "black",
          "opacity": 0,
          "size": 20
         },
         "mode": "markers",
         "text": [
          "Amount: 6859.19"
         ],
         "type": "scatter",
         "x": [
          0.875
         ],
         "y": [
          0
         ]
        },
        {
         "line": {
          "color": "black",
          "width": 1.0779788114859448
         },
         "mode": "lines",
         "type": "scatter",
         "x": [
          0.75,
          1,
          null
         ],
         "y": [
          0.08333333333333333,
          0.15384615384615385,
          null
         ]
        },
        {
         "hovertemplate": "%{text}",
         "marker": {
          "color": "black",
          "opacity": 0,
          "size": 20
         },
         "mode": "markers",
         "text": [
          "Amount: 1000.0"
         ],
         "type": "scatter",
         "x": [
          0.875
         ],
         "y": [
          0.11858974358974358
         ]
        },
        {
         "line": {
          "color": "black",
          "width": 1
         },
         "mode": "lines",
         "type": "scatter",
         "x": [
          0.75,
          1,
          null
         ],
         "y": [
          0.16666666666666666,
          0.07692307692307693,
          null
         ]
        },
        {
         "hovertemplate": "%{text}",
         "marker": {
          "color": "black",
          "opacity": 0,
          "size": 20
         },
         "mode": "markers",
         "text": [
          "Amount: 300.0"
         ],
         "type": "scatter",
         "x": [
          0.875
         ],
         "y": [
          0.12179487179487179
         ]
        },
        {
         "line": {
          "color": "black",
          "width": 1.5235720199770575
         },
         "mode": "lines",
         "type": "scatter",
         "x": [
          0.75,
          1,
          null
         ],
         "y": [
          0.25,
          0.23076923076923078,
          null
         ]
        },
        {
         "hovertemplate": "%{text}",
         "marker": {
          "color": "black",
          "opacity": 0,
          "size": 20
         },
         "mode": "markers",
         "text": [
          "Amount: 5000.0"
         ],
         "type": "scatter",
         "x": [
          0.875
         ],
         "y": [
          0.2403846153846154
         ]
        },
        {
         "line": {
          "color": "black",
          "width": 2.860351645450396
         },
         "mode": "lines",
         "type": "scatter",
         "x": [
          0.75,
          1,
          null
         ],
         "y": [
          0.3333333333333333,
          0.38461538461538464,
          null
         ]
        },
        {
         "hovertemplate": "%{text}",
         "marker": {
          "color": "black",
          "opacity": 0,
          "size": 20
         },
         "mode": "markers",
         "text": [
          "Amount: 17000.0"
         ],
         "type": "scatter",
         "x": [
          0.875
         ],
         "y": [
          0.358974358974359
         ]
        },
        {
         "line": {
          "color": "black",
          "width": 1.6737369312385626
         },
         "mode": "lines",
         "type": "scatter",
         "x": [
          0.75,
          1,
          null
         ],
         "y": [
          0.41666666666666663,
          0.3076923076923077,
          null
         ]
        },
        {
         "hovertemplate": "%{text}",
         "marker": {
          "color": "black",
          "opacity": 0,
          "size": 20
         },
         "mode": "markers",
         "text": [
          "Amount: 6348.0"
         ],
         "type": "scatter",
         "x": [
          0.875
         ],
         "y": [
          0.36217948717948717
         ]
        },
        {
         "line": {
          "color": "black",
          "width": 2.096026728908611
         },
         "mode": "lines",
         "type": "scatter",
         "x": [
          0.75,
          1,
          null
         ],
         "y": [
          0.5,
          0.46153846153846156,
          null
         ]
        },
        {
         "hovertemplate": "%{text}",
         "marker": {
          "color": "black",
          "opacity": 0,
          "size": 20
         },
         "mode": "markers",
         "text": [
          "Amount: 10138.81"
         ],
         "type": "scatter",
         "x": [
          0.875
         ],
         "y": [
          0.4807692307692308
         ]
        },
        {
         "line": {
          "color": "black",
          "width": 1.178348681698568
         },
         "mode": "lines",
         "type": "scatter",
         "x": [
          0.75,
          1,
          null
         ],
         "y": [
          0.5833333333333333,
          0.5384615384615385,
          null
         ]
        },
        {
         "hovertemplate": "%{text}",
         "marker": {
          "color": "black",
          "opacity": 0,
          "size": 20
         },
         "mode": "markers",
         "text": [
          "Amount: 1901.0"
         ],
         "type": "scatter",
         "x": [
          0.875
         ],
         "y": [
          0.5608974358974359
         ]
        },
        {
         "line": {
          "color": "black",
          "width": 1.4677614706135456
         },
         "mode": "lines",
         "type": "scatter",
         "x": [
          0.75,
          1,
          null
         ],
         "y": [
          0.6666666666666666,
          0.6153846153846154,
          null
         ]
        },
        {
         "hovertemplate": "%{text}",
         "marker": {
          "color": "black",
          "opacity": 0,
          "size": 20
         },
         "mode": "markers",
         "text": [
          "Amount: 4499.0"
         ],
         "type": "scatter",
         "x": [
          0.875
         ],
         "y": [
          0.641025641025641
         ]
        },
        {
         "line": {
          "color": "black",
          "width": 1.2450762646701121
         },
         "mode": "lines",
         "type": "scatter",
         "x": [
          0.75,
          1,
          null
         ],
         "y": [
          0.75,
          0.6923076923076923,
          null
         ]
        },
        {
         "hovertemplate": "%{text}",
         "marker": {
          "color": "black",
          "opacity": 0,
          "size": 20
         },
         "mode": "markers",
         "text": [
          "Amount: 2500.0"
         ],
         "type": "scatter",
         "x": [
          0.875
         ],
         "y": [
          0.7211538461538461
         ]
        },
        {
         "line": {
          "color": "black",
          "width": 1.1976796290659335
         },
         "mode": "lines",
         "type": "scatter",
         "x": [
          0.75,
          1,
          null
         ],
         "y": [
          0.8333333333333333,
          0.7692307692307693,
          null
         ]
        },
        {
         "hovertemplate": "%{text}",
         "marker": {
          "color": "black",
          "opacity": 0,
          "size": 20
         },
         "mode": "markers",
         "text": [
          "Amount: 2074.53"
         ],
         "type": "scatter",
         "x": [
          0.875
         ],
         "y": [
          0.8012820512820513
         ]
        },
        {
         "line": {
          "color": "black",
          "width": 1.189377113608723
         },
         "mode": "lines",
         "type": "scatter",
         "x": [
          0.75,
          1,
          null
         ],
         "y": [
          0.8333333333333333,
          0.9230769230769231,
          null
         ]
        },
        {
         "hovertemplate": "%{text}",
         "marker": {
          "color": "black",
          "opacity": 0,
          "size": 20
         },
         "mode": "markers",
         "text": [
          "Amount: 2000.0"
         ],
         "type": "scatter",
         "x": [
          0.875
         ],
         "y": [
          0.8782051282051282
         ]
        },
        {
         "line": {
          "color": "black",
          "width": 1.001389136827471
         },
         "mode": "lines",
         "type": "scatter",
         "x": [
          0.75,
          1,
          null
         ],
         "y": [
          0.9166666666666666,
          0.8461538461538463,
          null
         ]
        },
        {
         "hovertemplate": "%{text}",
         "marker": {
          "color": "black",
          "opacity": 0,
          "size": 20
         },
         "mode": "markers",
         "text": [
          "Amount: 312.47"
         ],
         "type": "scatter",
         "x": [
          0.875
         ],
         "y": [
          0.8814102564102564
         ]
        },
        {
         "hovertemplate": "%{text}",
         "marker": {
          "color": "#1f77b4",
          "size": 25
         },
         "mode": "markers",
         "text": [
          "Id: 0<br>Process: Sourcing<br>Location: AUSTRIA<br>Amount: 36207.19<br>Week: 1"
         ],
         "type": "scatter",
         "x": [
          0
         ],
         "y": [
          0
         ]
        },
        {
         "hovertemplate": "%{text}",
         "marker": {
          "color": "#1f77b4",
          "size": 25
         },
         "mode": "markers",
         "text": [
          "Id: 1<br>Process: Sourcing<br>Location: FRANCE<br>Amount: 3022.1<br>Week: 1"
         ],
         "type": "scatter",
         "x": [
          0
         ],
         "y": [
          0.2
         ]
        },
        {
         "hovertemplate": "%{text}",
         "marker": {
          "color": "#1f77b4",
          "size": 25
         },
         "mode": "markers",
         "text": [
          "Id: 2<br>Process: Sourcing<br>Location: HUNGARY<br>Amount: 14839.81<br>Week: 1"
         ],
         "type": "scatter",
         "x": [
          0
         ],
         "y": [
          0.4
         ]
        },
        {
         "hovertemplate": "%{text}",
         "marker": {
          "color": "#1f77b4",
          "size": 25
         },
         "mode": "markers",
         "text": [
          "Id: 3<br>Process: Sourcing<br>Location: GERMANY<br>Amount: 312.47<br>Week: 1"
         ],
         "type": "scatter",
         "x": [
          0
         ],
         "y": [
          0.6000000000000001
         ]
        },
        {
         "hovertemplate": "%{text}",
         "marker": {
          "color": "#1f77b4",
          "size": 25
         },
         "mode": "markers",
         "text": [
          "Id: 4<br>Process: Sourcing<br>Location: ROMANIA<br>Amount: 5551.43<br>Week: 1"
         ],
         "type": "scatter",
         "x": [
          0
         ],
         "y": [
          0.8
         ]
        },
        {
         "hovertemplate": "%{text}",
         "marker": {
          "color": "#ff7f0e",
          "size": 25
         },
         "mode": "markers",
         "text": [
          "Id: 5<br>Process: Conditioning<br>Location: HUNGARY<br>Amount: 300.0<br>Week: 1"
         ],
         "type": "scatter",
         "x": [
          0.25
         ],
         "y": [
          0
         ]
        },
        {
         "hovertemplate": "%{text}",
         "marker": {
          "color": "#ff7f0e",
          "size": 25
         },
         "mode": "markers",
         "text": [
          "Id: 6<br>Process: Conditioning<br>Location: AUSTRIA<br>Amount: 7859.19<br>Week: 1"
         ],
         "type": "scatter",
         "x": [
          0.25
         ],
         "y": [
          0.14285714285714285
         ]
        },
        {
         "hovertemplate": "%{text}",
         "marker": {
          "color": "#ff7f0e",
          "size": 25
         },
         "mode": "markers",
         "text": [
          "Id: 7<br>Process: Conditioning<br>Location: AUSTRIA<br>Amount: 28348.0<br>Week: 2"
         ],
         "type": "scatter",
         "x": [
          0.25
         ],
         "y": [
          0.2857142857142857
         ]
        },
        {
         "hovertemplate": "%{text}",
         "marker": {
          "color": "#ff7f0e",
          "size": 25
         },
         "mode": "markers",
         "text": [
          "Id: 16<br>Process: Conditioning<br>Location: ITALY<br>Amount: 312.47<br>Week: 8"
         ],
         "type": "scatter",
         "x": [
          0.25
         ],
         "y": [
          0.42857142857142855
         ]
        },
        {
         "hovertemplate": "%{text}",
         "marker": {
          "color": "#ff7f0e",
          "size": 25
         },
         "mode": "markers",
         "text": [
          "Id: 19<br>Process: Conditioning<br>Location: FRANCE<br>Amount: 3022.1<br>Week: 10"
         ],
         "type": "scatter",
         "x": [
          0.25
         ],
         "y": [
          0.5714285714285714
         ]
        },
        {
         "hovertemplate": "%{text}",
         "marker": {
          "color": "#ff7f0e",
          "size": 25
         },
         "mode": "markers",
         "text": [
          "Id: 20<br>Process: Conditioning<br>Location: ROMANIA<br>Amount: 5551.43<br>Week: 10"
         ],
         "type": "scatter",
         "x": [
          0.25
         ],
         "y": [
          0.7142857142857142
         ]
        },
        {
         "hovertemplate": "%{text}",
         "marker": {
          "color": "#ff7f0e",
          "size": 25
         },
         "mode": "markers",
         "text": [
          "Id: 21<br>Process: Conditioning<br>Location: HUNGARY<br>Amount: 14539.81<br>Week: 10"
         ],
         "type": "scatter",
         "x": [
          0.25
         ],
         "y": [
          0.8571428571428571
         ]
        },
        {
         "hovertemplate": "%{text}",
         "marker": {
          "color": "#2ca02c",
          "size": 25
         },
         "mode": "markers",
         "text": [
          "Id: 8<br>Process: Treatment<br>Location: ROMANIA<br>Amount: 300.0<br>Week: 4"
         ],
         "type": "scatter",
         "x": [
          0.5
         ],
         "y": [
          0
         ]
        },
        {
         "hovertemplate": "%{text}",
         "marker": {
          "color": "#2ca02c",
          "size": 25
         },
         "mode": "markers",
         "text": [
          "Id: 9<br>Process: Treatment<br>Location: SLOVENIA<br>Amount: 7859.19<br>Week: 4"
         ],
         "type": "scatter",
         "x": [
          0.5
         ],
         "y": [
          0.09090909090909091
         ]
        },
        {
         "hovertemplate": "%{text}",
         "marker": {
          "color": "#2ca02c",
          "size": 25
         },
         "mode": "markers",
         "text": [
          "Id: 10<br>Process: Treatment<br>Location: SLOVENIA<br>Amount: 22000.0<br>Week: 5"
         ],
         "type": "scatter",
         "x": [
          0.5
         ],
         "y": [
          0.18181818181818182
         ]
        },
        {
         "hovertemplate": "%{text}",
         "marker": {
          "color": "#2ca02c",
          "size": 25
         },
         "mode": "markers",
         "text": [
          "Id: 23<br>Process: Treatment<br>Location: HUNGARY<br>Amount: 10138.81<br>Week: 14"
         ],
         "type": "scatter",
         "x": [
          0.5
         ],
         "y": [
          0.2727272727272727
         ]
        },
        {
         "hovertemplate": "%{text}",
         "marker": {
          "color": "#2ca02c",
          "size": 25
         },
         "mode": "markers",
         "text": [
          "Id: 24<br>Process: Treatment<br>Location: SLOVENIA<br>Amount: 6348.0<br>Week: 17"
         ],
         "type": "scatter",
         "x": [
          0.5
         ],
         "y": [
          0.36363636363636365
         ]
        },
        {
         "hovertemplate": "%{text}",
         "marker": {
          "color": "#2ca02c",
          "size": 25
         },
         "mode": "markers",
         "text": [
          "Id: 26<br>Process: Treatment<br>Location: SLOVENIA<br>Amount: 2500.0<br>Week: 20"
         ],
         "type": "scatter",
         "x": [
          0.5
         ],
         "y": [
          0.4545454545454546
         ]
        },
        {
         "hovertemplate": "%{text}",
         "marker": {
          "color": "#2ca02c",
          "size": 25
         },
         "mode": "markers",
         "text": [
          "Id: 27<br>Process: Treatment<br>Location: AUSTRIA<br>Amount: 1901.0<br>Week: 20"
         ],
         "type": "scatter",
         "x": [
          0.5
         ],
         "y": [
          0.5454545454545454
         ]
        },
        {
         "hovertemplate": "%{text}",
         "marker": {
          "color": "#2ca02c",
          "size": 25
         },
         "mode": "markers",
         "text": [
          "Id: 28<br>Process: Treatment<br>Location: FRANCE<br>Amount: 1476.9<br>Week: 22"
         ],
         "type": "scatter",
         "x": [
          0.5
         ],
         "y": [
          0.6363636363636364
         ]
        },
        {
         "hovertemplate": "%{text}",
         "marker": {
          "color": "#2ca02c",
          "size": 25
         },
         "mode": "markers",
         "text": [
          "Id: 32<br>Process: Treatment<br>Location: ROMANIA<br>Amount: 4074.53<br>Week: 23"
         ],
         "type": "scatter",
         "x": [
          0.5
         ],
         "y": [
          0.7272727272727273
         ]
        },
        {
         "hovertemplate": "%{text}",
         "marker": {
          "color": "#2ca02c",
          "size": 25
         },
         "mode": "markers",
         "text": [
          "Id: 33<br>Process: Treatment<br>Location: FRANCE<br>Amount: 3022.1<br>Week: 24"
         ],
         "type": "scatter",
         "x": [
          0.5
         ],
         "y": [
          0.8181818181818182
         ]
        },
        {
         "hovertemplate": "%{text}",
         "marker": {
          "color": "#2ca02c",
          "size": 25
         },
         "mode": "markers",
         "text": [
          "Id: 36<br>Process: Treatment<br>Location: ITALY<br>Amount: 312.47<br>Week: 24"
         ],
         "type": "scatter",
         "x": [
          0.5
         ],
         "y": [
          0.9090909090909092
         ]
        },
        {
         "hovertemplate": "%{text}",
         "marker": {
          "color": "#d62728",
          "size": 25
         },
         "mode": "markers",
         "text": [
          "Id: 11<br>Process: Forwarding<br>Location: SLOVENIA<br>Amount: 6859.19<br>Week: 8"
         ],
         "type": "scatter",
         "x": [
          0.75
         ],
         "y": [
          0
         ]
        },
        {
         "hovertemplate": "%{text}",
         "marker": {
          "color": "#d62728",
          "size": 25
         },
         "mode": "markers",
         "text": [
          "Id: 14<br>Process: Forwarding<br>Location: FRANCE<br>Amount: 1000.0<br>Week: 8"
         ],
         "type": "scatter",
         "x": [
          0.75
         ],
         "y": [
          0.08333333333333333
         ]
        },
        {
         "hovertemplate": "%{text}",
         "marker": {
          "color": "#d62728",
          "size": 25
         },
         "mode": "markers",
         "text": [
          "Id: 15<br>Process: Forwarding<br>Location: ROMANIA<br>Amount: 300.0<br>Week: 8"
         ],
         "type": "scatter",
         "x": [
          0.75
         ],
         "y": [
          0.16666666666666666
         ]
        },
        {
         "hovertemplate": "%{text}",
         "marker": {
          "color": "#d62728",
          "size": 25
         },
         "mode": "markers",
         "text": [
          "Id: 17<br>Process: Forwarding<br>Location: FRANCE<br>Amount: 5000.0<br>Week: 9"
         ],
         "type": "scatter",
         "x": [
          0.75
         ],
         "y": [
          0.25
         ]
        },
        {
         "hovertemplate": "%{text}",
         "marker": {
          "color": "#d62728",
          "size": 25
         },
         "mode": "markers",
         "text": [
          "Id: 18<br>Process: Forwarding<br>Location: HUNGARY<br>Amount: 17000.0<br>Week: 9"
         ],
         "type": "scatter",
         "x": [
          0.75
         ],
         "y": [
          0.3333333333333333
         ]
        },
        {
         "hovertemplate": "%{text}",
         "marker": {
          "color": "#d62728",
          "size": 25
         },
         "mode": "markers",
         "text": [
          "Id: 30<br>Process: Forwarding<br>Location: SLOVENIA<br>Amount: 6348.0<br>Week: 23"
         ],
         "type": "scatter",
         "x": [
          0.75
         ],
         "y": [
          0.41666666666666663
         ]
        },
        {
         "hovertemplate": "%{text}",
         "marker": {
          "color": "#d62728",
          "size": 25
         },
         "mode": "markers",
         "text": [
          "Id: 34<br>Process: Forwarding<br>Location: HUNGARY<br>Amount: 10138.81<br>Week: 24"
         ],
         "type": "scatter",
         "x": [
          0.75
         ],
         "y": [
          0.5
         ]
        },
        {
         "hovertemplate": "%{text}",
         "marker": {
          "color": "#d62728",
          "size": 25
         },
         "mode": "markers",
         "text": [
          "Id: 37<br>Process: Forwarding<br>Location: SLOVENIA<br>Amount: 1901.0<br>Week: 25"
         ],
         "type": "scatter",
         "x": [
          0.75
         ],
         "y": [
          0.5833333333333333
         ]
        },
        {
         "hovertemplate": "%{text}",
         "marker": {
          "color": "#d62728",
          "size": 25
         },
         "mode": "markers",
         "text": [
          "Id: 39<br>Process: Forwarding<br>Location: FRANCE<br>Amount: 4499.0<br>Week: 28"
         ],
         "type": "scatter",
         "x": [
          0.75
         ],
         "y": [
          0.6666666666666666
         ]
        },
        {
         "hovertemplate": "%{text}",
         "marker": {
          "color": "#d62728",
          "size": 25
         },
         "mode": "markers",
         "text": [
          "Id: 42<br>Process: Forwarding<br>Location: SLOVENIA<br>Amount: 2500.0<br>Week: 28"
         ],
         "type": "scatter",
         "x": [
          0.75
         ],
         "y": [
          0.75
         ]
        },
        {
         "hovertemplate": "%{text}",
         "marker": {
          "color": "#d62728",
          "size": 25
         },
         "mode": "markers",
         "text": [
          "Id: 43<br>Process: Forwarding<br>Location: ROMANIA<br>Amount: 4074.53<br>Week: 28"
         ],
         "type": "scatter",
         "x": [
          0.75
         ],
         "y": [
          0.8333333333333333
         ]
        },
        {
         "hovertemplate": "%{text}",
         "marker": {
          "color": "#d62728",
          "size": 25
         },
         "mode": "markers",
         "text": [
          "Id: 45<br>Process: Forwarding<br>Location: ITALY<br>Amount: 312.47<br>Week: 28"
         ],
         "type": "scatter",
         "x": [
          0.75
         ],
         "y": [
          0.9166666666666666
         ]
        },
        {
         "hovertemplate": "%{text}",
         "marker": {
          "color": "#9467bd",
          "size": 25
         },
         "mode": "markers",
         "text": [
          "Id: 12<br>Process: Delivery<br>Location: HUNGARY<br>Amount: 6859.19<br>Week: 8"
         ],
         "type": "scatter",
         "x": [
          1
         ],
         "y": [
          0
         ]
        },
        {
         "hovertemplate": "%{text}",
         "marker": {
          "color": "#9467bd",
          "size": 25
         },
         "mode": "markers",
         "text": [
          "Id: 13<br>Process: Delivery<br>Location: ROMANIA<br>Amount: 300.0<br>Week: 8"
         ],
         "type": "scatter",
         "x": [
          1
         ],
         "y": [
          0.07692307692307693
         ]
        },
        {
         "hovertemplate": "%{text}",
         "marker": {
          "color": "#9467bd",
          "size": 25
         },
         "mode": "markers",
         "text": [
          "Id: 22<br>Process: Delivery<br>Location: MOLDOVA<br>Amount: 1000.0<br>Week: 13"
         ],
         "type": "scatter",
         "x": [
          1
         ],
         "y": [
          0.15384615384615385
         ]
        },
        {
         "hovertemplate": "%{text}",
         "marker": {
          "color": "#9467bd",
          "size": 25
         },
         "mode": "markers",
         "text": [
          "Id: 25<br>Process: Delivery<br>Location: MOLDOVA<br>Amount: 5000.0<br>Week: 18"
         ],
         "type": "scatter",
         "x": [
          1
         ],
         "y": [
          0.23076923076923078
         ]
        },
        {
         "hovertemplate": "%{text}",
         "marker": {
          "color": "#9467bd",
          "size": 25
         },
         "mode": "markers",
         "text": [
          "Id: 29<br>Process: Delivery<br>Location: BULGARIA<br>Amount: 6348.0<br>Week: 23"
         ],
         "type": "scatter",
         "x": [
          1
         ],
         "y": [
          0.3076923076923077
         ]
        },
        {
         "hovertemplate": "%{text}",
         "marker": {
          "color": "#9467bd",
          "size": 25
         },
         "mode": "markers",
         "text": [
          "Id: 31<br>Process: Delivery<br>Location: ROMANIA<br>Amount: 17000.0<br>Week: 23"
         ],
         "type": "scatter",
         "x": [
          1
         ],
         "y": [
          0.38461538461538464
         ]
        },
        {
         "hovertemplate": "%{text}",
         "marker": {
          "color": "#9467bd",
          "size": 25
         },
         "mode": "markers",
         "text": [
          "Id: 35<br>Process: Delivery<br>Location: HUNGARY<br>Amount: 10138.81<br>Week: 24"
         ],
         "type": "scatter",
         "x": [
          1
         ],
         "y": [
          0.46153846153846156
         ]
        },
        {
         "hovertemplate": "%{text}",
         "marker": {
          "color": "#9467bd",
          "size": 25
         },
         "mode": "markers",
         "text": [
          "Id: 38<br>Process: Delivery<br>Location: HUNGARY<br>Amount: 1901.0<br>Week: 27"
         ],
         "type": "scatter",
         "x": [
          1
         ],
         "y": [
          0.5384615384615385
         ]
        },
        {
         "hovertemplate": "%{text}",
         "marker": {
          "color": "#9467bd",
          "size": 25
         },
         "mode": "markers",
         "text": [
          "Id: 40<br>Process: Delivery<br>Location: HUNGARY<br>Amount: 4499.0<br>Week: 28"
         ],
         "type": "scatter",
         "x": [
          1
         ],
         "y": [
          0.6153846153846154
         ]
        },
        {
         "hovertemplate": "%{text}",
         "marker": {
          "color": "#9467bd",
          "size": 25
         },
         "mode": "markers",
         "text": [
          "Id: 41<br>Process: Delivery<br>Location: HUNGARY<br>Amount: 2500.0<br>Week: 28"
         ],
         "type": "scatter",
         "x": [
          1
         ],
         "y": [
          0.6923076923076923
         ]
        },
        {
         "hovertemplate": "%{text}",
         "marker": {
          "color": "#9467bd",
          "size": 25
         },
         "mode": "markers",
         "text": [
          "Id: 44<br>Process: Delivery<br>Location: ROMANIA<br>Amount: 2074.53<br>Week: 28"
         ],
         "type": "scatter",
         "x": [
          1
         ],
         "y": [
          0.7692307692307693
         ]
        },
        {
         "hovertemplate": "%{text}",
         "marker": {
          "color": "#9467bd",
          "size": 25
         },
         "mode": "markers",
         "text": [
          "Id: 46<br>Process: Delivery<br>Location: ROMANIA<br>Amount: 312.47<br>Week: 28"
         ],
         "type": "scatter",
         "x": [
          1
         ],
         "y": [
          0.8461538461538463
         ]
        },
        {
         "hovertemplate": "%{text}",
         "marker": {
          "color": "#9467bd",
          "size": 25
         },
         "mode": "markers",
         "text": [
          "Id: 47<br>Process: Delivery<br>Location: MOLDOVA<br>Amount: 2000.0<br>Week: 28"
         ],
         "type": "scatter",
         "x": [
          1
         ],
         "y": [
          0.9230769230769231
         ]
        }
       ],
       "layout": {
        "hovermode": "closest",
        "margin": {
         "b": 20,
         "l": 20,
         "r": 20,
         "t": 20
        },
        "plot_bgcolor": "white",
        "showlegend": false,
        "template": {
         "data": {
          "bar": [
           {
            "error_x": {
             "color": "#2a3f5f"
            },
            "error_y": {
             "color": "#2a3f5f"
            },
            "marker": {
             "line": {
              "color": "#E5ECF6",
              "width": 0.5
             },
             "pattern": {
              "fillmode": "overlay",
              "size": 10,
              "solidity": 0.2
             }
            },
            "type": "bar"
           }
          ],
          "barpolar": [
           {
            "marker": {
             "line": {
              "color": "#E5ECF6",
              "width": 0.5
             },
             "pattern": {
              "fillmode": "overlay",
              "size": 10,
              "solidity": 0.2
             }
            },
            "type": "barpolar"
           }
          ],
          "carpet": [
           {
            "aaxis": {
             "endlinecolor": "#2a3f5f",
             "gridcolor": "white",
             "linecolor": "white",
             "minorgridcolor": "white",
             "startlinecolor": "#2a3f5f"
            },
            "baxis": {
             "endlinecolor": "#2a3f5f",
             "gridcolor": "white",
             "linecolor": "white",
             "minorgridcolor": "white",
             "startlinecolor": "#2a3f5f"
            },
            "type": "carpet"
           }
          ],
          "choropleth": [
           {
            "colorbar": {
             "outlinewidth": 0,
             "ticks": ""
            },
            "type": "choropleth"
           }
          ],
          "contour": [
           {
            "colorbar": {
             "outlinewidth": 0,
             "ticks": ""
            },
            "colorscale": [
             [
              0,
              "#0d0887"
             ],
             [
              0.1111111111111111,
              "#46039f"
             ],
             [
              0.2222222222222222,
              "#7201a8"
             ],
             [
              0.3333333333333333,
              "#9c179e"
             ],
             [
              0.4444444444444444,
              "#bd3786"
             ],
             [
              0.5555555555555556,
              "#d8576b"
             ],
             [
              0.6666666666666666,
              "#ed7953"
             ],
             [
              0.7777777777777778,
              "#fb9f3a"
             ],
             [
              0.8888888888888888,
              "#fdca26"
             ],
             [
              1,
              "#f0f921"
             ]
            ],
            "type": "contour"
           }
          ],
          "contourcarpet": [
           {
            "colorbar": {
             "outlinewidth": 0,
             "ticks": ""
            },
            "type": "contourcarpet"
           }
          ],
          "heatmap": [
           {
            "colorbar": {
             "outlinewidth": 0,
             "ticks": ""
            },
            "colorscale": [
             [
              0,
              "#0d0887"
             ],
             [
              0.1111111111111111,
              "#46039f"
             ],
             [
              0.2222222222222222,
              "#7201a8"
             ],
             [
              0.3333333333333333,
              "#9c179e"
             ],
             [
              0.4444444444444444,
              "#bd3786"
             ],
             [
              0.5555555555555556,
              "#d8576b"
             ],
             [
              0.6666666666666666,
              "#ed7953"
             ],
             [
              0.7777777777777778,
              "#fb9f3a"
             ],
             [
              0.8888888888888888,
              "#fdca26"
             ],
             [
              1,
              "#f0f921"
             ]
            ],
            "type": "heatmap"
           }
          ],
          "heatmapgl": [
           {
            "colorbar": {
             "outlinewidth": 0,
             "ticks": ""
            },
            "colorscale": [
             [
              0,
              "#0d0887"
             ],
             [
              0.1111111111111111,
              "#46039f"
             ],
             [
              0.2222222222222222,
              "#7201a8"
             ],
             [
              0.3333333333333333,
              "#9c179e"
             ],
             [
              0.4444444444444444,
              "#bd3786"
             ],
             [
              0.5555555555555556,
              "#d8576b"
             ],
             [
              0.6666666666666666,
              "#ed7953"
             ],
             [
              0.7777777777777778,
              "#fb9f3a"
             ],
             [
              0.8888888888888888,
              "#fdca26"
             ],
             [
              1,
              "#f0f921"
             ]
            ],
            "type": "heatmapgl"
           }
          ],
          "histogram": [
           {
            "marker": {
             "pattern": {
              "fillmode": "overlay",
              "size": 10,
              "solidity": 0.2
             }
            },
            "type": "histogram"
           }
          ],
          "histogram2d": [
           {
            "colorbar": {
             "outlinewidth": 0,
             "ticks": ""
            },
            "colorscale": [
             [
              0,
              "#0d0887"
             ],
             [
              0.1111111111111111,
              "#46039f"
             ],
             [
              0.2222222222222222,
              "#7201a8"
             ],
             [
              0.3333333333333333,
              "#9c179e"
             ],
             [
              0.4444444444444444,
              "#bd3786"
             ],
             [
              0.5555555555555556,
              "#d8576b"
             ],
             [
              0.6666666666666666,
              "#ed7953"
             ],
             [
              0.7777777777777778,
              "#fb9f3a"
             ],
             [
              0.8888888888888888,
              "#fdca26"
             ],
             [
              1,
              "#f0f921"
             ]
            ],
            "type": "histogram2d"
           }
          ],
          "histogram2dcontour": [
           {
            "colorbar": {
             "outlinewidth": 0,
             "ticks": ""
            },
            "colorscale": [
             [
              0,
              "#0d0887"
             ],
             [
              0.1111111111111111,
              "#46039f"
             ],
             [
              0.2222222222222222,
              "#7201a8"
             ],
             [
              0.3333333333333333,
              "#9c179e"
             ],
             [
              0.4444444444444444,
              "#bd3786"
             ],
             [
              0.5555555555555556,
              "#d8576b"
             ],
             [
              0.6666666666666666,
              "#ed7953"
             ],
             [
              0.7777777777777778,
              "#fb9f3a"
             ],
             [
              0.8888888888888888,
              "#fdca26"
             ],
             [
              1,
              "#f0f921"
             ]
            ],
            "type": "histogram2dcontour"
           }
          ],
          "mesh3d": [
           {
            "colorbar": {
             "outlinewidth": 0,
             "ticks": ""
            },
            "type": "mesh3d"
           }
          ],
          "parcoords": [
           {
            "line": {
             "colorbar": {
              "outlinewidth": 0,
              "ticks": ""
             }
            },
            "type": "parcoords"
           }
          ],
          "pie": [
           {
            "automargin": true,
            "type": "pie"
           }
          ],
          "scatter": [
           {
            "fillpattern": {
             "fillmode": "overlay",
             "size": 10,
             "solidity": 0.2
            },
            "type": "scatter"
           }
          ],
          "scatter3d": [
           {
            "line": {
             "colorbar": {
              "outlinewidth": 0,
              "ticks": ""
             }
            },
            "marker": {
             "colorbar": {
              "outlinewidth": 0,
              "ticks": ""
             }
            },
            "type": "scatter3d"
           }
          ],
          "scattercarpet": [
           {
            "marker": {
             "colorbar": {
              "outlinewidth": 0,
              "ticks": ""
             }
            },
            "type": "scattercarpet"
           }
          ],
          "scattergeo": [
           {
            "marker": {
             "colorbar": {
              "outlinewidth": 0,
              "ticks": ""
             }
            },
            "type": "scattergeo"
           }
          ],
          "scattergl": [
           {
            "marker": {
             "colorbar": {
              "outlinewidth": 0,
              "ticks": ""
             }
            },
            "type": "scattergl"
           }
          ],
          "scattermapbox": [
           {
            "marker": {
             "colorbar": {
              "outlinewidth": 0,
              "ticks": ""
             }
            },
            "type": "scattermapbox"
           }
          ],
          "scatterpolar": [
           {
            "marker": {
             "colorbar": {
              "outlinewidth": 0,
              "ticks": ""
             }
            },
            "type": "scatterpolar"
           }
          ],
          "scatterpolargl": [
           {
            "marker": {
             "colorbar": {
              "outlinewidth": 0,
              "ticks": ""
             }
            },
            "type": "scatterpolargl"
           }
          ],
          "scatterternary": [
           {
            "marker": {
             "colorbar": {
              "outlinewidth": 0,
              "ticks": ""
             }
            },
            "type": "scatterternary"
           }
          ],
          "surface": [
           {
            "colorbar": {
             "outlinewidth": 0,
             "ticks": ""
            },
            "colorscale": [
             [
              0,
              "#0d0887"
             ],
             [
              0.1111111111111111,
              "#46039f"
             ],
             [
              0.2222222222222222,
              "#7201a8"
             ],
             [
              0.3333333333333333,
              "#9c179e"
             ],
             [
              0.4444444444444444,
              "#bd3786"
             ],
             [
              0.5555555555555556,
              "#d8576b"
             ],
             [
              0.6666666666666666,
              "#ed7953"
             ],
             [
              0.7777777777777778,
              "#fb9f3a"
             ],
             [
              0.8888888888888888,
              "#fdca26"
             ],
             [
              1,
              "#f0f921"
             ]
            ],
            "type": "surface"
           }
          ],
          "table": [
           {
            "cells": {
             "fill": {
              "color": "#EBF0F8"
             },
             "line": {
              "color": "white"
             }
            },
            "header": {
             "fill": {
              "color": "#C8D4E3"
             },
             "line": {
              "color": "white"
             }
            },
            "type": "table"
           }
          ]
         },
         "layout": {
          "annotationdefaults": {
           "arrowcolor": "#2a3f5f",
           "arrowhead": 0,
           "arrowwidth": 1
          },
          "autotypenumbers": "strict",
          "coloraxis": {
           "colorbar": {
            "outlinewidth": 0,
            "ticks": ""
           }
          },
          "colorscale": {
           "diverging": [
            [
             0,
             "#8e0152"
            ],
            [
             0.1,
             "#c51b7d"
            ],
            [
             0.2,
             "#de77ae"
            ],
            [
             0.3,
             "#f1b6da"
            ],
            [
             0.4,
             "#fde0ef"
            ],
            [
             0.5,
             "#f7f7f7"
            ],
            [
             0.6,
             "#e6f5d0"
            ],
            [
             0.7,
             "#b8e186"
            ],
            [
             0.8,
             "#7fbc41"
            ],
            [
             0.9,
             "#4d9221"
            ],
            [
             1,
             "#276419"
            ]
           ],
           "sequential": [
            [
             0,
             "#0d0887"
            ],
            [
             0.1111111111111111,
             "#46039f"
            ],
            [
             0.2222222222222222,
             "#7201a8"
            ],
            [
             0.3333333333333333,
             "#9c179e"
            ],
            [
             0.4444444444444444,
             "#bd3786"
            ],
            [
             0.5555555555555556,
             "#d8576b"
            ],
            [
             0.6666666666666666,
             "#ed7953"
            ],
            [
             0.7777777777777778,
             "#fb9f3a"
            ],
            [
             0.8888888888888888,
             "#fdca26"
            ],
            [
             1,
             "#f0f921"
            ]
           ],
           "sequentialminus": [
            [
             0,
             "#0d0887"
            ],
            [
             0.1111111111111111,
             "#46039f"
            ],
            [
             0.2222222222222222,
             "#7201a8"
            ],
            [
             0.3333333333333333,
             "#9c179e"
            ],
            [
             0.4444444444444444,
             "#bd3786"
            ],
            [
             0.5555555555555556,
             "#d8576b"
            ],
            [
             0.6666666666666666,
             "#ed7953"
            ],
            [
             0.7777777777777778,
             "#fb9f3a"
            ],
            [
             0.8888888888888888,
             "#fdca26"
            ],
            [
             1,
             "#f0f921"
            ]
           ]
          },
          "colorway": [
           "#636efa",
           "#EF553B",
           "#00cc96",
           "#ab63fa",
           "#FFA15A",
           "#19d3f3",
           "#FF6692",
           "#B6E880",
           "#FF97FF",
           "#FECB52"
          ],
          "font": {
           "color": "#2a3f5f"
          },
          "geo": {
           "bgcolor": "white",
           "lakecolor": "white",
           "landcolor": "#E5ECF6",
           "showlakes": true,
           "showland": true,
           "subunitcolor": "white"
          },
          "hoverlabel": {
           "align": "left"
          },
          "hovermode": "closest",
          "mapbox": {
           "style": "light"
          },
          "paper_bgcolor": "white",
          "plot_bgcolor": "#E5ECF6",
          "polar": {
           "angularaxis": {
            "gridcolor": "white",
            "linecolor": "white",
            "ticks": ""
           },
           "bgcolor": "#E5ECF6",
           "radialaxis": {
            "gridcolor": "white",
            "linecolor": "white",
            "ticks": ""
           }
          },
          "scene": {
           "xaxis": {
            "backgroundcolor": "#E5ECF6",
            "gridcolor": "white",
            "gridwidth": 2,
            "linecolor": "white",
            "showbackground": true,
            "ticks": "",
            "zerolinecolor": "white"
           },
           "yaxis": {
            "backgroundcolor": "#E5ECF6",
            "gridcolor": "white",
            "gridwidth": 2,
            "linecolor": "white",
            "showbackground": true,
            "ticks": "",
            "zerolinecolor": "white"
           },
           "zaxis": {
            "backgroundcolor": "#E5ECF6",
            "gridcolor": "white",
            "gridwidth": 2,
            "linecolor": "white",
            "showbackground": true,
            "ticks": "",
            "zerolinecolor": "white"
           }
          },
          "shapedefaults": {
           "line": {
            "color": "#2a3f5f"
           }
          },
          "ternary": {
           "aaxis": {
            "gridcolor": "white",
            "linecolor": "white",
            "ticks": ""
           },
           "baxis": {
            "gridcolor": "white",
            "linecolor": "white",
            "ticks": ""
           },
           "bgcolor": "#E5ECF6",
           "caxis": {
            "gridcolor": "white",
            "linecolor": "white",
            "ticks": ""
           }
          },
          "title": {
           "x": 0.05
          },
          "xaxis": {
           "automargin": true,
           "gridcolor": "white",
           "linecolor": "white",
           "ticks": "",
           "title": {
            "standoff": 15
           },
           "zerolinecolor": "white",
           "zerolinewidth": 2
          },
          "yaxis": {
           "automargin": true,
           "gridcolor": "white",
           "linecolor": "white",
           "ticks": "",
           "title": {
            "standoff": 15
           },
           "zerolinecolor": "white",
           "zerolinewidth": 2
          }
         }
        },
        "width": 900,
        "xaxis": {
         "tickmode": "array",
         "ticktext": [
          "Sourcing",
          "Conditioning",
          "Treatment",
          "Forwarding",
          "Delivery"
         ],
         "tickvals": [
          0,
          0.25,
          0.5,
          0.75,
          1
         ]
        },
        "yaxis": {
         "visible": false
        }
       }
      },
      "text/html": [
       "<div>                            <div id=\"5f6d878d-4a20-42f5-bfbe-5374175cb679\" class=\"plotly-graph-div\" style=\"height:525px; width:900px;\"></div>            <script type=\"text/javascript\">                require([\"plotly\"], function(Plotly) {                    window.PLOTLYENV=window.PLOTLYENV || {};                                    if (document.getElementById(\"5f6d878d-4a20-42f5-bfbe-5374175cb679\")) {                    Plotly.newPlot(                        \"5f6d878d-4a20-42f5-bfbe-5374175cb679\",                        [{\"line\":{\"color\":\"black\",\"width\":1.8420809314234836},\"mode\":\"lines\",\"x\":[0,0.25,null],\"y\":[0.0,0.14285714285714285,null],\"type\":\"scatter\"},{\"hovertemplate\":\"%{text}\",\"marker\":{\"color\":\"black\",\"opacity\":0,\"size\":20},\"mode\":\"markers\",\"text\":[\"Amount: 7859.19\"],\"x\":[0.125],\"y\":[0.07142857142857142],\"type\":\"scatter\"},{\"line\":{\"color\":\"black\",\"width\":4.124499577939682},\"mode\":\"lines\",\"x\":[0,0.25,null],\"y\":[0.0,0.2857142857142857,null],\"type\":\"scatter\"},{\"hovertemplate\":\"%{text}\",\"marker\":{\"color\":\"black\",\"opacity\":0,\"size\":20},\"mode\":\"markers\",\"text\":[\"Amount: 28348.0\"],\"x\":[0.125],\"y\":[0.14285714285714285],\"type\":\"scatter\"},{\"line\":{\"color\":\"black\",\"width\":1.3032373182084145},\"mode\":\"lines\",\"x\":[0,0.25,null],\"y\":[0.2,0.5714285714285714,null],\"type\":\"scatter\"},{\"hovertemplate\":\"%{text}\",\"marker\":{\"color\":\"black\",\"opacity\":0,\"size\":20},\"mode\":\"markers\",\"text\":[\"Amount: 3022.1\"],\"x\":[0.125],\"y\":[0.3857142857142857],\"type\":\"scatter\"},{\"line\":{\"color\":\"black\",\"width\":1.0},\"mode\":\"lines\",\"x\":[0,0.25,null],\"y\":[0.4,0.0,null],\"type\":\"scatter\"},{\"hovertemplate\":\"%{text}\",\"marker\":{\"color\":\"black\",\"opacity\":0,\"size\":20},\"mode\":\"markers\",\"text\":[\"Amount: 300.0\"],\"x\":[0.125],\"y\":[0.2],\"type\":\"scatter\"},{\"line\":{\"color\":\"black\",\"width\":2.586290656550958},\"mode\":\"lines\",\"x\":[0,0.25,null],\"y\":[0.4,0.8571428571428571,null],\"type\":\"scatter\"},{\"hovertemplate\":\"%{text}\",\"marker\":{\"color\":\"black\",\"opacity\":0,\"size\":20},\"mode\":\"markers\",\"text\":[\"Amount: 14539.81\"],\"x\":[0.125],\"y\":[0.6285714285714286],\"type\":\"scatter\"},{\"line\":{\"color\":\"black\",\"width\":1.001389136827471},\"mode\":\"lines\",\"x\":[0,0.25,null],\"y\":[0.6000000000000001,0.42857142857142855,null],\"type\":\"scatter\"},{\"hovertemplate\":\"%{text}\",\"marker\":{\"color\":\"black\",\"opacity\":0,\"size\":20},\"mode\":\"markers\",\"text\":[\"Amount: 312.47\"],\"x\":[0.125],\"y\":[0.5142857142857143],\"type\":\"scatter\"},{\"line\":{\"color\":\"black\",\"width\":1.585000385716621},\"mode\":\"lines\",\"x\":[0,0.25,null],\"y\":[0.8,0.7142857142857142,null],\"type\":\"scatter\"},{\"hovertemplate\":\"%{text}\",\"marker\":{\"color\":\"black\",\"opacity\":0,\"size\":20},\"mode\":\"markers\",\"text\":[\"Amount: 5551.43\"],\"x\":[0.125],\"y\":[0.7571428571428571],\"type\":\"scatter\"},{\"line\":{\"color\":\"black\",\"width\":1.0},\"mode\":\"lines\",\"x\":[0.25,0.5,null],\"y\":[0.0,0.0,null],\"type\":\"scatter\"},{\"hovertemplate\":\"%{text}\",\"marker\":{\"color\":\"black\",\"opacity\":0,\"size\":20},\"mode\":\"markers\",\"text\":[\"Amount: 300.0\"],\"x\":[0.375],\"y\":[0.0],\"type\":\"scatter\"},{\"line\":{\"color\":\"black\",\"width\":1.8420809314234836},\"mode\":\"lines\",\"x\":[0.25,0.5,null],\"y\":[0.14285714285714285,0.09090909090909091,null],\"type\":\"scatter\"},{\"hovertemplate\":\"%{text}\",\"marker\":{\"color\":\"black\",\"opacity\":0,\"size\":20},\"mode\":\"markers\",\"text\":[\"Amount: 7859.19\"],\"x\":[0.375],\"y\":[0.11688311688311688],\"type\":\"scatter\"},{\"line\":{\"color\":\"black\",\"width\":3.4173431560642866},\"mode\":\"lines\",\"x\":[0.25,0.5,null],\"y\":[0.2857142857142857,0.18181818181818182,null],\"type\":\"scatter\"},{\"hovertemplate\":\"%{text}\",\"marker\":{\"color\":\"black\",\"opacity\":0,\"size\":20},\"mode\":\"markers\",\"text\":[\"Amount: 22000.0\"],\"x\":[0.375],\"y\":[0.23376623376623376],\"type\":\"scatter\"},{\"line\":{\"color\":\"black\",\"width\":1.6737369312385626},\"mode\":\"lines\",\"x\":[0.25,0.5,null],\"y\":[0.2857142857142857,0.36363636363636365,null],\"type\":\"scatter\"},{\"hovertemplate\":\"%{text}\",\"marker\":{\"color\":\"black\",\"opacity\":0,\"size\":20},\"mode\":\"markers\",\"text\":[\"Amount: 6348.0\"],\"x\":[0.375],\"y\":[0.3246753246753247],\"type\":\"scatter\"},{\"line\":{\"color\":\"black\",\"width\":1.001389136827471},\"mode\":\"lines\",\"x\":[0.25,0.5,null],\"y\":[0.42857142857142855,0.9090909090909092,null],\"type\":\"scatter\"},{\"hovertemplate\":\"%{text}\",\"marker\":{\"color\":\"black\",\"opacity\":0,\"size\":20},\"mode\":\"markers\",\"text\":[\"Amount: 312.47\"],\"x\":[0.375],\"y\":[0.6688311688311689],\"type\":\"scatter\"},{\"line\":{\"color\":\"black\",\"width\":1.3032373182084145},\"mode\":\"lines\",\"x\":[0.25,0.5,null],\"y\":[0.5714285714285714,0.8181818181818182,null],\"type\":\"scatter\"},{\"hovertemplate\":\"%{text}\",\"marker\":{\"color\":\"black\",\"opacity\":0,\"size\":20},\"mode\":\"markers\",\"text\":[\"Amount: 3022.1\"],\"x\":[0.375],\"y\":[0.6948051948051948],\"type\":\"scatter\"},{\"line\":{\"color\":\"black\",\"width\":1.1311046617682976},\"mode\":\"lines\",\"x\":[0.25,0.5,null],\"y\":[0.7142857142857142,0.6363636363636364,null],\"type\":\"scatter\"},{\"hovertemplate\":\"%{text}\",\"marker\":{\"color\":\"black\",\"opacity\":0,\"size\":20},\"mode\":\"markers\",\"text\":[\"Amount: 1476.9\"],\"x\":[0.375],\"y\":[0.6753246753246753],\"type\":\"scatter\"},{\"line\":{\"color\":\"black\",\"width\":1.42047623331149},\"mode\":\"lines\",\"x\":[0.25,0.5,null],\"y\":[0.7142857142857142,0.7272727272727273,null],\"type\":\"scatter\"},{\"hovertemplate\":\"%{text}\",\"marker\":{\"color\":\"black\",\"opacity\":0,\"size\":20},\"mode\":\"markers\",\"text\":[\"Amount: 4074.53\"],\"x\":[0.375],\"y\":[0.7207792207792207],\"type\":\"scatter\"},{\"line\":{\"color\":\"black\",\"width\":2.096026728908611},\"mode\":\"lines\",\"x\":[0.25,0.5,null],\"y\":[0.8571428571428571,0.2727272727272727,null],\"type\":\"scatter\"},{\"hovertemplate\":\"%{text}\",\"marker\":{\"color\":\"black\",\"opacity\":0,\"size\":20},\"mode\":\"markers\",\"text\":[\"Amount: 10138.81\"],\"x\":[0.375],\"y\":[0.5649350649350648],\"type\":\"scatter\"},{\"line\":{\"color\":\"black\",\"width\":1.2450762646701121},\"mode\":\"lines\",\"x\":[0.25,0.5,null],\"y\":[0.8571428571428571,0.4545454545454546,null],\"type\":\"scatter\"},{\"hovertemplate\":\"%{text}\",\"marker\":{\"color\":\"black\",\"opacity\":0,\"size\":20},\"mode\":\"markers\",\"text\":[\"Amount: 2500.0\"],\"x\":[0.375],\"y\":[0.6558441558441559],\"type\":\"scatter\"},{\"line\":{\"color\":\"black\",\"width\":1.178348681698568},\"mode\":\"lines\",\"x\":[0.25,0.5,null],\"y\":[0.8571428571428571,0.5454545454545454,null],\"type\":\"scatter\"},{\"hovertemplate\":\"%{text}\",\"marker\":{\"color\":\"black\",\"opacity\":0,\"size\":20},\"mode\":\"markers\",\"text\":[\"Amount: 1901.0\"],\"x\":[0.375],\"y\":[0.7012987012987013],\"type\":\"scatter\"},{\"line\":{\"color\":\"black\",\"width\":1.0},\"mode\":\"lines\",\"x\":[0.5,0.75,null],\"y\":[0.0,0.16666666666666666,null],\"type\":\"scatter\"},{\"hovertemplate\":\"%{text}\",\"marker\":{\"color\":\"black\",\"opacity\":0,\"size\":20},\"mode\":\"markers\",\"text\":[\"Amount: 300.0\"],\"x\":[0.625],\"y\":[0.08333333333333333],\"type\":\"scatter\"},{\"line\":{\"color\":\"black\",\"width\":1.7306826293007054},\"mode\":\"lines\",\"x\":[0.5,0.75,null],\"y\":[0.09090909090909091,0.0,null],\"type\":\"scatter\"},{\"hovertemplate\":\"%{text}\",\"marker\":{\"color\":\"black\",\"opacity\":0,\"size\":20},\"mode\":\"markers\",\"text\":[\"Amount: 6859.19\"],\"x\":[0.625],\"y\":[0.045454545454545456],\"type\":\"scatter\"},{\"line\":{\"color\":\"black\",\"width\":1.0779788114859448},\"mode\":\"lines\",\"x\":[0.5,0.75,null],\"y\":[0.09090909090909091,0.08333333333333333,null],\"type\":\"scatter\"},{\"hovertemplate\":\"%{text}\",\"marker\":{\"color\":\"black\",\"opacity\":0,\"size\":20},\"mode\":\"markers\",\"text\":[\"Amount: 1000.0\"],\"x\":[0.625],\"y\":[0.08712121212121213],\"type\":\"scatter\"},{\"line\":{\"color\":\"black\",\"width\":1.5235720199770575},\"mode\":\"lines\",\"x\":[0.5,0.75,null],\"y\":[0.18181818181818182,0.25,null],\"type\":\"scatter\"},{\"hovertemplate\":\"%{text}\",\"marker\":{\"color\":\"black\",\"opacity\":0,\"size\":20},\"mode\":\"markers\",\"text\":[\"Amount: 5000.0\"],\"x\":[0.625],\"y\":[0.2159090909090909],\"type\":\"scatter\"},{\"line\":{\"color\":\"black\",\"width\":2.860351645450396},\"mode\":\"lines\",\"x\":[0.5,0.75,null],\"y\":[0.18181818181818182,0.3333333333333333,null],\"type\":\"scatter\"},{\"hovertemplate\":\"%{text}\",\"marker\":{\"color\":\"black\",\"opacity\":0,\"size\":20},\"mode\":\"markers\",\"text\":[\"Amount: 17000.0\"],\"x\":[0.625],\"y\":[0.25757575757575757],\"type\":\"scatter\"},{\"line\":{\"color\":\"black\",\"width\":2.096026728908611},\"mode\":\"lines\",\"x\":[0.5,0.75,null],\"y\":[0.2727272727272727,0.5,null],\"type\":\"scatter\"},{\"hovertemplate\":\"%{text}\",\"marker\":{\"color\":\"black\",\"opacity\":0,\"size\":20},\"mode\":\"markers\",\"text\":[\"Amount: 10138.81\"],\"x\":[0.625],\"y\":[0.38636363636363635],\"type\":\"scatter\"},{\"line\":{\"color\":\"black\",\"width\":1.6737369312385626},\"mode\":\"lines\",\"x\":[0.5,0.75,null],\"y\":[0.36363636363636365,0.41666666666666663,null],\"type\":\"scatter\"},{\"hovertemplate\":\"%{text}\",\"marker\":{\"color\":\"black\",\"opacity\":0,\"size\":20},\"mode\":\"markers\",\"text\":[\"Amount: 6348.0\"],\"x\":[0.625],\"y\":[0.39015151515151514],\"type\":\"scatter\"},{\"line\":{\"color\":\"black\",\"width\":1.2450762646701121},\"mode\":\"lines\",\"x\":[0.5,0.75,null],\"y\":[0.4545454545454546,0.75,null],\"type\":\"scatter\"},{\"hovertemplate\":\"%{text}\",\"marker\":{\"color\":\"black\",\"opacity\":0,\"size\":20},\"mode\":\"markers\",\"text\":[\"Amount: 2500.0\"],\"x\":[0.625],\"y\":[0.6022727272727273],\"type\":\"scatter\"},{\"line\":{\"color\":\"black\",\"width\":1.178348681698568},\"mode\":\"lines\",\"x\":[0.5,0.75,null],\"y\":[0.5454545454545454,0.5833333333333333,null],\"type\":\"scatter\"},{\"hovertemplate\":\"%{text}\",\"marker\":{\"color\":\"black\",\"opacity\":0,\"size\":20},\"mode\":\"markers\",\"text\":[\"Amount: 1901.0\"],\"x\":[0.625],\"y\":[0.5643939393939393],\"type\":\"scatter\"},{\"line\":{\"color\":\"black\",\"width\":1.1311046617682976},\"mode\":\"lines\",\"x\":[0.5,0.75,null],\"y\":[0.6363636363636364,0.6666666666666666,null],\"type\":\"scatter\"},{\"hovertemplate\":\"%{text}\",\"marker\":{\"color\":\"black\",\"opacity\":0,\"size\":20},\"mode\":\"markers\",\"text\":[\"Amount: 1476.9\"],\"x\":[0.625],\"y\":[0.6515151515151515],\"type\":\"scatter\"},{\"line\":{\"color\":\"black\",\"width\":1.42047623331149},\"mode\":\"lines\",\"x\":[0.5,0.75,null],\"y\":[0.7272727272727273,0.8333333333333333,null],\"type\":\"scatter\"},{\"hovertemplate\":\"%{text}\",\"marker\":{\"color\":\"black\",\"opacity\":0,\"size\":20},\"mode\":\"markers\",\"text\":[\"Amount: 4074.53\"],\"x\":[0.625],\"y\":[0.7803030303030303],\"type\":\"scatter\"},{\"line\":{\"color\":\"black\",\"width\":1.3032373182084145},\"mode\":\"lines\",\"x\":[0.5,0.75,null],\"y\":[0.8181818181818182,0.6666666666666666,null],\"type\":\"scatter\"},{\"hovertemplate\":\"%{text}\",\"marker\":{\"color\":\"black\",\"opacity\":0,\"size\":20},\"mode\":\"markers\",\"text\":[\"Amount: 3022.1\"],\"x\":[0.625],\"y\":[0.7424242424242424],\"type\":\"scatter\"},{\"line\":{\"color\":\"black\",\"width\":1.001389136827471},\"mode\":\"lines\",\"x\":[0.5,0.75,null],\"y\":[0.9090909090909092,0.9166666666666666,null],\"type\":\"scatter\"},{\"hovertemplate\":\"%{text}\",\"marker\":{\"color\":\"black\",\"opacity\":0,\"size\":20},\"mode\":\"markers\",\"text\":[\"Amount: 312.47\"],\"x\":[0.625],\"y\":[0.9128787878787878],\"type\":\"scatter\"},{\"line\":{\"color\":\"black\",\"width\":1.7306826293007054},\"mode\":\"lines\",\"x\":[0.75,1,null],\"y\":[0.0,0.0,null],\"type\":\"scatter\"},{\"hovertemplate\":\"%{text}\",\"marker\":{\"color\":\"black\",\"opacity\":0,\"size\":20},\"mode\":\"markers\",\"text\":[\"Amount: 6859.19\"],\"x\":[0.875],\"y\":[0.0],\"type\":\"scatter\"},{\"line\":{\"color\":\"black\",\"width\":1.0779788114859448},\"mode\":\"lines\",\"x\":[0.75,1,null],\"y\":[0.08333333333333333,0.15384615384615385,null],\"type\":\"scatter\"},{\"hovertemplate\":\"%{text}\",\"marker\":{\"color\":\"black\",\"opacity\":0,\"size\":20},\"mode\":\"markers\",\"text\":[\"Amount: 1000.0\"],\"x\":[0.875],\"y\":[0.11858974358974358],\"type\":\"scatter\"},{\"line\":{\"color\":\"black\",\"width\":1.0},\"mode\":\"lines\",\"x\":[0.75,1,null],\"y\":[0.16666666666666666,0.07692307692307693,null],\"type\":\"scatter\"},{\"hovertemplate\":\"%{text}\",\"marker\":{\"color\":\"black\",\"opacity\":0,\"size\":20},\"mode\":\"markers\",\"text\":[\"Amount: 300.0\"],\"x\":[0.875],\"y\":[0.12179487179487179],\"type\":\"scatter\"},{\"line\":{\"color\":\"black\",\"width\":1.5235720199770575},\"mode\":\"lines\",\"x\":[0.75,1,null],\"y\":[0.25,0.23076923076923078,null],\"type\":\"scatter\"},{\"hovertemplate\":\"%{text}\",\"marker\":{\"color\":\"black\",\"opacity\":0,\"size\":20},\"mode\":\"markers\",\"text\":[\"Amount: 5000.0\"],\"x\":[0.875],\"y\":[0.2403846153846154],\"type\":\"scatter\"},{\"line\":{\"color\":\"black\",\"width\":2.860351645450396},\"mode\":\"lines\",\"x\":[0.75,1,null],\"y\":[0.3333333333333333,0.38461538461538464,null],\"type\":\"scatter\"},{\"hovertemplate\":\"%{text}\",\"marker\":{\"color\":\"black\",\"opacity\":0,\"size\":20},\"mode\":\"markers\",\"text\":[\"Amount: 17000.0\"],\"x\":[0.875],\"y\":[0.358974358974359],\"type\":\"scatter\"},{\"line\":{\"color\":\"black\",\"width\":1.6737369312385626},\"mode\":\"lines\",\"x\":[0.75,1,null],\"y\":[0.41666666666666663,0.3076923076923077,null],\"type\":\"scatter\"},{\"hovertemplate\":\"%{text}\",\"marker\":{\"color\":\"black\",\"opacity\":0,\"size\":20},\"mode\":\"markers\",\"text\":[\"Amount: 6348.0\"],\"x\":[0.875],\"y\":[0.36217948717948717],\"type\":\"scatter\"},{\"line\":{\"color\":\"black\",\"width\":2.096026728908611},\"mode\":\"lines\",\"x\":[0.75,1,null],\"y\":[0.5,0.46153846153846156,null],\"type\":\"scatter\"},{\"hovertemplate\":\"%{text}\",\"marker\":{\"color\":\"black\",\"opacity\":0,\"size\":20},\"mode\":\"markers\",\"text\":[\"Amount: 10138.81\"],\"x\":[0.875],\"y\":[0.4807692307692308],\"type\":\"scatter\"},{\"line\":{\"color\":\"black\",\"width\":1.178348681698568},\"mode\":\"lines\",\"x\":[0.75,1,null],\"y\":[0.5833333333333333,0.5384615384615385,null],\"type\":\"scatter\"},{\"hovertemplate\":\"%{text}\",\"marker\":{\"color\":\"black\",\"opacity\":0,\"size\":20},\"mode\":\"markers\",\"text\":[\"Amount: 1901.0\"],\"x\":[0.875],\"y\":[0.5608974358974359],\"type\":\"scatter\"},{\"line\":{\"color\":\"black\",\"width\":1.4677614706135456},\"mode\":\"lines\",\"x\":[0.75,1,null],\"y\":[0.6666666666666666,0.6153846153846154,null],\"type\":\"scatter\"},{\"hovertemplate\":\"%{text}\",\"marker\":{\"color\":\"black\",\"opacity\":0,\"size\":20},\"mode\":\"markers\",\"text\":[\"Amount: 4499.0\"],\"x\":[0.875],\"y\":[0.641025641025641],\"type\":\"scatter\"},{\"line\":{\"color\":\"black\",\"width\":1.2450762646701121},\"mode\":\"lines\",\"x\":[0.75,1,null],\"y\":[0.75,0.6923076923076923,null],\"type\":\"scatter\"},{\"hovertemplate\":\"%{text}\",\"marker\":{\"color\":\"black\",\"opacity\":0,\"size\":20},\"mode\":\"markers\",\"text\":[\"Amount: 2500.0\"],\"x\":[0.875],\"y\":[0.7211538461538461],\"type\":\"scatter\"},{\"line\":{\"color\":\"black\",\"width\":1.1976796290659335},\"mode\":\"lines\",\"x\":[0.75,1,null],\"y\":[0.8333333333333333,0.7692307692307693,null],\"type\":\"scatter\"},{\"hovertemplate\":\"%{text}\",\"marker\":{\"color\":\"black\",\"opacity\":0,\"size\":20},\"mode\":\"markers\",\"text\":[\"Amount: 2074.53\"],\"x\":[0.875],\"y\":[0.8012820512820513],\"type\":\"scatter\"},{\"line\":{\"color\":\"black\",\"width\":1.189377113608723},\"mode\":\"lines\",\"x\":[0.75,1,null],\"y\":[0.8333333333333333,0.9230769230769231,null],\"type\":\"scatter\"},{\"hovertemplate\":\"%{text}\",\"marker\":{\"color\":\"black\",\"opacity\":0,\"size\":20},\"mode\":\"markers\",\"text\":[\"Amount: 2000.0\"],\"x\":[0.875],\"y\":[0.8782051282051282],\"type\":\"scatter\"},{\"line\":{\"color\":\"black\",\"width\":1.001389136827471},\"mode\":\"lines\",\"x\":[0.75,1,null],\"y\":[0.9166666666666666,0.8461538461538463,null],\"type\":\"scatter\"},{\"hovertemplate\":\"%{text}\",\"marker\":{\"color\":\"black\",\"opacity\":0,\"size\":20},\"mode\":\"markers\",\"text\":[\"Amount: 312.47\"],\"x\":[0.875],\"y\":[0.8814102564102564],\"type\":\"scatter\"},{\"hovertemplate\":\"%{text}\",\"marker\":{\"color\":\"#1f77b4\",\"size\":25},\"mode\":\"markers\",\"text\":[\"Id: 0<br>Process: Sourcing<br>Location: AUSTRIA<br>Amount: 36207.19<br>Week: 1\"],\"x\":[0],\"y\":[0.0],\"type\":\"scatter\"},{\"hovertemplate\":\"%{text}\",\"marker\":{\"color\":\"#1f77b4\",\"size\":25},\"mode\":\"markers\",\"text\":[\"Id: 1<br>Process: Sourcing<br>Location: FRANCE<br>Amount: 3022.1<br>Week: 1\"],\"x\":[0],\"y\":[0.2],\"type\":\"scatter\"},{\"hovertemplate\":\"%{text}\",\"marker\":{\"color\":\"#1f77b4\",\"size\":25},\"mode\":\"markers\",\"text\":[\"Id: 2<br>Process: Sourcing<br>Location: HUNGARY<br>Amount: 14839.81<br>Week: 1\"],\"x\":[0],\"y\":[0.4],\"type\":\"scatter\"},{\"hovertemplate\":\"%{text}\",\"marker\":{\"color\":\"#1f77b4\",\"size\":25},\"mode\":\"markers\",\"text\":[\"Id: 3<br>Process: Sourcing<br>Location: GERMANY<br>Amount: 312.47<br>Week: 1\"],\"x\":[0],\"y\":[0.6000000000000001],\"type\":\"scatter\"},{\"hovertemplate\":\"%{text}\",\"marker\":{\"color\":\"#1f77b4\",\"size\":25},\"mode\":\"markers\",\"text\":[\"Id: 4<br>Process: Sourcing<br>Location: ROMANIA<br>Amount: 5551.43<br>Week: 1\"],\"x\":[0],\"y\":[0.8],\"type\":\"scatter\"},{\"hovertemplate\":\"%{text}\",\"marker\":{\"color\":\"#ff7f0e\",\"size\":25},\"mode\":\"markers\",\"text\":[\"Id: 5<br>Process: Conditioning<br>Location: HUNGARY<br>Amount: 300.0<br>Week: 1\"],\"x\":[0.25],\"y\":[0.0],\"type\":\"scatter\"},{\"hovertemplate\":\"%{text}\",\"marker\":{\"color\":\"#ff7f0e\",\"size\":25},\"mode\":\"markers\",\"text\":[\"Id: 6<br>Process: Conditioning<br>Location: AUSTRIA<br>Amount: 7859.19<br>Week: 1\"],\"x\":[0.25],\"y\":[0.14285714285714285],\"type\":\"scatter\"},{\"hovertemplate\":\"%{text}\",\"marker\":{\"color\":\"#ff7f0e\",\"size\":25},\"mode\":\"markers\",\"text\":[\"Id: 7<br>Process: Conditioning<br>Location: AUSTRIA<br>Amount: 28348.0<br>Week: 2\"],\"x\":[0.25],\"y\":[0.2857142857142857],\"type\":\"scatter\"},{\"hovertemplate\":\"%{text}\",\"marker\":{\"color\":\"#ff7f0e\",\"size\":25},\"mode\":\"markers\",\"text\":[\"Id: 16<br>Process: Conditioning<br>Location: ITALY<br>Amount: 312.47<br>Week: 8\"],\"x\":[0.25],\"y\":[0.42857142857142855],\"type\":\"scatter\"},{\"hovertemplate\":\"%{text}\",\"marker\":{\"color\":\"#ff7f0e\",\"size\":25},\"mode\":\"markers\",\"text\":[\"Id: 19<br>Process: Conditioning<br>Location: FRANCE<br>Amount: 3022.1<br>Week: 10\"],\"x\":[0.25],\"y\":[0.5714285714285714],\"type\":\"scatter\"},{\"hovertemplate\":\"%{text}\",\"marker\":{\"color\":\"#ff7f0e\",\"size\":25},\"mode\":\"markers\",\"text\":[\"Id: 20<br>Process: Conditioning<br>Location: ROMANIA<br>Amount: 5551.43<br>Week: 10\"],\"x\":[0.25],\"y\":[0.7142857142857142],\"type\":\"scatter\"},{\"hovertemplate\":\"%{text}\",\"marker\":{\"color\":\"#ff7f0e\",\"size\":25},\"mode\":\"markers\",\"text\":[\"Id: 21<br>Process: Conditioning<br>Location: HUNGARY<br>Amount: 14539.81<br>Week: 10\"],\"x\":[0.25],\"y\":[0.8571428571428571],\"type\":\"scatter\"},{\"hovertemplate\":\"%{text}\",\"marker\":{\"color\":\"#2ca02c\",\"size\":25},\"mode\":\"markers\",\"text\":[\"Id: 8<br>Process: Treatment<br>Location: ROMANIA<br>Amount: 300.0<br>Week: 4\"],\"x\":[0.5],\"y\":[0.0],\"type\":\"scatter\"},{\"hovertemplate\":\"%{text}\",\"marker\":{\"color\":\"#2ca02c\",\"size\":25},\"mode\":\"markers\",\"text\":[\"Id: 9<br>Process: Treatment<br>Location: SLOVENIA<br>Amount: 7859.19<br>Week: 4\"],\"x\":[0.5],\"y\":[0.09090909090909091],\"type\":\"scatter\"},{\"hovertemplate\":\"%{text}\",\"marker\":{\"color\":\"#2ca02c\",\"size\":25},\"mode\":\"markers\",\"text\":[\"Id: 10<br>Process: Treatment<br>Location: SLOVENIA<br>Amount: 22000.0<br>Week: 5\"],\"x\":[0.5],\"y\":[0.18181818181818182],\"type\":\"scatter\"},{\"hovertemplate\":\"%{text}\",\"marker\":{\"color\":\"#2ca02c\",\"size\":25},\"mode\":\"markers\",\"text\":[\"Id: 23<br>Process: Treatment<br>Location: HUNGARY<br>Amount: 10138.81<br>Week: 14\"],\"x\":[0.5],\"y\":[0.2727272727272727],\"type\":\"scatter\"},{\"hovertemplate\":\"%{text}\",\"marker\":{\"color\":\"#2ca02c\",\"size\":25},\"mode\":\"markers\",\"text\":[\"Id: 24<br>Process: Treatment<br>Location: SLOVENIA<br>Amount: 6348.0<br>Week: 17\"],\"x\":[0.5],\"y\":[0.36363636363636365],\"type\":\"scatter\"},{\"hovertemplate\":\"%{text}\",\"marker\":{\"color\":\"#2ca02c\",\"size\":25},\"mode\":\"markers\",\"text\":[\"Id: 26<br>Process: Treatment<br>Location: SLOVENIA<br>Amount: 2500.0<br>Week: 20\"],\"x\":[0.5],\"y\":[0.4545454545454546],\"type\":\"scatter\"},{\"hovertemplate\":\"%{text}\",\"marker\":{\"color\":\"#2ca02c\",\"size\":25},\"mode\":\"markers\",\"text\":[\"Id: 27<br>Process: Treatment<br>Location: AUSTRIA<br>Amount: 1901.0<br>Week: 20\"],\"x\":[0.5],\"y\":[0.5454545454545454],\"type\":\"scatter\"},{\"hovertemplate\":\"%{text}\",\"marker\":{\"color\":\"#2ca02c\",\"size\":25},\"mode\":\"markers\",\"text\":[\"Id: 28<br>Process: Treatment<br>Location: FRANCE<br>Amount: 1476.9<br>Week: 22\"],\"x\":[0.5],\"y\":[0.6363636363636364],\"type\":\"scatter\"},{\"hovertemplate\":\"%{text}\",\"marker\":{\"color\":\"#2ca02c\",\"size\":25},\"mode\":\"markers\",\"text\":[\"Id: 32<br>Process: Treatment<br>Location: ROMANIA<br>Amount: 4074.53<br>Week: 23\"],\"x\":[0.5],\"y\":[0.7272727272727273],\"type\":\"scatter\"},{\"hovertemplate\":\"%{text}\",\"marker\":{\"color\":\"#2ca02c\",\"size\":25},\"mode\":\"markers\",\"text\":[\"Id: 33<br>Process: Treatment<br>Location: FRANCE<br>Amount: 3022.1<br>Week: 24\"],\"x\":[0.5],\"y\":[0.8181818181818182],\"type\":\"scatter\"},{\"hovertemplate\":\"%{text}\",\"marker\":{\"color\":\"#2ca02c\",\"size\":25},\"mode\":\"markers\",\"text\":[\"Id: 36<br>Process: Treatment<br>Location: ITALY<br>Amount: 312.47<br>Week: 24\"],\"x\":[0.5],\"y\":[0.9090909090909092],\"type\":\"scatter\"},{\"hovertemplate\":\"%{text}\",\"marker\":{\"color\":\"#d62728\",\"size\":25},\"mode\":\"markers\",\"text\":[\"Id: 11<br>Process: Forwarding<br>Location: SLOVENIA<br>Amount: 6859.19<br>Week: 8\"],\"x\":[0.75],\"y\":[0.0],\"type\":\"scatter\"},{\"hovertemplate\":\"%{text}\",\"marker\":{\"color\":\"#d62728\",\"size\":25},\"mode\":\"markers\",\"text\":[\"Id: 14<br>Process: Forwarding<br>Location: FRANCE<br>Amount: 1000.0<br>Week: 8\"],\"x\":[0.75],\"y\":[0.08333333333333333],\"type\":\"scatter\"},{\"hovertemplate\":\"%{text}\",\"marker\":{\"color\":\"#d62728\",\"size\":25},\"mode\":\"markers\",\"text\":[\"Id: 15<br>Process: Forwarding<br>Location: ROMANIA<br>Amount: 300.0<br>Week: 8\"],\"x\":[0.75],\"y\":[0.16666666666666666],\"type\":\"scatter\"},{\"hovertemplate\":\"%{text}\",\"marker\":{\"color\":\"#d62728\",\"size\":25},\"mode\":\"markers\",\"text\":[\"Id: 17<br>Process: Forwarding<br>Location: FRANCE<br>Amount: 5000.0<br>Week: 9\"],\"x\":[0.75],\"y\":[0.25],\"type\":\"scatter\"},{\"hovertemplate\":\"%{text}\",\"marker\":{\"color\":\"#d62728\",\"size\":25},\"mode\":\"markers\",\"text\":[\"Id: 18<br>Process: Forwarding<br>Location: HUNGARY<br>Amount: 17000.0<br>Week: 9\"],\"x\":[0.75],\"y\":[0.3333333333333333],\"type\":\"scatter\"},{\"hovertemplate\":\"%{text}\",\"marker\":{\"color\":\"#d62728\",\"size\":25},\"mode\":\"markers\",\"text\":[\"Id: 30<br>Process: Forwarding<br>Location: SLOVENIA<br>Amount: 6348.0<br>Week: 23\"],\"x\":[0.75],\"y\":[0.41666666666666663],\"type\":\"scatter\"},{\"hovertemplate\":\"%{text}\",\"marker\":{\"color\":\"#d62728\",\"size\":25},\"mode\":\"markers\",\"text\":[\"Id: 34<br>Process: Forwarding<br>Location: HUNGARY<br>Amount: 10138.81<br>Week: 24\"],\"x\":[0.75],\"y\":[0.5],\"type\":\"scatter\"},{\"hovertemplate\":\"%{text}\",\"marker\":{\"color\":\"#d62728\",\"size\":25},\"mode\":\"markers\",\"text\":[\"Id: 37<br>Process: Forwarding<br>Location: SLOVENIA<br>Amount: 1901.0<br>Week: 25\"],\"x\":[0.75],\"y\":[0.5833333333333333],\"type\":\"scatter\"},{\"hovertemplate\":\"%{text}\",\"marker\":{\"color\":\"#d62728\",\"size\":25},\"mode\":\"markers\",\"text\":[\"Id: 39<br>Process: Forwarding<br>Location: FRANCE<br>Amount: 4499.0<br>Week: 28\"],\"x\":[0.75],\"y\":[0.6666666666666666],\"type\":\"scatter\"},{\"hovertemplate\":\"%{text}\",\"marker\":{\"color\":\"#d62728\",\"size\":25},\"mode\":\"markers\",\"text\":[\"Id: 42<br>Process: Forwarding<br>Location: SLOVENIA<br>Amount: 2500.0<br>Week: 28\"],\"x\":[0.75],\"y\":[0.75],\"type\":\"scatter\"},{\"hovertemplate\":\"%{text}\",\"marker\":{\"color\":\"#d62728\",\"size\":25},\"mode\":\"markers\",\"text\":[\"Id: 43<br>Process: Forwarding<br>Location: ROMANIA<br>Amount: 4074.53<br>Week: 28\"],\"x\":[0.75],\"y\":[0.8333333333333333],\"type\":\"scatter\"},{\"hovertemplate\":\"%{text}\",\"marker\":{\"color\":\"#d62728\",\"size\":25},\"mode\":\"markers\",\"text\":[\"Id: 45<br>Process: Forwarding<br>Location: ITALY<br>Amount: 312.47<br>Week: 28\"],\"x\":[0.75],\"y\":[0.9166666666666666],\"type\":\"scatter\"},{\"hovertemplate\":\"%{text}\",\"marker\":{\"color\":\"#9467bd\",\"size\":25},\"mode\":\"markers\",\"text\":[\"Id: 12<br>Process: Delivery<br>Location: HUNGARY<br>Amount: 6859.19<br>Week: 8\"],\"x\":[1],\"y\":[0.0],\"type\":\"scatter\"},{\"hovertemplate\":\"%{text}\",\"marker\":{\"color\":\"#9467bd\",\"size\":25},\"mode\":\"markers\",\"text\":[\"Id: 13<br>Process: Delivery<br>Location: ROMANIA<br>Amount: 300.0<br>Week: 8\"],\"x\":[1],\"y\":[0.07692307692307693],\"type\":\"scatter\"},{\"hovertemplate\":\"%{text}\",\"marker\":{\"color\":\"#9467bd\",\"size\":25},\"mode\":\"markers\",\"text\":[\"Id: 22<br>Process: Delivery<br>Location: MOLDOVA<br>Amount: 1000.0<br>Week: 13\"],\"x\":[1],\"y\":[0.15384615384615385],\"type\":\"scatter\"},{\"hovertemplate\":\"%{text}\",\"marker\":{\"color\":\"#9467bd\",\"size\":25},\"mode\":\"markers\",\"text\":[\"Id: 25<br>Process: Delivery<br>Location: MOLDOVA<br>Amount: 5000.0<br>Week: 18\"],\"x\":[1],\"y\":[0.23076923076923078],\"type\":\"scatter\"},{\"hovertemplate\":\"%{text}\",\"marker\":{\"color\":\"#9467bd\",\"size\":25},\"mode\":\"markers\",\"text\":[\"Id: 29<br>Process: Delivery<br>Location: BULGARIA<br>Amount: 6348.0<br>Week: 23\"],\"x\":[1],\"y\":[0.3076923076923077],\"type\":\"scatter\"},{\"hovertemplate\":\"%{text}\",\"marker\":{\"color\":\"#9467bd\",\"size\":25},\"mode\":\"markers\",\"text\":[\"Id: 31<br>Process: Delivery<br>Location: ROMANIA<br>Amount: 17000.0<br>Week: 23\"],\"x\":[1],\"y\":[0.38461538461538464],\"type\":\"scatter\"},{\"hovertemplate\":\"%{text}\",\"marker\":{\"color\":\"#9467bd\",\"size\":25},\"mode\":\"markers\",\"text\":[\"Id: 35<br>Process: Delivery<br>Location: HUNGARY<br>Amount: 10138.81<br>Week: 24\"],\"x\":[1],\"y\":[0.46153846153846156],\"type\":\"scatter\"},{\"hovertemplate\":\"%{text}\",\"marker\":{\"color\":\"#9467bd\",\"size\":25},\"mode\":\"markers\",\"text\":[\"Id: 38<br>Process: Delivery<br>Location: HUNGARY<br>Amount: 1901.0<br>Week: 27\"],\"x\":[1],\"y\":[0.5384615384615385],\"type\":\"scatter\"},{\"hovertemplate\":\"%{text}\",\"marker\":{\"color\":\"#9467bd\",\"size\":25},\"mode\":\"markers\",\"text\":[\"Id: 40<br>Process: Delivery<br>Location: HUNGARY<br>Amount: 4499.0<br>Week: 28\"],\"x\":[1],\"y\":[0.6153846153846154],\"type\":\"scatter\"},{\"hovertemplate\":\"%{text}\",\"marker\":{\"color\":\"#9467bd\",\"size\":25},\"mode\":\"markers\",\"text\":[\"Id: 41<br>Process: Delivery<br>Location: HUNGARY<br>Amount: 2500.0<br>Week: 28\"],\"x\":[1],\"y\":[0.6923076923076923],\"type\":\"scatter\"},{\"hovertemplate\":\"%{text}\",\"marker\":{\"color\":\"#9467bd\",\"size\":25},\"mode\":\"markers\",\"text\":[\"Id: 44<br>Process: Delivery<br>Location: ROMANIA<br>Amount: 2074.53<br>Week: 28\"],\"x\":[1],\"y\":[0.7692307692307693],\"type\":\"scatter\"},{\"hovertemplate\":\"%{text}\",\"marker\":{\"color\":\"#9467bd\",\"size\":25},\"mode\":\"markers\",\"text\":[\"Id: 46<br>Process: Delivery<br>Location: ROMANIA<br>Amount: 312.47<br>Week: 28\"],\"x\":[1],\"y\":[0.8461538461538463],\"type\":\"scatter\"},{\"hovertemplate\":\"%{text}\",\"marker\":{\"color\":\"#9467bd\",\"size\":25},\"mode\":\"markers\",\"text\":[\"Id: 47<br>Process: Delivery<br>Location: MOLDOVA<br>Amount: 2000.0<br>Week: 28\"],\"x\":[1],\"y\":[0.9230769230769231],\"type\":\"scatter\"}],                        {\"template\":{\"data\":{\"histogram2dcontour\":[{\"type\":\"histogram2dcontour\",\"colorbar\":{\"outlinewidth\":0,\"ticks\":\"\"},\"colorscale\":[[0.0,\"#0d0887\"],[0.1111111111111111,\"#46039f\"],[0.2222222222222222,\"#7201a8\"],[0.3333333333333333,\"#9c179e\"],[0.4444444444444444,\"#bd3786\"],[0.5555555555555556,\"#d8576b\"],[0.6666666666666666,\"#ed7953\"],[0.7777777777777778,\"#fb9f3a\"],[0.8888888888888888,\"#fdca26\"],[1.0,\"#f0f921\"]]}],\"choropleth\":[{\"type\":\"choropleth\",\"colorbar\":{\"outlinewidth\":0,\"ticks\":\"\"}}],\"histogram2d\":[{\"type\":\"histogram2d\",\"colorbar\":{\"outlinewidth\":0,\"ticks\":\"\"},\"colorscale\":[[0.0,\"#0d0887\"],[0.1111111111111111,\"#46039f\"],[0.2222222222222222,\"#7201a8\"],[0.3333333333333333,\"#9c179e\"],[0.4444444444444444,\"#bd3786\"],[0.5555555555555556,\"#d8576b\"],[0.6666666666666666,\"#ed7953\"],[0.7777777777777778,\"#fb9f3a\"],[0.8888888888888888,\"#fdca26\"],[1.0,\"#f0f921\"]]}],\"heatmap\":[{\"type\":\"heatmap\",\"colorbar\":{\"outlinewidth\":0,\"ticks\":\"\"},\"colorscale\":[[0.0,\"#0d0887\"],[0.1111111111111111,\"#46039f\"],[0.2222222222222222,\"#7201a8\"],[0.3333333333333333,\"#9c179e\"],[0.4444444444444444,\"#bd3786\"],[0.5555555555555556,\"#d8576b\"],[0.6666666666666666,\"#ed7953\"],[0.7777777777777778,\"#fb9f3a\"],[0.8888888888888888,\"#fdca26\"],[1.0,\"#f0f921\"]]}],\"heatmapgl\":[{\"type\":\"heatmapgl\",\"colorbar\":{\"outlinewidth\":0,\"ticks\":\"\"},\"colorscale\":[[0.0,\"#0d0887\"],[0.1111111111111111,\"#46039f\"],[0.2222222222222222,\"#7201a8\"],[0.3333333333333333,\"#9c179e\"],[0.4444444444444444,\"#bd3786\"],[0.5555555555555556,\"#d8576b\"],[0.6666666666666666,\"#ed7953\"],[0.7777777777777778,\"#fb9f3a\"],[0.8888888888888888,\"#fdca26\"],[1.0,\"#f0f921\"]]}],\"contourcarpet\":[{\"type\":\"contourcarpet\",\"colorbar\":{\"outlinewidth\":0,\"ticks\":\"\"}}],\"contour\":[{\"type\":\"contour\",\"colorbar\":{\"outlinewidth\":0,\"ticks\":\"\"},\"colorscale\":[[0.0,\"#0d0887\"],[0.1111111111111111,\"#46039f\"],[0.2222222222222222,\"#7201a8\"],[0.3333333333333333,\"#9c179e\"],[0.4444444444444444,\"#bd3786\"],[0.5555555555555556,\"#d8576b\"],[0.6666666666666666,\"#ed7953\"],[0.7777777777777778,\"#fb9f3a\"],[0.8888888888888888,\"#fdca26\"],[1.0,\"#f0f921\"]]}],\"surface\":[{\"type\":\"surface\",\"colorbar\":{\"outlinewidth\":0,\"ticks\":\"\"},\"colorscale\":[[0.0,\"#0d0887\"],[0.1111111111111111,\"#46039f\"],[0.2222222222222222,\"#7201a8\"],[0.3333333333333333,\"#9c179e\"],[0.4444444444444444,\"#bd3786\"],[0.5555555555555556,\"#d8576b\"],[0.6666666666666666,\"#ed7953\"],[0.7777777777777778,\"#fb9f3a\"],[0.8888888888888888,\"#fdca26\"],[1.0,\"#f0f921\"]]}],\"mesh3d\":[{\"type\":\"mesh3d\",\"colorbar\":{\"outlinewidth\":0,\"ticks\":\"\"}}],\"scatter\":[{\"fillpattern\":{\"fillmode\":\"overlay\",\"size\":10,\"solidity\":0.2},\"type\":\"scatter\"}],\"parcoords\":[{\"type\":\"parcoords\",\"line\":{\"colorbar\":{\"outlinewidth\":0,\"ticks\":\"\"}}}],\"scatterpolargl\":[{\"type\":\"scatterpolargl\",\"marker\":{\"colorbar\":{\"outlinewidth\":0,\"ticks\":\"\"}}}],\"bar\":[{\"error_x\":{\"color\":\"#2a3f5f\"},\"error_y\":{\"color\":\"#2a3f5f\"},\"marker\":{\"line\":{\"color\":\"#E5ECF6\",\"width\":0.5},\"pattern\":{\"fillmode\":\"overlay\",\"size\":10,\"solidity\":0.2}},\"type\":\"bar\"}],\"scattergeo\":[{\"type\":\"scattergeo\",\"marker\":{\"colorbar\":{\"outlinewidth\":0,\"ticks\":\"\"}}}],\"scatterpolar\":[{\"type\":\"scatterpolar\",\"marker\":{\"colorbar\":{\"outlinewidth\":0,\"ticks\":\"\"}}}],\"histogram\":[{\"marker\":{\"pattern\":{\"fillmode\":\"overlay\",\"size\":10,\"solidity\":0.2}},\"type\":\"histogram\"}],\"scattergl\":[{\"type\":\"scattergl\",\"marker\":{\"colorbar\":{\"outlinewidth\":0,\"ticks\":\"\"}}}],\"scatter3d\":[{\"type\":\"scatter3d\",\"line\":{\"colorbar\":{\"outlinewidth\":0,\"ticks\":\"\"}},\"marker\":{\"colorbar\":{\"outlinewidth\":0,\"ticks\":\"\"}}}],\"scattermapbox\":[{\"type\":\"scattermapbox\",\"marker\":{\"colorbar\":{\"outlinewidth\":0,\"ticks\":\"\"}}}],\"scatterternary\":[{\"type\":\"scatterternary\",\"marker\":{\"colorbar\":{\"outlinewidth\":0,\"ticks\":\"\"}}}],\"scattercarpet\":[{\"type\":\"scattercarpet\",\"marker\":{\"colorbar\":{\"outlinewidth\":0,\"ticks\":\"\"}}}],\"carpet\":[{\"aaxis\":{\"endlinecolor\":\"#2a3f5f\",\"gridcolor\":\"white\",\"linecolor\":\"white\",\"minorgridcolor\":\"white\",\"startlinecolor\":\"#2a3f5f\"},\"baxis\":{\"endlinecolor\":\"#2a3f5f\",\"gridcolor\":\"white\",\"linecolor\":\"white\",\"minorgridcolor\":\"white\",\"startlinecolor\":\"#2a3f5f\"},\"type\":\"carpet\"}],\"table\":[{\"cells\":{\"fill\":{\"color\":\"#EBF0F8\"},\"line\":{\"color\":\"white\"}},\"header\":{\"fill\":{\"color\":\"#C8D4E3\"},\"line\":{\"color\":\"white\"}},\"type\":\"table\"}],\"barpolar\":[{\"marker\":{\"line\":{\"color\":\"#E5ECF6\",\"width\":0.5},\"pattern\":{\"fillmode\":\"overlay\",\"size\":10,\"solidity\":0.2}},\"type\":\"barpolar\"}],\"pie\":[{\"automargin\":true,\"type\":\"pie\"}]},\"layout\":{\"autotypenumbers\":\"strict\",\"colorway\":[\"#636efa\",\"#EF553B\",\"#00cc96\",\"#ab63fa\",\"#FFA15A\",\"#19d3f3\",\"#FF6692\",\"#B6E880\",\"#FF97FF\",\"#FECB52\"],\"font\":{\"color\":\"#2a3f5f\"},\"hovermode\":\"closest\",\"hoverlabel\":{\"align\":\"left\"},\"paper_bgcolor\":\"white\",\"plot_bgcolor\":\"#E5ECF6\",\"polar\":{\"bgcolor\":\"#E5ECF6\",\"angularaxis\":{\"gridcolor\":\"white\",\"linecolor\":\"white\",\"ticks\":\"\"},\"radialaxis\":{\"gridcolor\":\"white\",\"linecolor\":\"white\",\"ticks\":\"\"}},\"ternary\":{\"bgcolor\":\"#E5ECF6\",\"aaxis\":{\"gridcolor\":\"white\",\"linecolor\":\"white\",\"ticks\":\"\"},\"baxis\":{\"gridcolor\":\"white\",\"linecolor\":\"white\",\"ticks\":\"\"},\"caxis\":{\"gridcolor\":\"white\",\"linecolor\":\"white\",\"ticks\":\"\"}},\"coloraxis\":{\"colorbar\":{\"outlinewidth\":0,\"ticks\":\"\"}},\"colorscale\":{\"sequential\":[[0.0,\"#0d0887\"],[0.1111111111111111,\"#46039f\"],[0.2222222222222222,\"#7201a8\"],[0.3333333333333333,\"#9c179e\"],[0.4444444444444444,\"#bd3786\"],[0.5555555555555556,\"#d8576b\"],[0.6666666666666666,\"#ed7953\"],[0.7777777777777778,\"#fb9f3a\"],[0.8888888888888888,\"#fdca26\"],[1.0,\"#f0f921\"]],\"sequentialminus\":[[0.0,\"#0d0887\"],[0.1111111111111111,\"#46039f\"],[0.2222222222222222,\"#7201a8\"],[0.3333333333333333,\"#9c179e\"],[0.4444444444444444,\"#bd3786\"],[0.5555555555555556,\"#d8576b\"],[0.6666666666666666,\"#ed7953\"],[0.7777777777777778,\"#fb9f3a\"],[0.8888888888888888,\"#fdca26\"],[1.0,\"#f0f921\"]],\"diverging\":[[0,\"#8e0152\"],[0.1,\"#c51b7d\"],[0.2,\"#de77ae\"],[0.3,\"#f1b6da\"],[0.4,\"#fde0ef\"],[0.5,\"#f7f7f7\"],[0.6,\"#e6f5d0\"],[0.7,\"#b8e186\"],[0.8,\"#7fbc41\"],[0.9,\"#4d9221\"],[1,\"#276419\"]]},\"xaxis\":{\"gridcolor\":\"white\",\"linecolor\":\"white\",\"ticks\":\"\",\"title\":{\"standoff\":15},\"zerolinecolor\":\"white\",\"automargin\":true,\"zerolinewidth\":2},\"yaxis\":{\"gridcolor\":\"white\",\"linecolor\":\"white\",\"ticks\":\"\",\"title\":{\"standoff\":15},\"zerolinecolor\":\"white\",\"automargin\":true,\"zerolinewidth\":2},\"scene\":{\"xaxis\":{\"backgroundcolor\":\"#E5ECF6\",\"gridcolor\":\"white\",\"linecolor\":\"white\",\"showbackground\":true,\"ticks\":\"\",\"zerolinecolor\":\"white\",\"gridwidth\":2},\"yaxis\":{\"backgroundcolor\":\"#E5ECF6\",\"gridcolor\":\"white\",\"linecolor\":\"white\",\"showbackground\":true,\"ticks\":\"\",\"zerolinecolor\":\"white\",\"gridwidth\":2},\"zaxis\":{\"backgroundcolor\":\"#E5ECF6\",\"gridcolor\":\"white\",\"linecolor\":\"white\",\"showbackground\":true,\"ticks\":\"\",\"zerolinecolor\":\"white\",\"gridwidth\":2}},\"shapedefaults\":{\"line\":{\"color\":\"#2a3f5f\"}},\"annotationdefaults\":{\"arrowcolor\":\"#2a3f5f\",\"arrowhead\":0,\"arrowwidth\":1},\"geo\":{\"bgcolor\":\"white\",\"landcolor\":\"#E5ECF6\",\"subunitcolor\":\"white\",\"showland\":true,\"showlakes\":true,\"lakecolor\":\"white\"},\"title\":{\"x\":0.05},\"mapbox\":{\"style\":\"light\"}}},\"hovermode\":\"closest\",\"showlegend\":false,\"plot_bgcolor\":\"white\",\"margin\":{\"l\":20,\"r\":20,\"t\":20,\"b\":20},\"xaxis\":{\"tickmode\":\"array\",\"tickvals\":[0,0.25,0.5,0.75,1],\"ticktext\":[\"Sourcing\",\"Conditioning\",\"Treatment\",\"Forwarding\",\"Delivery\"]},\"yaxis\":{\"visible\":false},\"width\":900},                        {\"responsive\": true}                    ).then(function(){\n",
       "                            \n",
       "var gd = document.getElementById('5f6d878d-4a20-42f5-bfbe-5374175cb679');\n",
       "var x = new MutationObserver(function (mutations, observer) {{\n",
       "        var display = window.getComputedStyle(gd).display;\n",
       "        if (!display || display === 'none') {{\n",
       "            console.log([gd, 'removed!']);\n",
       "            Plotly.purge(gd);\n",
       "            observer.disconnect();\n",
       "        }}\n",
       "}});\n",
       "\n",
       "// Listen for the removal of the full notebook cells\n",
       "var notebookContainer = gd.closest('#notebook-container');\n",
       "if (notebookContainer) {{\n",
       "    x.observe(notebookContainer, {childList: true});\n",
       "}}\n",
       "\n",
       "// Listen for the clearing of the current output cell\n",
       "var outputEl = gd.closest('.output');\n",
       "if (outputEl) {{\n",
       "    x.observe(outputEl, {childList: true});\n",
       "}}\n",
       "\n",
       "                        })                };                });            </script>        </div>"
      ]
     },
     "metadata": {},
     "output_type": "display_data"
    }
   ],
   "source": [
    "\n",
    "input1_solution.ivisualize()"
   ]
  },
  {
   "attachments": {},
   "cell_type": "markdown",
   "metadata": {},
   "source": [
    "### Input 2"
   ]
  },
  {
   "cell_type": "code",
   "execution_count": 56,
   "metadata": {},
   "outputs": [
    {
     "data": {
      "text/html": [
       "<div>\n",
       "<style scoped>\n",
       "    .dataframe tbody tr th:only-of-type {\n",
       "        vertical-align: middle;\n",
       "    }\n",
       "\n",
       "    .dataframe tbody tr th {\n",
       "        vertical-align: top;\n",
       "    }\n",
       "\n",
       "    .dataframe thead th {\n",
       "        text-align: right;\n",
       "    }\n",
       "</style>\n",
       "<table border=\"1\" class=\"dataframe\">\n",
       "  <thead>\n",
       "    <tr style=\"text-align: right;\">\n",
       "      <th></th>\n",
       "      <th>product</th>\n",
       "      <th>treatment</th>\n",
       "      <th>send_from_cnt</th>\n",
       "      <th>to_processing_cnt</th>\n",
       "      <th>for_process</th>\n",
       "      <th>Week</th>\n",
       "      <th>Amount</th>\n",
       "    </tr>\n",
       "  </thead>\n",
       "  <tbody>\n",
       "    <tr>\n",
       "      <th>0</th>\n",
       "      <td>P11</td>\n",
       "      <td>I003</td>\n",
       "      <td>NaN</td>\n",
       "      <td>AUSTRIA</td>\n",
       "      <td>Sourcing</td>\n",
       "      <td>1</td>\n",
       "      <td>2222</td>\n",
       "    </tr>\n",
       "    <tr>\n",
       "      <th>1</th>\n",
       "      <td>P11</td>\n",
       "      <td>I003</td>\n",
       "      <td>AUSTRIA</td>\n",
       "      <td>AUSTRIA</td>\n",
       "      <td>Conditioning</td>\n",
       "      <td>1</td>\n",
       "      <td>2222</td>\n",
       "    </tr>\n",
       "    <tr>\n",
       "      <th>2</th>\n",
       "      <td>P11</td>\n",
       "      <td>I003</td>\n",
       "      <td>AUSTRIA</td>\n",
       "      <td>SLOVENIA</td>\n",
       "      <td>Treatment</td>\n",
       "      <td>5</td>\n",
       "      <td>2222</td>\n",
       "    </tr>\n",
       "    <tr>\n",
       "      <th>3</th>\n",
       "      <td>P11</td>\n",
       "      <td>I003</td>\n",
       "      <td>SLOVENIA</td>\n",
       "      <td>CROATIA</td>\n",
       "      <td>Forwarding</td>\n",
       "      <td>14</td>\n",
       "      <td>1454</td>\n",
       "    </tr>\n",
       "    <tr>\n",
       "      <th>4</th>\n",
       "      <td>P11</td>\n",
       "      <td>I003</td>\n",
       "      <td>SLOVENIA</td>\n",
       "      <td>CROATIA</td>\n",
       "      <td>Forwarding</td>\n",
       "      <td>18</td>\n",
       "      <td>768</td>\n",
       "    </tr>\n",
       "  </tbody>\n",
       "</table>\n",
       "</div>"
      ],
      "text/plain": [
       "  product treatment send_from_cnt to_processing_cnt   for_process  Week   \n",
       "0     P11      I003           NaN           AUSTRIA      Sourcing     1  \\\n",
       "1     P11      I003       AUSTRIA           AUSTRIA  Conditioning     1   \n",
       "2     P11      I003       AUSTRIA          SLOVENIA     Treatment     5   \n",
       "3     P11      I003      SLOVENIA           CROATIA    Forwarding    14   \n",
       "4     P11      I003      SLOVENIA           CROATIA    Forwarding    18   \n",
       "\n",
       "   Amount  \n",
       "0    2222  \n",
       "1    2222  \n",
       "2    2222  \n",
       "3    1454  \n",
       "4     768  "
      ]
     },
     "execution_count": 56,
     "metadata": {},
     "output_type": "execute_result"
    }
   ],
   "source": [
    "data[\"Input2\"].head()"
   ]
  },
  {
   "cell_type": "code",
   "execution_count": 57,
   "metadata": {},
   "outputs": [],
   "source": [
    "input2_model = NetworkFlowModel(data[\"Input2\"])\n",
    "input2_solution = input2_model.solve()"
   ]
  },
  {
   "cell_type": "code",
   "execution_count": 58,
   "metadata": {},
   "outputs": [
    {
     "data": {
      "text/html": [
       "<div>\n",
       "<style scoped>\n",
       "    .dataframe tbody tr th:only-of-type {\n",
       "        vertical-align: middle;\n",
       "    }\n",
       "\n",
       "    .dataframe tbody tr th {\n",
       "        vertical-align: top;\n",
       "    }\n",
       "\n",
       "    .dataframe thead th {\n",
       "        text-align: right;\n",
       "    }\n",
       "</style>\n",
       "<table border=\"1\" class=\"dataframe\">\n",
       "  <thead>\n",
       "    <tr style=\"text-align: right;\">\n",
       "      <th></th>\n",
       "      <th>Process1_id</th>\n",
       "      <th>Process1_Cnt</th>\n",
       "      <th>Process1_Amount</th>\n",
       "      <th>Process1_Week</th>\n",
       "      <th>Process2_id</th>\n",
       "      <th>Process2_Cnt</th>\n",
       "      <th>Process2_Amount</th>\n",
       "      <th>Process2_Week</th>\n",
       "      <th>Process3_id</th>\n",
       "      <th>Process3_Cnt</th>\n",
       "      <th>Process3_Amount</th>\n",
       "      <th>Process3_Week</th>\n",
       "      <th>Process4_id</th>\n",
       "      <th>Process4_Cnt</th>\n",
       "      <th>Process4_Amount</th>\n",
       "      <th>Process4_Week</th>\n",
       "      <th>Process5_id</th>\n",
       "      <th>Process5_Cnt</th>\n",
       "      <th>Process5_Amount</th>\n",
       "      <th>Process5_Week</th>\n",
       "    </tr>\n",
       "  </thead>\n",
       "  <tbody>\n",
       "    <tr>\n",
       "      <th>0</th>\n",
       "      <td>0</td>\n",
       "      <td>AUSTRIA</td>\n",
       "      <td>1454.0</td>\n",
       "      <td>1</td>\n",
       "      <td>1.0</td>\n",
       "      <td>AUSTRIA</td>\n",
       "      <td>1454.0</td>\n",
       "      <td>1.0</td>\n",
       "      <td>2.0</td>\n",
       "      <td>SLOVENIA</td>\n",
       "      <td>1454.0</td>\n",
       "      <td>5.0</td>\n",
       "      <td>3.0</td>\n",
       "      <td>CROATIA</td>\n",
       "      <td>1454.0</td>\n",
       "      <td>14.0</td>\n",
       "      <td>5.0</td>\n",
       "      <td>CROATIA</td>\n",
       "      <td>1454.0</td>\n",
       "      <td>21.0</td>\n",
       "    </tr>\n",
       "    <tr>\n",
       "      <th>1</th>\n",
       "      <td>0</td>\n",
       "      <td>AUSTRIA</td>\n",
       "      <td>768.0</td>\n",
       "      <td>1</td>\n",
       "      <td>1.0</td>\n",
       "      <td>AUSTRIA</td>\n",
       "      <td>768.0</td>\n",
       "      <td>1.0</td>\n",
       "      <td>2.0</td>\n",
       "      <td>SLOVENIA</td>\n",
       "      <td>768.0</td>\n",
       "      <td>5.0</td>\n",
       "      <td>4.0</td>\n",
       "      <td>CROATIA</td>\n",
       "      <td>768.0</td>\n",
       "      <td>18.0</td>\n",
       "      <td>6.0</td>\n",
       "      <td>BOSNIA-HERZ.</td>\n",
       "      <td>768.0</td>\n",
       "      <td>23.0</td>\n",
       "    </tr>\n",
       "  </tbody>\n",
       "</table>\n",
       "</div>"
      ],
      "text/plain": [
       "   Process1_id Process1_Cnt  Process1_Amount  Process1_Week  Process2_id   \n",
       "0            0      AUSTRIA           1454.0              1          1.0  \\\n",
       "1            0      AUSTRIA            768.0              1          1.0   \n",
       "\n",
       "  Process2_Cnt  Process2_Amount  Process2_Week  Process3_id Process3_Cnt   \n",
       "0      AUSTRIA           1454.0            1.0          2.0     SLOVENIA  \\\n",
       "1      AUSTRIA            768.0            1.0          2.0     SLOVENIA   \n",
       "\n",
       "   Process3_Amount  Process3_Week  Process4_id Process4_Cnt  Process4_Amount   \n",
       "0           1454.0            5.0          3.0      CROATIA           1454.0  \\\n",
       "1            768.0            5.0          4.0      CROATIA            768.0   \n",
       "\n",
       "   Process4_Week  Process5_id  Process5_Cnt  Process5_Amount  Process5_Week  \n",
       "0           14.0          5.0       CROATIA           1454.0           21.0  \n",
       "1           18.0          6.0  BOSNIA-HERZ.            768.0           23.0  "
      ]
     },
     "execution_count": 58,
     "metadata": {},
     "output_type": "execute_result"
    }
   ],
   "source": [
    "input2_solution.demands"
   ]
  },
  {
   "cell_type": "code",
   "execution_count": 59,
   "metadata": {},
   "outputs": [
    {
     "data": {
      "image/png": "[encoded data removed]",
      "text/plain": [
       "<Figure size 1000x1000 with 1 Axes>"
      ]
     },
     "metadata": {},
     "output_type": "display_data"
    }
   ],
   "source": [
    "input2_solution.visualize()"
   ]
  },
  {
   "cell_type": "code",
   "execution_count": 75,
   "metadata": {},
   "outputs": [
    {
     "data": {
      "application/vnd.plotly.v1+json": {
       "config": {
        "plotlyServerURL": "https://plot.ly"
       },
       "data": [
        {
         "line": {
          "color": "black",
          "width": 5
         },
         "mode": "lines",
         "type": "scatter",
         "x": [
          0,
          0.25,
          null
         ],
         "y": [
          0,
          0,
          null
         ]
        },
        {
         "hovertemplate": "%{text}",
         "marker": {
          "color": "black",
          "opacity": 0,
          "size": 20
         },
         "mode": "markers",
         "text": [
          "Amount: 2222.0"
         ],
         "type": "scatter",
         "x": [
          0.125
         ],
         "y": [
          0
         ]
        },
        {
         "line": {
          "color": "black",
          "width": 5
         },
         "mode": "lines",
         "type": "scatter",
         "x": [
          0.25,
          0.5,
          null
         ],
         "y": [
          0,
          0,
          null
         ]
        },
        {
         "hovertemplate": "%{text}",
         "marker": {
          "color": "black",
          "opacity": 0,
          "size": 20
         },
         "mode": "markers",
         "text": [
          "Amount: 2222.0"
         ],
         "type": "scatter",
         "x": [
          0.375
         ],
         "y": [
          0
         ]
        },
        {
         "line": {
          "color": "black",
          "width": 2.887207702888583
         },
         "mode": "lines",
         "type": "scatter",
         "x": [
          0.5,
          0.75,
          null
         ],
         "y": [
          0,
          0,
          null
         ]
        },
        {
         "hovertemplate": "%{text}",
         "marker": {
          "color": "black",
          "opacity": 0,
          "size": 20
         },
         "mode": "markers",
         "text": [
          "Amount: 1454.0"
         ],
         "type": "scatter",
         "x": [
          0.625
         ],
         "y": [
          0
         ]
        },
        {
         "line": {
          "color": "black",
          "width": 1
         },
         "mode": "lines",
         "type": "scatter",
         "x": [
          0.5,
          0.75,
          null
         ],
         "y": [
          0,
          0.5,
          null
         ]
        },
        {
         "hovertemplate": "%{text}",
         "marker": {
          "color": "black",
          "opacity": 0,
          "size": 20
         },
         "mode": "markers",
         "text": [
          "Amount: 768.0"
         ],
         "type": "scatter",
         "x": [
          0.625
         ],
         "y": [
          0.25
         ]
        },
        {
         "line": {
          "color": "black",
          "width": 2.887207702888583
         },
         "mode": "lines",
         "type": "scatter",
         "x": [
          0.75,
          1,
          null
         ],
         "y": [
          0,
          0,
          null
         ]
        },
        {
         "hovertemplate": "%{text}",
         "marker": {
          "color": "black",
          "opacity": 0,
          "size": 20
         },
         "mode": "markers",
         "text": [
          "Amount: 1454.0"
         ],
         "type": "scatter",
         "x": [
          0.875
         ],
         "y": [
          0
         ]
        },
        {
         "line": {
          "color": "black",
          "width": 1
         },
         "mode": "lines",
         "type": "scatter",
         "x": [
          0.75,
          1,
          null
         ],
         "y": [
          0.5,
          0.5,
          null
         ]
        },
        {
         "hovertemplate": "%{text}",
         "marker": {
          "color": "black",
          "opacity": 0,
          "size": 20
         },
         "mode": "markers",
         "text": [
          "Amount: 768.0"
         ],
         "type": "scatter",
         "x": [
          0.875
         ],
         "y": [
          0.5
         ]
        },
        {
         "hovertemplate": "%{text}",
         "marker": {
          "color": "#1f77b4",
          "size": 25
         },
         "mode": "markers",
         "text": [
          "Id: 0<br>Process: Sourcing<br>Location: AUSTRIA<br>Amount: 2222.0<br>Week: 1"
         ],
         "type": "scatter",
         "x": [
          0
         ],
         "y": [
          0
         ]
        },
        {
         "hovertemplate": "%{text}",
         "marker": {
          "color": "#ff7f0e",
          "size": 25
         },
         "mode": "markers",
         "text": [
          "Id: 1<br>Process: Conditioning<br>Location: AUSTRIA<br>Amount: 2222.0<br>Week: 1"
         ],
         "type": "scatter",
         "x": [
          0.25
         ],
         "y": [
          0
         ]
        },
        {
         "hovertemplate": "%{text}",
         "marker": {
          "color": "#2ca02c",
          "size": 25
         },
         "mode": "markers",
         "text": [
          "Id: 2<br>Process: Treatment<br>Location: SLOVENIA<br>Amount: 2222.0<br>Week: 5"
         ],
         "type": "scatter",
         "x": [
          0.5
         ],
         "y": [
          0
         ]
        },
        {
         "hovertemplate": "%{text}",
         "marker": {
          "color": "#d62728",
          "size": 25
         },
         "mode": "markers",
         "text": [
          "Id: 3<br>Process: Forwarding<br>Location: CROATIA<br>Amount: 1454.0<br>Week: 14"
         ],
         "type": "scatter",
         "x": [
          0.75
         ],
         "y": [
          0
         ]
        },
        {
         "hovertemplate": "%{text}",
         "marker": {
          "color": "#d62728",
          "size": 25
         },
         "mode": "markers",
         "text": [
          "Id: 4<br>Process: Forwarding<br>Location: CROATIA<br>Amount: 768.0<br>Week: 18"
         ],
         "type": "scatter",
         "x": [
          0.75
         ],
         "y": [
          0.5
         ]
        },
        {
         "hovertemplate": "%{text}",
         "marker": {
          "color": "#9467bd",
          "size": 25
         },
         "mode": "markers",
         "text": [
          "Id: 5<br>Process: Delivery<br>Location: CROATIA<br>Amount: 1454.0<br>Week: 21"
         ],
         "type": "scatter",
         "x": [
          1
         ],
         "y": [
          0
         ]
        },
        {
         "hovertemplate": "%{text}",
         "marker": {
          "color": "#9467bd",
          "size": 25
         },
         "mode": "markers",
         "text": [
          "Id: 6<br>Process: Delivery<br>Location: BOSNIA-HERZ.<br>Amount: 768.0<br>Week: 23"
         ],
         "type": "scatter",
         "x": [
          1
         ],
         "y": [
          0.5
         ]
        }
       ],
       "layout": {
        "hovermode": "closest",
        "margin": {
         "b": 20,
         "l": 20,
         "r": 20,
         "t": 20
        },
        "plot_bgcolor": "white",
        "showlegend": false,
        "template": {
         "data": {
          "bar": [
           {
            "error_x": {
             "color": "#2a3f5f"
            },
            "error_y": {
             "color": "#2a3f5f"
            },
            "marker": {
             "line": {
              "color": "#E5ECF6",
              "width": 0.5
             },
             "pattern": {
              "fillmode": "overlay",
              "size": 10,
              "solidity": 0.2
             }
            },
            "type": "bar"
           }
          ],
          "barpolar": [
           {
            "marker": {
             "line": {
              "color": "#E5ECF6",
              "width": 0.5
             },
             "pattern": {
              "fillmode": "overlay",
              "size": 10,
              "solidity": 0.2
             }
            },
            "type": "barpolar"
           }
          ],
          "carpet": [
           {
            "aaxis": {
             "endlinecolor": "#2a3f5f",
             "gridcolor": "white",
             "linecolor": "white",
             "minorgridcolor": "white",
             "startlinecolor": "#2a3f5f"
            },
            "baxis": {
             "endlinecolor": "#2a3f5f",
             "gridcolor": "white",
             "linecolor": "white",
             "minorgridcolor": "white",
             "startlinecolor": "#2a3f5f"
            },
            "type": "carpet"
           }
          ],
          "choropleth": [
           {
            "colorbar": {
             "outlinewidth": 0,
             "ticks": ""
            },
            "type": "choropleth"
           }
          ],
          "contour": [
           {
            "colorbar": {
             "outlinewidth": 0,
             "ticks": ""
            },
            "colorscale": [
             [
              0,
              "#0d0887"
             ],
             [
              0.1111111111111111,
              "#46039f"
             ],
             [
              0.2222222222222222,
              "#7201a8"
             ],
             [
              0.3333333333333333,
              "#9c179e"
             ],
             [
              0.4444444444444444,
              "#bd3786"
             ],
             [
              0.5555555555555556,
              "#d8576b"
             ],
             [
              0.6666666666666666,
              "#ed7953"
             ],
             [
              0.7777777777777778,
              "#fb9f3a"
             ],
             [
              0.8888888888888888,
              "#fdca26"
             ],
             [
              1,
              "#f0f921"
             ]
            ],
            "type": "contour"
           }
          ],
          "contourcarpet": [
           {
            "colorbar": {
             "outlinewidth": 0,
             "ticks": ""
            },
            "type": "contourcarpet"
           }
          ],
          "heatmap": [
           {
            "colorbar": {
             "outlinewidth": 0,
             "ticks": ""
            },
            "colorscale": [
             [
              0,
              "#0d0887"
             ],
             [
              0.1111111111111111,
              "#46039f"
             ],
             [
              0.2222222222222222,
              "#7201a8"
             ],
             [
              0.3333333333333333,
              "#9c179e"
             ],
             [
              0.4444444444444444,
              "#bd3786"
             ],
             [
              0.5555555555555556,
              "#d8576b"
             ],
             [
              0.6666666666666666,
              "#ed7953"
             ],
             [
              0.7777777777777778,
              "#fb9f3a"
             ],
             [
              0.8888888888888888,
              "#fdca26"
             ],
             [
              1,
              "#f0f921"
             ]
            ],
            "type": "heatmap"
           }
          ],
          "heatmapgl": [
           {
            "colorbar": {
             "outlinewidth": 0,
             "ticks": ""
            },
            "colorscale": [
             [
              0,
              "#0d0887"
             ],
             [
              0.1111111111111111,
              "#46039f"
             ],
             [
              0.2222222222222222,
              "#7201a8"
             ],
             [
              0.3333333333333333,
              "#9c179e"
             ],
             [
              0.4444444444444444,
              "#bd3786"
             ],
             [
              0.5555555555555556,
              "#d8576b"
             ],
             [
              0.6666666666666666,
              "#ed7953"
             ],
             [
              0.7777777777777778,
              "#fb9f3a"
             ],
             [
              0.8888888888888888,
              "#fdca26"
             ],
             [
              1,
              "#f0f921"
             ]
            ],
            "type": "heatmapgl"
           }
          ],
          "histogram": [
           {
            "marker": {
             "pattern": {
              "fillmode": "overlay",
              "size": 10,
              "solidity": 0.2
             }
            },
            "type": "histogram"
           }
          ],
          "histogram2d": [
           {
            "colorbar": {
             "outlinewidth": 0,
             "ticks": ""
            },
            "colorscale": [
             [
              0,
              "#0d0887"
             ],
             [
              0.1111111111111111,
              "#46039f"
             ],
             [
              0.2222222222222222,
              "#7201a8"
             ],
             [
              0.3333333333333333,
              "#9c179e"
             ],
             [
              0.4444444444444444,
              "#bd3786"
             ],
             [
              0.5555555555555556,
              "#d8576b"
             ],
             [
              0.6666666666666666,
              "#ed7953"
             ],
             [
              0.7777777777777778,
              "#fb9f3a"
             ],
             [
              0.8888888888888888,
              "#fdca26"
             ],
             [
              1,
              "#f0f921"
             ]
            ],
            "type": "histogram2d"
           }
          ],
          "histogram2dcontour": [
           {
            "colorbar": {
             "outlinewidth": 0,
             "ticks": ""
            },
            "colorscale": [
             [
              0,
              "#0d0887"
             ],
             [
              0.1111111111111111,
              "#46039f"
             ],
             [
              0.2222222222222222,
              "#7201a8"
             ],
             [
              0.3333333333333333,
              "#9c179e"
             ],
             [
              0.4444444444444444,
              "#bd3786"
             ],
             [
              0.5555555555555556,
              "#d8576b"
             ],
             [
              0.6666666666666666,
              "#ed7953"
             ],
             [
              0.7777777777777778,
              "#fb9f3a"
             ],
             [
              0.8888888888888888,
              "#fdca26"
             ],
             [
              1,
              "#f0f921"
             ]
            ],
            "type": "histogram2dcontour"
           }
          ],
          "mesh3d": [
           {
            "colorbar": {
             "outlinewidth": 0,
             "ticks": ""
            },
            "type": "mesh3d"
           }
          ],
          "parcoords": [
           {
            "line": {
             "colorbar": {
              "outlinewidth": 0,
              "ticks": ""
             }
            },
            "type": "parcoords"
           }
          ],
          "pie": [
           {
            "automargin": true,
            "type": "pie"
           }
          ],
          "scatter": [
           {
            "fillpattern": {
             "fillmode": "overlay",
             "size": 10,
             "solidity": 0.2
            },
            "type": "scatter"
           }
          ],
          "scatter3d": [
           {
            "line": {
             "colorbar": {
              "outlinewidth": 0,
              "ticks": ""
             }
            },
            "marker": {
             "colorbar": {
              "outlinewidth": 0,
              "ticks": ""
             }
            },
            "type": "scatter3d"
           }
          ],
          "scattercarpet": [
           {
            "marker": {
             "colorbar": {
              "outlinewidth": 0,
              "ticks": ""
             }
            },
            "type": "scattercarpet"
           }
          ],
          "scattergeo": [
           {
            "marker": {
             "colorbar": {
              "outlinewidth": 0,
              "ticks": ""
             }
            },
            "type": "scattergeo"
           }
          ],
          "scattergl": [
           {
            "marker": {
             "colorbar": {
              "outlinewidth": 0,
              "ticks": ""
             }
            },
            "type": "scattergl"
           }
          ],
          "scattermapbox": [
           {
            "marker": {
             "colorbar": {
              "outlinewidth": 0,
              "ticks": ""
             }
            },
            "type": "scattermapbox"
           }
          ],
          "scatterpolar": [
           {
            "marker": {
             "colorbar": {
              "outlinewidth": 0,
              "ticks": ""
             }
            },
            "type": "scatterpolar"
           }
          ],
          "scatterpolargl": [
           {
            "marker": {
             "colorbar": {
              "outlinewidth": 0,
              "ticks": ""
             }
            },
            "type": "scatterpolargl"
           }
          ],
          "scatterternary": [
           {
            "marker": {
             "colorbar": {
              "outlinewidth": 0,
              "ticks": ""
             }
            },
            "type": "scatterternary"
           }
          ],
          "surface": [
           {
            "colorbar": {
             "outlinewidth": 0,
             "ticks": ""
            },
            "colorscale": [
             [
              0,
              "#0d0887"
             ],
             [
              0.1111111111111111,
              "#46039f"
             ],
             [
              0.2222222222222222,
              "#7201a8"
             ],
             [
              0.3333333333333333,
              "#9c179e"
             ],
             [
              0.4444444444444444,
              "#bd3786"
             ],
             [
              0.5555555555555556,
              "#d8576b"
             ],
             [
              0.6666666666666666,
              "#ed7953"
             ],
             [
              0.7777777777777778,
              "#fb9f3a"
             ],
             [
              0.8888888888888888,
              "#fdca26"
             ],
             [
              1,
              "#f0f921"
             ]
            ],
            "type": "surface"
           }
          ],
          "table": [
           {
            "cells": {
             "fill": {
              "color": "#EBF0F8"
             },
             "line": {
              "color": "white"
             }
            },
            "header": {
             "fill": {
              "color": "#C8D4E3"
             },
             "line": {
              "color": "white"
             }
            },
            "type": "table"
           }
          ]
         },
         "layout": {
          "annotationdefaults": {
           "arrowcolor": "#2a3f5f",
           "arrowhead": 0,
           "arrowwidth": 1
          },
          "autotypenumbers": "strict",
          "coloraxis": {
           "colorbar": {
            "outlinewidth": 0,
            "ticks": ""
           }
          },
          "colorscale": {
           "diverging": [
            [
             0,
             "#8e0152"
            ],
            [
             0.1,
             "#c51b7d"
            ],
            [
             0.2,
             "#de77ae"
            ],
            [
             0.3,
             "#f1b6da"
            ],
            [
             0.4,
             "#fde0ef"
            ],
            [
             0.5,
             "#f7f7f7"
            ],
            [
             0.6,
             "#e6f5d0"
            ],
            [
             0.7,
             "#b8e186"
            ],
            [
             0.8,
             "#7fbc41"
            ],
            [
             0.9,
             "#4d9221"
            ],
            [
             1,
             "#276419"
            ]
           ],
           "sequential": [
            [
             0,
             "#0d0887"
            ],
            [
             0.1111111111111111,
             "#46039f"
            ],
            [
             0.2222222222222222,
             "#7201a8"
            ],
            [
             0.3333333333333333,
             "#9c179e"
            ],
            [
             0.4444444444444444,
             "#bd3786"
            ],
            [
             0.5555555555555556,
             "#d8576b"
            ],
            [
             0.6666666666666666,
             "#ed7953"
            ],
            [
             0.7777777777777778,
             "#fb9f3a"
            ],
            [
             0.8888888888888888,
             "#fdca26"
            ],
            [
             1,
             "#f0f921"
            ]
           ],
           "sequentialminus": [
            [
             0,
             "#0d0887"
            ],
            [
             0.1111111111111111,
             "#46039f"
            ],
            [
             0.2222222222222222,
             "#7201a8"
            ],
            [
             0.3333333333333333,
             "#9c179e"
            ],
            [
             0.4444444444444444,
             "#bd3786"
            ],
            [
             0.5555555555555556,
             "#d8576b"
            ],
            [
             0.6666666666666666,
             "#ed7953"
            ],
            [
             0.7777777777777778,
             "#fb9f3a"
            ],
            [
             0.8888888888888888,
             "#fdca26"
            ],
            [
             1,
             "#f0f921"
            ]
           ]
          },
          "colorway": [
           "#636efa",
           "#EF553B",
           "#00cc96",
           "#ab63fa",
           "#FFA15A",
           "#19d3f3",
           "#FF6692",
           "#B6E880",
           "#FF97FF",
           "#FECB52"
          ],
          "font": {
           "color": "#2a3f5f"
          },
          "geo": {
           "bgcolor": "white",
           "lakecolor": "white",
           "landcolor": "#E5ECF6",
           "showlakes": true,
           "showland": true,
           "subunitcolor": "white"
          },
          "hoverlabel": {
           "align": "left"
          },
          "hovermode": "closest",
          "mapbox": {
           "style": "light"
          },
          "paper_bgcolor": "white",
          "plot_bgcolor": "#E5ECF6",
          "polar": {
           "angularaxis": {
            "gridcolor": "white",
            "linecolor": "white",
            "ticks": ""
           },
           "bgcolor": "#E5ECF6",
           "radialaxis": {
            "gridcolor": "white",
            "linecolor": "white",
            "ticks": ""
           }
          },
          "scene": {
           "xaxis": {
            "backgroundcolor": "#E5ECF6",
            "gridcolor": "white",
            "gridwidth": 2,
            "linecolor": "white",
            "showbackground": true,
            "ticks": "",
            "zerolinecolor": "white"
           },
           "yaxis": {
            "backgroundcolor": "#E5ECF6",
            "gridcolor": "white",
            "gridwidth": 2,
            "linecolor": "white",
            "showbackground": true,
            "ticks": "",
            "zerolinecolor": "white"
           },
           "zaxis": {
            "backgroundcolor": "#E5ECF6",
            "gridcolor": "white",
            "gridwidth": 2,
            "linecolor": "white",
            "showbackground": true,
            "ticks": "",
            "zerolinecolor": "white"
           }
          },
          "shapedefaults": {
           "line": {
            "color": "#2a3f5f"
           }
          },
          "ternary": {
           "aaxis": {
            "gridcolor": "white",
            "linecolor": "white",
            "ticks": ""
           },
           "baxis": {
            "gridcolor": "white",
            "linecolor": "white",
            "ticks": ""
           },
           "bgcolor": "#E5ECF6",
           "caxis": {
            "gridcolor": "white",
            "linecolor": "white",
            "ticks": ""
           }
          },
          "title": {
           "x": 0.05
          },
          "xaxis": {
           "automargin": true,
           "gridcolor": "white",
           "linecolor": "white",
           "ticks": "",
           "title": {
            "standoff": 15
           },
           "zerolinecolor": "white",
           "zerolinewidth": 2
          },
          "yaxis": {
           "automargin": true,
           "gridcolor": "white",
           "linecolor": "white",
           "ticks": "",
           "title": {
            "standoff": 15
           },
           "zerolinecolor": "white",
           "zerolinewidth": 2
          }
         }
        },
        "width": 900,
        "xaxis": {
         "tickmode": "array",
         "ticktext": [
          "Sourcing",
          "Conditioning",
          "Treatment",
          "Forwarding",
          "Delivery"
         ],
         "tickvals": [
          0,
          0.25,
          0.5,
          0.75,
          1
         ]
        },
        "yaxis": {
         "visible": false
        }
       }
      },
      "text/html": [
       "<div>                            <div id=\"11441195-28bc-4453-ab44-f5f18eeb7eef\" class=\"plotly-graph-div\" style=\"height:525px; width:900px;\"></div>            <script type=\"text/javascript\">                require([\"plotly\"], function(Plotly) {                    window.PLOTLYENV=window.PLOTLYENV || {};                                    if (document.getElementById(\"11441195-28bc-4453-ab44-f5f18eeb7eef\")) {                    Plotly.newPlot(                        \"11441195-28bc-4453-ab44-f5f18eeb7eef\",                        [{\"line\":{\"color\":\"black\",\"width\":5.0},\"mode\":\"lines\",\"x\":[0,0.25,null],\"y\":[0.0,0.0,null],\"type\":\"scatter\"},{\"hovertemplate\":\"%{text}\",\"marker\":{\"color\":\"black\",\"opacity\":0,\"size\":20},\"mode\":\"markers\",\"text\":[\"Amount: 2222.0\"],\"x\":[0.125],\"y\":[0.0],\"type\":\"scatter\"},{\"line\":{\"color\":\"black\",\"width\":5.0},\"mode\":\"lines\",\"x\":[0.25,0.5,null],\"y\":[0.0,0.0,null],\"type\":\"scatter\"},{\"hovertemplate\":\"%{text}\",\"marker\":{\"color\":\"black\",\"opacity\":0,\"size\":20},\"mode\":\"markers\",\"text\":[\"Amount: 2222.0\"],\"x\":[0.375],\"y\":[0.0],\"type\":\"scatter\"},{\"line\":{\"color\":\"black\",\"width\":2.887207702888583},\"mode\":\"lines\",\"x\":[0.5,0.75,null],\"y\":[0.0,0.0,null],\"type\":\"scatter\"},{\"hovertemplate\":\"%{text}\",\"marker\":{\"color\":\"black\",\"opacity\":0,\"size\":20},\"mode\":\"markers\",\"text\":[\"Amount: 1454.0\"],\"x\":[0.625],\"y\":[0.0],\"type\":\"scatter\"},{\"line\":{\"color\":\"black\",\"width\":1.0},\"mode\":\"lines\",\"x\":[0.5,0.75,null],\"y\":[0.0,0.5,null],\"type\":\"scatter\"},{\"hovertemplate\":\"%{text}\",\"marker\":{\"color\":\"black\",\"opacity\":0,\"size\":20},\"mode\":\"markers\",\"text\":[\"Amount: 768.0\"],\"x\":[0.625],\"y\":[0.25],\"type\":\"scatter\"},{\"line\":{\"color\":\"black\",\"width\":2.887207702888583},\"mode\":\"lines\",\"x\":[0.75,1,null],\"y\":[0.0,0.0,null],\"type\":\"scatter\"},{\"hovertemplate\":\"%{text}\",\"marker\":{\"color\":\"black\",\"opacity\":0,\"size\":20},\"mode\":\"markers\",\"text\":[\"Amount: 1454.0\"],\"x\":[0.875],\"y\":[0.0],\"type\":\"scatter\"},{\"line\":{\"color\":\"black\",\"width\":1.0},\"mode\":\"lines\",\"x\":[0.75,1,null],\"y\":[0.5,0.5,null],\"type\":\"scatter\"},{\"hovertemplate\":\"%{text}\",\"marker\":{\"color\":\"black\",\"opacity\":0,\"size\":20},\"mode\":\"markers\",\"text\":[\"Amount: 768.0\"],\"x\":[0.875],\"y\":[0.5],\"type\":\"scatter\"},{\"hovertemplate\":\"%{text}\",\"marker\":{\"color\":\"#1f77b4\",\"size\":25},\"mode\":\"markers\",\"text\":[\"Id: 0<br>Process: Sourcing<br>Location: AUSTRIA<br>Amount: 2222.0<br>Week: 1\"],\"x\":[0],\"y\":[0.0],\"type\":\"scatter\"},{\"hovertemplate\":\"%{text}\",\"marker\":{\"color\":\"#ff7f0e\",\"size\":25},\"mode\":\"markers\",\"text\":[\"Id: 1<br>Process: Conditioning<br>Location: AUSTRIA<br>Amount: 2222.0<br>Week: 1\"],\"x\":[0.25],\"y\":[0.0],\"type\":\"scatter\"},{\"hovertemplate\":\"%{text}\",\"marker\":{\"color\":\"#2ca02c\",\"size\":25},\"mode\":\"markers\",\"text\":[\"Id: 2<br>Process: Treatment<br>Location: SLOVENIA<br>Amount: 2222.0<br>Week: 5\"],\"x\":[0.5],\"y\":[0.0],\"type\":\"scatter\"},{\"hovertemplate\":\"%{text}\",\"marker\":{\"color\":\"#d62728\",\"size\":25},\"mode\":\"markers\",\"text\":[\"Id: 3<br>Process: Forwarding<br>Location: CROATIA<br>Amount: 1454.0<br>Week: 14\"],\"x\":[0.75],\"y\":[0.0],\"type\":\"scatter\"},{\"hovertemplate\":\"%{text}\",\"marker\":{\"color\":\"#d62728\",\"size\":25},\"mode\":\"markers\",\"text\":[\"Id: 4<br>Process: Forwarding<br>Location: CROATIA<br>Amount: 768.0<br>Week: 18\"],\"x\":[0.75],\"y\":[0.5],\"type\":\"scatter\"},{\"hovertemplate\":\"%{text}\",\"marker\":{\"color\":\"#9467bd\",\"size\":25},\"mode\":\"markers\",\"text\":[\"Id: 5<br>Process: Delivery<br>Location: CROATIA<br>Amount: 1454.0<br>Week: 21\"],\"x\":[1],\"y\":[0.0],\"type\":\"scatter\"},{\"hovertemplate\":\"%{text}\",\"marker\":{\"color\":\"#9467bd\",\"size\":25},\"mode\":\"markers\",\"text\":[\"Id: 6<br>Process: Delivery<br>Location: BOSNIA-HERZ.<br>Amount: 768.0<br>Week: 23\"],\"x\":[1],\"y\":[0.5],\"type\":\"scatter\"}],                        {\"template\":{\"data\":{\"histogram2dcontour\":[{\"type\":\"histogram2dcontour\",\"colorbar\":{\"outlinewidth\":0,\"ticks\":\"\"},\"colorscale\":[[0.0,\"#0d0887\"],[0.1111111111111111,\"#46039f\"],[0.2222222222222222,\"#7201a8\"],[0.3333333333333333,\"#9c179e\"],[0.4444444444444444,\"#bd3786\"],[0.5555555555555556,\"#d8576b\"],[0.6666666666666666,\"#ed7953\"],[0.7777777777777778,\"#fb9f3a\"],[0.8888888888888888,\"#fdca26\"],[1.0,\"#f0f921\"]]}],\"choropleth\":[{\"type\":\"choropleth\",\"colorbar\":{\"outlinewidth\":0,\"ticks\":\"\"}}],\"histogram2d\":[{\"type\":\"histogram2d\",\"colorbar\":{\"outlinewidth\":0,\"ticks\":\"\"},\"colorscale\":[[0.0,\"#0d0887\"],[0.1111111111111111,\"#46039f\"],[0.2222222222222222,\"#7201a8\"],[0.3333333333333333,\"#9c179e\"],[0.4444444444444444,\"#bd3786\"],[0.5555555555555556,\"#d8576b\"],[0.6666666666666666,\"#ed7953\"],[0.7777777777777778,\"#fb9f3a\"],[0.8888888888888888,\"#fdca26\"],[1.0,\"#f0f921\"]]}],\"heatmap\":[{\"type\":\"heatmap\",\"colorbar\":{\"outlinewidth\":0,\"ticks\":\"\"},\"colorscale\":[[0.0,\"#0d0887\"],[0.1111111111111111,\"#46039f\"],[0.2222222222222222,\"#7201a8\"],[0.3333333333333333,\"#9c179e\"],[0.4444444444444444,\"#bd3786\"],[0.5555555555555556,\"#d8576b\"],[0.6666666666666666,\"#ed7953\"],[0.7777777777777778,\"#fb9f3a\"],[0.8888888888888888,\"#fdca26\"],[1.0,\"#f0f921\"]]}],\"heatmapgl\":[{\"type\":\"heatmapgl\",\"colorbar\":{\"outlinewidth\":0,\"ticks\":\"\"},\"colorscale\":[[0.0,\"#0d0887\"],[0.1111111111111111,\"#46039f\"],[0.2222222222222222,\"#7201a8\"],[0.3333333333333333,\"#9c179e\"],[0.4444444444444444,\"#bd3786\"],[0.5555555555555556,\"#d8576b\"],[0.6666666666666666,\"#ed7953\"],[0.7777777777777778,\"#fb9f3a\"],[0.8888888888888888,\"#fdca26\"],[1.0,\"#f0f921\"]]}],\"contourcarpet\":[{\"type\":\"contourcarpet\",\"colorbar\":{\"outlinewidth\":0,\"ticks\":\"\"}}],\"contour\":[{\"type\":\"contour\",\"colorbar\":{\"outlinewidth\":0,\"ticks\":\"\"},\"colorscale\":[[0.0,\"#0d0887\"],[0.1111111111111111,\"#46039f\"],[0.2222222222222222,\"#7201a8\"],[0.3333333333333333,\"#9c179e\"],[0.4444444444444444,\"#bd3786\"],[0.5555555555555556,\"#d8576b\"],[0.6666666666666666,\"#ed7953\"],[0.7777777777777778,\"#fb9f3a\"],[0.8888888888888888,\"#fdca26\"],[1.0,\"#f0f921\"]]}],\"surface\":[{\"type\":\"surface\",\"colorbar\":{\"outlinewidth\":0,\"ticks\":\"\"},\"colorscale\":[[0.0,\"#0d0887\"],[0.1111111111111111,\"#46039f\"],[0.2222222222222222,\"#7201a8\"],[0.3333333333333333,\"#9c179e\"],[0.4444444444444444,\"#bd3786\"],[0.5555555555555556,\"#d8576b\"],[0.6666666666666666,\"#ed7953\"],[0.7777777777777778,\"#fb9f3a\"],[0.8888888888888888,\"#fdca26\"],[1.0,\"#f0f921\"]]}],\"mesh3d\":[{\"type\":\"mesh3d\",\"colorbar\":{\"outlinewidth\":0,\"ticks\":\"\"}}],\"scatter\":[{\"fillpattern\":{\"fillmode\":\"overlay\",\"size\":10,\"solidity\":0.2},\"type\":\"scatter\"}],\"parcoords\":[{\"type\":\"parcoords\",\"line\":{\"colorbar\":{\"outlinewidth\":0,\"ticks\":\"\"}}}],\"scatterpolargl\":[{\"type\":\"scatterpolargl\",\"marker\":{\"colorbar\":{\"outlinewidth\":0,\"ticks\":\"\"}}}],\"bar\":[{\"error_x\":{\"color\":\"#2a3f5f\"},\"error_y\":{\"color\":\"#2a3f5f\"},\"marker\":{\"line\":{\"color\":\"#E5ECF6\",\"width\":0.5},\"pattern\":{\"fillmode\":\"overlay\",\"size\":10,\"solidity\":0.2}},\"type\":\"bar\"}],\"scattergeo\":[{\"type\":\"scattergeo\",\"marker\":{\"colorbar\":{\"outlinewidth\":0,\"ticks\":\"\"}}}],\"scatterpolar\":[{\"type\":\"scatterpolar\",\"marker\":{\"colorbar\":{\"outlinewidth\":0,\"ticks\":\"\"}}}],\"histogram\":[{\"marker\":{\"pattern\":{\"fillmode\":\"overlay\",\"size\":10,\"solidity\":0.2}},\"type\":\"histogram\"}],\"scattergl\":[{\"type\":\"scattergl\",\"marker\":{\"colorbar\":{\"outlinewidth\":0,\"ticks\":\"\"}}}],\"scatter3d\":[{\"type\":\"scatter3d\",\"line\":{\"colorbar\":{\"outlinewidth\":0,\"ticks\":\"\"}},\"marker\":{\"colorbar\":{\"outlinewidth\":0,\"ticks\":\"\"}}}],\"scattermapbox\":[{\"type\":\"scattermapbox\",\"marker\":{\"colorbar\":{\"outlinewidth\":0,\"ticks\":\"\"}}}],\"scatterternary\":[{\"type\":\"scatterternary\",\"marker\":{\"colorbar\":{\"outlinewidth\":0,\"ticks\":\"\"}}}],\"scattercarpet\":[{\"type\":\"scattercarpet\",\"marker\":{\"colorbar\":{\"outlinewidth\":0,\"ticks\":\"\"}}}],\"carpet\":[{\"aaxis\":{\"endlinecolor\":\"#2a3f5f\",\"gridcolor\":\"white\",\"linecolor\":\"white\",\"minorgridcolor\":\"white\",\"startlinecolor\":\"#2a3f5f\"},\"baxis\":{\"endlinecolor\":\"#2a3f5f\",\"gridcolor\":\"white\",\"linecolor\":\"white\",\"minorgridcolor\":\"white\",\"startlinecolor\":\"#2a3f5f\"},\"type\":\"carpet\"}],\"table\":[{\"cells\":{\"fill\":{\"color\":\"#EBF0F8\"},\"line\":{\"color\":\"white\"}},\"header\":{\"fill\":{\"color\":\"#C8D4E3\"},\"line\":{\"color\":\"white\"}},\"type\":\"table\"}],\"barpolar\":[{\"marker\":{\"line\":{\"color\":\"#E5ECF6\",\"width\":0.5},\"pattern\":{\"fillmode\":\"overlay\",\"size\":10,\"solidity\":0.2}},\"type\":\"barpolar\"}],\"pie\":[{\"automargin\":true,\"type\":\"pie\"}]},\"layout\":{\"autotypenumbers\":\"strict\",\"colorway\":[\"#636efa\",\"#EF553B\",\"#00cc96\",\"#ab63fa\",\"#FFA15A\",\"#19d3f3\",\"#FF6692\",\"#B6E880\",\"#FF97FF\",\"#FECB52\"],\"font\":{\"color\":\"#2a3f5f\"},\"hovermode\":\"closest\",\"hoverlabel\":{\"align\":\"left\"},\"paper_bgcolor\":\"white\",\"plot_bgcolor\":\"#E5ECF6\",\"polar\":{\"bgcolor\":\"#E5ECF6\",\"angularaxis\":{\"gridcolor\":\"white\",\"linecolor\":\"white\",\"ticks\":\"\"},\"radialaxis\":{\"gridcolor\":\"white\",\"linecolor\":\"white\",\"ticks\":\"\"}},\"ternary\":{\"bgcolor\":\"#E5ECF6\",\"aaxis\":{\"gridcolor\":\"white\",\"linecolor\":\"white\",\"ticks\":\"\"},\"baxis\":{\"gridcolor\":\"white\",\"linecolor\":\"white\",\"ticks\":\"\"},\"caxis\":{\"gridcolor\":\"white\",\"linecolor\":\"white\",\"ticks\":\"\"}},\"coloraxis\":{\"colorbar\":{\"outlinewidth\":0,\"ticks\":\"\"}},\"colorscale\":{\"sequential\":[[0.0,\"#0d0887\"],[0.1111111111111111,\"#46039f\"],[0.2222222222222222,\"#7201a8\"],[0.3333333333333333,\"#9c179e\"],[0.4444444444444444,\"#bd3786\"],[0.5555555555555556,\"#d8576b\"],[0.6666666666666666,\"#ed7953\"],[0.7777777777777778,\"#fb9f3a\"],[0.8888888888888888,\"#fdca26\"],[1.0,\"#f0f921\"]],\"sequentialminus\":[[0.0,\"#0d0887\"],[0.1111111111111111,\"#46039f\"],[0.2222222222222222,\"#7201a8\"],[0.3333333333333333,\"#9c179e\"],[0.4444444444444444,\"#bd3786\"],[0.5555555555555556,\"#d8576b\"],[0.6666666666666666,\"#ed7953\"],[0.7777777777777778,\"#fb9f3a\"],[0.8888888888888888,\"#fdca26\"],[1.0,\"#f0f921\"]],\"diverging\":[[0,\"#8e0152\"],[0.1,\"#c51b7d\"],[0.2,\"#de77ae\"],[0.3,\"#f1b6da\"],[0.4,\"#fde0ef\"],[0.5,\"#f7f7f7\"],[0.6,\"#e6f5d0\"],[0.7,\"#b8e186\"],[0.8,\"#7fbc41\"],[0.9,\"#4d9221\"],[1,\"#276419\"]]},\"xaxis\":{\"gridcolor\":\"white\",\"linecolor\":\"white\",\"ticks\":\"\",\"title\":{\"standoff\":15},\"zerolinecolor\":\"white\",\"automargin\":true,\"zerolinewidth\":2},\"yaxis\":{\"gridcolor\":\"white\",\"linecolor\":\"white\",\"ticks\":\"\",\"title\":{\"standoff\":15},\"zerolinecolor\":\"white\",\"automargin\":true,\"zerolinewidth\":2},\"scene\":{\"xaxis\":{\"backgroundcolor\":\"#E5ECF6\",\"gridcolor\":\"white\",\"linecolor\":\"white\",\"showbackground\":true,\"ticks\":\"\",\"zerolinecolor\":\"white\",\"gridwidth\":2},\"yaxis\":{\"backgroundcolor\":\"#E5ECF6\",\"gridcolor\":\"white\",\"linecolor\":\"white\",\"showbackground\":true,\"ticks\":\"\",\"zerolinecolor\":\"white\",\"gridwidth\":2},\"zaxis\":{\"backgroundcolor\":\"#E5ECF6\",\"gridcolor\":\"white\",\"linecolor\":\"white\",\"showbackground\":true,\"ticks\":\"\",\"zerolinecolor\":\"white\",\"gridwidth\":2}},\"shapedefaults\":{\"line\":{\"color\":\"#2a3f5f\"}},\"annotationdefaults\":{\"arrowcolor\":\"#2a3f5f\",\"arrowhead\":0,\"arrowwidth\":1},\"geo\":{\"bgcolor\":\"white\",\"landcolor\":\"#E5ECF6\",\"subunitcolor\":\"white\",\"showland\":true,\"showlakes\":true,\"lakecolor\":\"white\"},\"title\":{\"x\":0.05},\"mapbox\":{\"style\":\"light\"}}},\"hovermode\":\"closest\",\"showlegend\":false,\"plot_bgcolor\":\"white\",\"margin\":{\"l\":20,\"r\":20,\"t\":20,\"b\":20},\"xaxis\":{\"tickmode\":\"array\",\"tickvals\":[0,0.25,0.5,0.75,1],\"ticktext\":[\"Sourcing\",\"Conditioning\",\"Treatment\",\"Forwarding\",\"Delivery\"]},\"yaxis\":{\"visible\":false},\"width\":900},                        {\"responsive\": true}                    ).then(function(){\n",
       "                            \n",
       "var gd = document.getElementById('11441195-28bc-4453-ab44-f5f18eeb7eef');\n",
       "var x = new MutationObserver(function (mutations, observer) {{\n",
       "        var display = window.getComputedStyle(gd).display;\n",
       "        if (!display || display === 'none') {{\n",
       "            console.log([gd, 'removed!']);\n",
       "            Plotly.purge(gd);\n",
       "            observer.disconnect();\n",
       "        }}\n",
       "}});\n",
       "\n",
       "// Listen for the removal of the full notebook cells\n",
       "var notebookContainer = gd.closest('#notebook-container');\n",
       "if (notebookContainer) {{\n",
       "    x.observe(notebookContainer, {childList: true});\n",
       "}}\n",
       "\n",
       "// Listen for the clearing of the current output cell\n",
       "var outputEl = gd.closest('.output');\n",
       "if (outputEl) {{\n",
       "    x.observe(outputEl, {childList: true});\n",
       "}}\n",
       "\n",
       "                        })                };                });            </script>        </div>"
      ]
     },
     "metadata": {},
     "output_type": "display_data"
    }
   ],
   "source": [
    "\n",
    "input2_solution.ivisualize()"
   ]
  },
  {
   "attachments": {},
   "cell_type": "markdown",
   "metadata": {},
   "source": [
    "### Input 3"
   ]
  },
  {
   "cell_type": "code",
   "execution_count": 60,
   "metadata": {},
   "outputs": [
    {
     "data": {
      "text/html": [
       "<div>\n",
       "<style scoped>\n",
       "    .dataframe tbody tr th:only-of-type {\n",
       "        vertical-align: middle;\n",
       "    }\n",
       "\n",
       "    .dataframe tbody tr th {\n",
       "        vertical-align: top;\n",
       "    }\n",
       "\n",
       "    .dataframe thead th {\n",
       "        text-align: right;\n",
       "    }\n",
       "</style>\n",
       "<table border=\"1\" class=\"dataframe\">\n",
       "  <thead>\n",
       "    <tr style=\"text-align: right;\">\n",
       "      <th></th>\n",
       "      <th>product</th>\n",
       "      <th>treatment</th>\n",
       "      <th>send_from_cnt</th>\n",
       "      <th>to_processing_cnt</th>\n",
       "      <th>for_process</th>\n",
       "      <th>Week</th>\n",
       "      <th>Amount</th>\n",
       "    </tr>\n",
       "  </thead>\n",
       "  <tbody>\n",
       "    <tr>\n",
       "      <th>0</th>\n",
       "      <td>P11</td>\n",
       "      <td>I100</td>\n",
       "      <td>NaN</td>\n",
       "      <td>HUNGARY</td>\n",
       "      <td>Sourcing</td>\n",
       "      <td>1</td>\n",
       "      <td>533</td>\n",
       "    </tr>\n",
       "    <tr>\n",
       "      <th>1</th>\n",
       "      <td>P11</td>\n",
       "      <td>I100</td>\n",
       "      <td>NaN</td>\n",
       "      <td>AUSTRIA</td>\n",
       "      <td>Sourcing</td>\n",
       "      <td>1</td>\n",
       "      <td>3331</td>\n",
       "    </tr>\n",
       "    <tr>\n",
       "      <th>2</th>\n",
       "      <td>P11</td>\n",
       "      <td>I100</td>\n",
       "      <td>HUNGARY</td>\n",
       "      <td>HUNGARY</td>\n",
       "      <td>Conditioning</td>\n",
       "      <td>1</td>\n",
       "      <td>533</td>\n",
       "    </tr>\n",
       "    <tr>\n",
       "      <th>3</th>\n",
       "      <td>P11</td>\n",
       "      <td>I100</td>\n",
       "      <td>AUSTRIA</td>\n",
       "      <td>AUSTRIA</td>\n",
       "      <td>Conditioning</td>\n",
       "      <td>2</td>\n",
       "      <td>3331</td>\n",
       "    </tr>\n",
       "    <tr>\n",
       "      <th>4</th>\n",
       "      <td>P11</td>\n",
       "      <td>I100</td>\n",
       "      <td>AUSTRIA</td>\n",
       "      <td>SLOVENIA</td>\n",
       "      <td>Treatment</td>\n",
       "      <td>5</td>\n",
       "      <td>3331</td>\n",
       "    </tr>\n",
       "  </tbody>\n",
       "</table>\n",
       "</div>"
      ],
      "text/plain": [
       "  product treatment send_from_cnt to_processing_cnt   for_process  Week   \n",
       "0     P11      I100           NaN           HUNGARY      Sourcing     1  \\\n",
       "1     P11      I100           NaN           AUSTRIA      Sourcing     1   \n",
       "2     P11      I100       HUNGARY           HUNGARY  Conditioning     1   \n",
       "3     P11      I100       AUSTRIA           AUSTRIA  Conditioning     2   \n",
       "4     P11      I100       AUSTRIA          SLOVENIA     Treatment     5   \n",
       "\n",
       "   Amount  \n",
       "0     533  \n",
       "1    3331  \n",
       "2     533  \n",
       "3    3331  \n",
       "4    3331  "
      ]
     },
     "execution_count": 60,
     "metadata": {},
     "output_type": "execute_result"
    }
   ],
   "source": [
    "data[\"Input3\"].head()"
   ]
  },
  {
   "cell_type": "code",
   "execution_count": 61,
   "metadata": {},
   "outputs": [],
   "source": [
    "input3_model = NetworkFlowModel(data[\"Input3\"])\n",
    "input3_solution = input3_model.solve()"
   ]
  },
  {
   "cell_type": "code",
   "execution_count": 62,
   "metadata": {},
   "outputs": [
    {
     "data": {
      "text/html": [
       "<div>\n",
       "<style scoped>\n",
       "    .dataframe tbody tr th:only-of-type {\n",
       "        vertical-align: middle;\n",
       "    }\n",
       "\n",
       "    .dataframe tbody tr th {\n",
       "        vertical-align: top;\n",
       "    }\n",
       "\n",
       "    .dataframe thead th {\n",
       "        text-align: right;\n",
       "    }\n",
       "</style>\n",
       "<table border=\"1\" class=\"dataframe\">\n",
       "  <thead>\n",
       "    <tr style=\"text-align: right;\">\n",
       "      <th></th>\n",
       "      <th>Process1_id</th>\n",
       "      <th>Process1_Cnt</th>\n",
       "      <th>Process1_Amount</th>\n",
       "      <th>Process1_Week</th>\n",
       "      <th>Process2_id</th>\n",
       "      <th>Process2_Cnt</th>\n",
       "      <th>Process2_Amount</th>\n",
       "      <th>Process2_Week</th>\n",
       "      <th>Process3_id</th>\n",
       "      <th>Process3_Cnt</th>\n",
       "      <th>Process3_Amount</th>\n",
       "      <th>Process3_Week</th>\n",
       "      <th>Process4_id</th>\n",
       "      <th>Process4_Cnt</th>\n",
       "      <th>Process4_Amount</th>\n",
       "      <th>Process4_Week</th>\n",
       "      <th>Process5_id</th>\n",
       "      <th>Process5_Cnt</th>\n",
       "      <th>Process5_Amount</th>\n",
       "      <th>Process5_Week</th>\n",
       "    </tr>\n",
       "  </thead>\n",
       "  <tbody>\n",
       "    <tr>\n",
       "      <th>0</th>\n",
       "      <td>0</td>\n",
       "      <td>HUNGARY</td>\n",
       "      <td>533.0</td>\n",
       "      <td>1</td>\n",
       "      <td>2.0</td>\n",
       "      <td>HUNGARY</td>\n",
       "      <td>533.0</td>\n",
       "      <td>1.0</td>\n",
       "      <td>5.0</td>\n",
       "      <td>SLOVENIA</td>\n",
       "      <td>533.0</td>\n",
       "      <td>6.0</td>\n",
       "      <td>7.0</td>\n",
       "      <td>SLOVENIA</td>\n",
       "      <td>533.0</td>\n",
       "      <td>12.0</td>\n",
       "      <td>8.0</td>\n",
       "      <td>FRANCE</td>\n",
       "      <td>533.0</td>\n",
       "      <td>15.0</td>\n",
       "    </tr>\n",
       "    <tr>\n",
       "      <th>1</th>\n",
       "      <td>1</td>\n",
       "      <td>AUSTRIA</td>\n",
       "      <td>1343.0</td>\n",
       "      <td>1</td>\n",
       "      <td>3.0</td>\n",
       "      <td>AUSTRIA</td>\n",
       "      <td>1343.0</td>\n",
       "      <td>2.0</td>\n",
       "      <td>4.0</td>\n",
       "      <td>SLOVENIA</td>\n",
       "      <td>1343.0</td>\n",
       "      <td>5.0</td>\n",
       "      <td>6.0</td>\n",
       "      <td>FRANCE</td>\n",
       "      <td>1343.0</td>\n",
       "      <td>9.0</td>\n",
       "      <td>9.0</td>\n",
       "      <td>FRANCE</td>\n",
       "      <td>1343.0</td>\n",
       "      <td>20.0</td>\n",
       "    </tr>\n",
       "    <tr>\n",
       "      <th>2</th>\n",
       "      <td>1</td>\n",
       "      <td>AUSTRIA</td>\n",
       "      <td>1875.0</td>\n",
       "      <td>1</td>\n",
       "      <td>3.0</td>\n",
       "      <td>AUSTRIA</td>\n",
       "      <td>1875.0</td>\n",
       "      <td>2.0</td>\n",
       "      <td>4.0</td>\n",
       "      <td>SLOVENIA</td>\n",
       "      <td>1875.0</td>\n",
       "      <td>5.0</td>\n",
       "      <td>6.0</td>\n",
       "      <td>FRANCE</td>\n",
       "      <td>1875.0</td>\n",
       "      <td>9.0</td>\n",
       "      <td>10.0</td>\n",
       "      <td>SPAIN</td>\n",
       "      <td>1875.0</td>\n",
       "      <td>23.0</td>\n",
       "    </tr>\n",
       "    <tr>\n",
       "      <th>3</th>\n",
       "      <td>1</td>\n",
       "      <td>AUSTRIA</td>\n",
       "      <td>113.0</td>\n",
       "      <td>1</td>\n",
       "      <td>3.0</td>\n",
       "      <td>AUSTRIA</td>\n",
       "      <td>113.0</td>\n",
       "      <td>2.0</td>\n",
       "      <td>4.0</td>\n",
       "      <td>SLOVENIA</td>\n",
       "      <td>113.0</td>\n",
       "      <td>5.0</td>\n",
       "      <td>6.0</td>\n",
       "      <td>FRANCE</td>\n",
       "      <td>113.0</td>\n",
       "      <td>9.0</td>\n",
       "      <td>11.0</td>\n",
       "      <td>PORTUGAL</td>\n",
       "      <td>113.0</td>\n",
       "      <td>23.0</td>\n",
       "    </tr>\n",
       "  </tbody>\n",
       "</table>\n",
       "</div>"
      ],
      "text/plain": [
       "   Process1_id Process1_Cnt  Process1_Amount  Process1_Week  Process2_id   \n",
       "0            0      HUNGARY            533.0              1          2.0  \\\n",
       "1            1      AUSTRIA           1343.0              1          3.0   \n",
       "2            1      AUSTRIA           1875.0              1          3.0   \n",
       "3            1      AUSTRIA            113.0              1          3.0   \n",
       "\n",
       "  Process2_Cnt  Process2_Amount  Process2_Week  Process3_id Process3_Cnt   \n",
       "0      HUNGARY            533.0            1.0          5.0     SLOVENIA  \\\n",
       "1      AUSTRIA           1343.0            2.0          4.0     SLOVENIA   \n",
       "2      AUSTRIA           1875.0            2.0          4.0     SLOVENIA   \n",
       "3      AUSTRIA            113.0            2.0          4.0     SLOVENIA   \n",
       "\n",
       "   Process3_Amount  Process3_Week  Process4_id Process4_Cnt  Process4_Amount   \n",
       "0            533.0            6.0          7.0     SLOVENIA            533.0  \\\n",
       "1           1343.0            5.0          6.0       FRANCE           1343.0   \n",
       "2           1875.0            5.0          6.0       FRANCE           1875.0   \n",
       "3            113.0            5.0          6.0       FRANCE            113.0   \n",
       "\n",
       "   Process4_Week  Process5_id Process5_Cnt  Process5_Amount  Process5_Week  \n",
       "0           12.0          8.0       FRANCE            533.0           15.0  \n",
       "1            9.0          9.0       FRANCE           1343.0           20.0  \n",
       "2            9.0         10.0        SPAIN           1875.0           23.0  \n",
       "3            9.0         11.0     PORTUGAL            113.0           23.0  "
      ]
     },
     "execution_count": 62,
     "metadata": {},
     "output_type": "execute_result"
    }
   ],
   "source": [
    "input3_solution.demands"
   ]
  },
  {
   "cell_type": "code",
   "execution_count": 63,
   "metadata": {},
   "outputs": [
    {
     "data": {
      "image/png": "[encoded data removed]",
      "text/plain": [
       "<Figure size 1000x1000 with 1 Axes>"
      ]
     },
     "metadata": {},
     "output_type": "display_data"
    }
   ],
   "source": [
    "input3_solution.visualize()"
   ]
  },
  {
   "cell_type": "code",
   "execution_count": 74,
   "metadata": {},
   "outputs": [
    {
     "data": {
      "application/vnd.plotly.v1+json": {
       "config": {
        "plotlyServerURL": "https://plot.ly"
       },
       "data": [
        {
         "line": {
          "color": "black",
          "width": 1.5220633934120573
         },
         "mode": "lines",
         "type": "scatter",
         "x": [
          0,
          0.25,
          null
         ],
         "y": [
          0,
          0,
          null
         ]
        },
        {
         "hovertemplate": "%{text}",
         "marker": {
          "color": "black",
          "opacity": 0,
          "size": 20
         },
         "mode": "markers",
         "text": [
          "Amount: 533.0"
         ],
         "type": "scatter",
         "x": [
          0.125
         ],
         "y": [
          0
         ]
        },
        {
         "line": {
          "color": "black",
          "width": 5
         },
         "mode": "lines",
         "type": "scatter",
         "x": [
          0,
          0.25,
          null
         ],
         "y": [
          0.5,
          0.5,
          null
         ]
        },
        {
         "hovertemplate": "%{text}",
         "marker": {
          "color": "black",
          "opacity": 0,
          "size": 20
         },
         "mode": "markers",
         "text": [
          "Amount: 3331.0"
         ],
         "type": "scatter",
         "x": [
          0.125
         ],
         "y": [
          0.5
         ]
        },
        {
         "line": {
          "color": "black",
          "width": 1.5220633934120573
         },
         "mode": "lines",
         "type": "scatter",
         "x": [
          0.25,
          0.5,
          null
         ],
         "y": [
          0,
          0.5,
          null
         ]
        },
        {
         "hovertemplate": "%{text}",
         "marker": {
          "color": "black",
          "opacity": 0,
          "size": 20
         },
         "mode": "markers",
         "text": [
          "Amount: 533.0"
         ],
         "type": "scatter",
         "x": [
          0.375
         ],
         "y": [
          0.25
         ]
        },
        {
         "line": {
          "color": "black",
          "width": 5
         },
         "mode": "lines",
         "type": "scatter",
         "x": [
          0.25,
          0.5,
          null
         ],
         "y": [
          0.5,
          0,
          null
         ]
        },
        {
         "hovertemplate": "%{text}",
         "marker": {
          "color": "black",
          "opacity": 0,
          "size": 20
         },
         "mode": "markers",
         "text": [
          "Amount: 3331.0"
         ],
         "type": "scatter",
         "x": [
          0.375
         ],
         "y": [
          0.25
         ]
        },
        {
         "line": {
          "color": "black",
          "width": 5
         },
         "mode": "lines",
         "type": "scatter",
         "x": [
          0.5,
          0.75,
          null
         ],
         "y": [
          0,
          0,
          null
         ]
        },
        {
         "hovertemplate": "%{text}",
         "marker": {
          "color": "black",
          "opacity": 0,
          "size": 20
         },
         "mode": "markers",
         "text": [
          "Amount: 3331.0"
         ],
         "type": "scatter",
         "x": [
          0.625
         ],
         "y": [
          0
         ]
        },
        {
         "line": {
          "color": "black",
          "width": 1.5220633934120573
         },
         "mode": "lines",
         "type": "scatter",
         "x": [
          0.5,
          0.75,
          null
         ],
         "y": [
          0.5,
          0.5,
          null
         ]
        },
        {
         "hovertemplate": "%{text}",
         "marker": {
          "color": "black",
          "opacity": 0,
          "size": 20
         },
         "mode": "markers",
         "text": [
          "Amount: 533.0"
         ],
         "type": "scatter",
         "x": [
          0.625
         ],
         "y": [
          0.5
         ]
        },
        {
         "line": {
          "color": "black",
          "width": 2.528899937849596
         },
         "mode": "lines",
         "type": "scatter",
         "x": [
          0.75,
          1,
          null
         ],
         "y": [
          0,
          0.25,
          null
         ]
        },
        {
         "hovertemplate": "%{text}",
         "marker": {
          "color": "black",
          "opacity": 0,
          "size": 20
         },
         "mode": "markers",
         "text": [
          "Amount: 1343.0"
         ],
         "type": "scatter",
         "x": [
          0.875
         ],
         "y": [
          0.125
         ]
        },
        {
         "line": {
          "color": "black",
          "width": 3.190180236171535
         },
         "mode": "lines",
         "type": "scatter",
         "x": [
          0.75,
          1,
          null
         ],
         "y": [
          0,
          0.5,
          null
         ]
        },
        {
         "hovertemplate": "%{text}",
         "marker": {
          "color": "black",
          "opacity": 0,
          "size": 20
         },
         "mode": "markers",
         "text": [
          "Amount: 1875.0"
         ],
         "type": "scatter",
         "x": [
          0.875
         ],
         "y": [
          0.25
         ]
        },
        {
         "line": {
          "color": "black",
          "width": 1
         },
         "mode": "lines",
         "type": "scatter",
         "x": [
          0.75,
          1,
          null
         ],
         "y": [
          0,
          0.75,
          null
         ]
        },
        {
         "hovertemplate": "%{text}",
         "marker": {
          "color": "black",
          "opacity": 0,
          "size": 20
         },
         "mode": "markers",
         "text": [
          "Amount: 113.0"
         ],
         "type": "scatter",
         "x": [
          0.875
         ],
         "y": [
          0.375
         ]
        },
        {
         "line": {
          "color": "black",
          "width": 1.5220633934120573
         },
         "mode": "lines",
         "type": "scatter",
         "x": [
          0.75,
          1,
          null
         ],
         "y": [
          0.5,
          0,
          null
         ]
        },
        {
         "hovertemplate": "%{text}",
         "marker": {
          "color": "black",
          "opacity": 0,
          "size": 20
         },
         "mode": "markers",
         "text": [
          "Amount: 533.0"
         ],
         "type": "scatter",
         "x": [
          0.875
         ],
         "y": [
          0.25
         ]
        },
        {
         "hovertemplate": "%{text}",
         "marker": {
          "color": "#1f77b4",
          "size": 25
         },
         "mode": "markers",
         "text": [
          "Id: 0<br>Process: Sourcing<br>Location: HUNGARY<br>Amount: 533.0<br>Week: 1"
         ],
         "type": "scatter",
         "x": [
          0
         ],
         "y": [
          0
         ]
        },
        {
         "hovertemplate": "%{text}",
         "marker": {
          "color": "#1f77b4",
          "size": 25
         },
         "mode": "markers",
         "text": [
          "Id: 1<br>Process: Sourcing<br>Location: AUSTRIA<br>Amount: 3331.0<br>Week: 1"
         ],
         "type": "scatter",
         "x": [
          0
         ],
         "y": [
          0.5
         ]
        },
        {
         "hovertemplate": "%{text}",
         "marker": {
          "color": "#ff7f0e",
          "size": 25
         },
         "mode": "markers",
         "text": [
          "Id: 2<br>Process: Conditioning<br>Location: HUNGARY<br>Amount: 533.0<br>Week: 1"
         ],
         "type": "scatter",
         "x": [
          0.25
         ],
         "y": [
          0
         ]
        },
        {
         "hovertemplate": "%{text}",
         "marker": {
          "color": "#ff7f0e",
          "size": 25
         },
         "mode": "markers",
         "text": [
          "Id: 3<br>Process: Conditioning<br>Location: AUSTRIA<br>Amount: 3331.0<br>Week: 2"
         ],
         "type": "scatter",
         "x": [
          0.25
         ],
         "y": [
          0.5
         ]
        },
        {
         "hovertemplate": "%{text}",
         "marker": {
          "color": "#2ca02c",
          "size": 25
         },
         "mode": "markers",
         "text": [
          "Id: 4<br>Process: Treatment<br>Location: SLOVENIA<br>Amount: 3331.0<br>Week: 5"
         ],
         "type": "scatter",
         "x": [
          0.5
         ],
         "y": [
          0
         ]
        },
        {
         "hovertemplate": "%{text}",
         "marker": {
          "color": "#2ca02c",
          "size": 25
         },
         "mode": "markers",
         "text": [
          "Id: 5<br>Process: Treatment<br>Location: SLOVENIA<br>Amount: 533.0<br>Week: 6"
         ],
         "type": "scatter",
         "x": [
          0.5
         ],
         "y": [
          0.5
         ]
        },
        {
         "hovertemplate": "%{text}",
         "marker": {
          "color": "#d62728",
          "size": 25
         },
         "mode": "markers",
         "text": [
          "Id: 6<br>Process: Forwarding<br>Location: FRANCE<br>Amount: 3331.0<br>Week: 9"
         ],
         "type": "scatter",
         "x": [
          0.75
         ],
         "y": [
          0
         ]
        },
        {
         "hovertemplate": "%{text}",
         "marker": {
          "color": "#d62728",
          "size": 25
         },
         "mode": "markers",
         "text": [
          "Id: 7<br>Process: Forwarding<br>Location: SLOVENIA<br>Amount: 533.0<br>Week: 12"
         ],
         "type": "scatter",
         "x": [
          0.75
         ],
         "y": [
          0.5
         ]
        },
        {
         "hovertemplate": "%{text}",
         "marker": {
          "color": "#9467bd",
          "size": 25
         },
         "mode": "markers",
         "text": [
          "Id: 8<br>Process: Delivery<br>Location: FRANCE<br>Amount: 533.0<br>Week: 15"
         ],
         "type": "scatter",
         "x": [
          1
         ],
         "y": [
          0
         ]
        },
        {
         "hovertemplate": "%{text}",
         "marker": {
          "color": "#9467bd",
          "size": 25
         },
         "mode": "markers",
         "text": [
          "Id: 9<br>Process: Delivery<br>Location: FRANCE<br>Amount: 1343.0<br>Week: 20"
         ],
         "type": "scatter",
         "x": [
          1
         ],
         "y": [
          0.25
         ]
        },
        {
         "hovertemplate": "%{text}",
         "marker": {
          "color": "#9467bd",
          "size": 25
         },
         "mode": "markers",
         "text": [
          "Id: 10<br>Process: Delivery<br>Location: SPAIN<br>Amount: 1875.0<br>Week: 23"
         ],
         "type": "scatter",
         "x": [
          1
         ],
         "y": [
          0.5
         ]
        },
        {
         "hovertemplate": "%{text}",
         "marker": {
          "color": "#9467bd",
          "size": 25
         },
         "mode": "markers",
         "text": [
          "Id: 11<br>Process: Delivery<br>Location: PORTUGAL<br>Amount: 113.0<br>Week: 23"
         ],
         "type": "scatter",
         "x": [
          1
         ],
         "y": [
          0.75
         ]
        }
       ],
       "layout": {
        "hovermode": "closest",
        "margin": {
         "b": 20,
         "l": 20,
         "r": 20,
         "t": 20
        },
        "plot_bgcolor": "white",
        "showlegend": false,
        "template": {
         "data": {
          "bar": [
           {
            "error_x": {
             "color": "#2a3f5f"
            },
            "error_y": {
             "color": "#2a3f5f"
            },
            "marker": {
             "line": {
              "color": "#E5ECF6",
              "width": 0.5
             },
             "pattern": {
              "fillmode": "overlay",
              "size": 10,
              "solidity": 0.2
             }
            },
            "type": "bar"
           }
          ],
          "barpolar": [
           {
            "marker": {
             "line": {
              "color": "#E5ECF6",
              "width": 0.5
             },
             "pattern": {
              "fillmode": "overlay",
              "size": 10,
              "solidity": 0.2
             }
            },
            "type": "barpolar"
           }
          ],
          "carpet": [
           {
            "aaxis": {
             "endlinecolor": "#2a3f5f",
             "gridcolor": "white",
             "linecolor": "white",
             "minorgridcolor": "white",
             "startlinecolor": "#2a3f5f"
            },
            "baxis": {
             "endlinecolor": "#2a3f5f",
             "gridcolor": "white",
             "linecolor": "white",
             "minorgridcolor": "white",
             "startlinecolor": "#2a3f5f"
            },
            "type": "carpet"
           }
          ],
          "choropleth": [
           {
            "colorbar": {
             "outlinewidth": 0,
             "ticks": ""
            },
            "type": "choropleth"
           }
          ],
          "contour": [
           {
            "colorbar": {
             "outlinewidth": 0,
             "ticks": ""
            },
            "colorscale": [
             [
              0,
              "#0d0887"
             ],
             [
              0.1111111111111111,
              "#46039f"
             ],
             [
              0.2222222222222222,
              "#7201a8"
             ],
             [
              0.3333333333333333,
              "#9c179e"
             ],
             [
              0.4444444444444444,
              "#bd3786"
             ],
             [
              0.5555555555555556,
              "#d8576b"
             ],
             [
              0.6666666666666666,
              "#ed7953"
             ],
             [
              0.7777777777777778,
              "#fb9f3a"
             ],
             [
              0.8888888888888888,
              "#fdca26"
             ],
             [
              1,
              "#f0f921"
             ]
            ],
            "type": "contour"
           }
          ],
          "contourcarpet": [
           {
            "colorbar": {
             "outlinewidth": 0,
             "ticks": ""
            },
            "type": "contourcarpet"
           }
          ],
          "heatmap": [
           {
            "colorbar": {
             "outlinewidth": 0,
             "ticks": ""
            },
            "colorscale": [
             [
              0,
              "#0d0887"
             ],
             [
              0.1111111111111111,
              "#46039f"
             ],
             [
              0.2222222222222222,
              "#7201a8"
             ],
             [
              0.3333333333333333,
              "#9c179e"
             ],
             [
              0.4444444444444444,
              "#bd3786"
             ],
             [
              0.5555555555555556,
              "#d8576b"
             ],
             [
              0.6666666666666666,
              "#ed7953"
             ],
             [
              0.7777777777777778,
              "#fb9f3a"
             ],
             [
              0.8888888888888888,
              "#fdca26"
             ],
             [
              1,
              "#f0f921"
             ]
            ],
            "type": "heatmap"
           }
          ],
          "heatmapgl": [
           {
            "colorbar": {
             "outlinewidth": 0,
             "ticks": ""
            },
            "colorscale": [
             [
              0,
              "#0d0887"
             ],
             [
              0.1111111111111111,
              "#46039f"
             ],
             [
              0.2222222222222222,
              "#7201a8"
             ],
             [
              0.3333333333333333,
              "#9c179e"
             ],
             [
              0.4444444444444444,
              "#bd3786"
             ],
             [
              0.5555555555555556,
              "#d8576b"
             ],
             [
              0.6666666666666666,
              "#ed7953"
             ],
             [
              0.7777777777777778,
              "#fb9f3a"
             ],
             [
              0.8888888888888888,
              "#fdca26"
             ],
             [
              1,
              "#f0f921"
             ]
            ],
            "type": "heatmapgl"
           }
          ],
          "histogram": [
           {
            "marker": {
             "pattern": {
              "fillmode": "overlay",
              "size": 10,
              "solidity": 0.2
             }
            },
            "type": "histogram"
           }
          ],
          "histogram2d": [
           {
            "colorbar": {
             "outlinewidth": 0,
             "ticks": ""
            },
            "colorscale": [
             [
              0,
              "#0d0887"
             ],
             [
              0.1111111111111111,
              "#46039f"
             ],
             [
              0.2222222222222222,
              "#7201a8"
             ],
             [
              0.3333333333333333,
              "#9c179e"
             ],
             [
              0.4444444444444444,
              "#bd3786"
             ],
             [
              0.5555555555555556,
              "#d8576b"
             ],
             [
              0.6666666666666666,
              "#ed7953"
             ],
             [
              0.7777777777777778,
              "#fb9f3a"
             ],
             [
              0.8888888888888888,
              "#fdca26"
             ],
             [
              1,
              "#f0f921"
             ]
            ],
            "type": "histogram2d"
           }
          ],
          "histogram2dcontour": [
           {
            "colorbar": {
             "outlinewidth": 0,
             "ticks": ""
            },
            "colorscale": [
             [
              0,
              "#0d0887"
             ],
             [
              0.1111111111111111,
              "#46039f"
             ],
             [
              0.2222222222222222,
              "#7201a8"
             ],
             [
              0.3333333333333333,
              "#9c179e"
             ],
             [
              0.4444444444444444,
              "#bd3786"
             ],
             [
              0.5555555555555556,
              "#d8576b"
             ],
             [
              0.6666666666666666,
              "#ed7953"
             ],
             [
              0.7777777777777778,
              "#fb9f3a"
             ],
             [
              0.8888888888888888,
              "#fdca26"
             ],
             [
              1,
              "#f0f921"
             ]
            ],
            "type": "histogram2dcontour"
           }
          ],
          "mesh3d": [
           {
            "colorbar": {
             "outlinewidth": 0,
             "ticks": ""
            },
            "type": "mesh3d"
           }
          ],
          "parcoords": [
           {
            "line": {
             "colorbar": {
              "outlinewidth": 0,
              "ticks": ""
             }
            },
            "type": "parcoords"
           }
          ],
          "pie": [
           {
            "automargin": true,
            "type": "pie"
           }
          ],
          "scatter": [
           {
            "fillpattern": {
             "fillmode": "overlay",
             "size": 10,
             "solidity": 0.2
            },
            "type": "scatter"
           }
          ],
          "scatter3d": [
           {
            "line": {
             "colorbar": {
              "outlinewidth": 0,
              "ticks": ""
             }
            },
            "marker": {
             "colorbar": {
              "outlinewidth": 0,
              "ticks": ""
             }
            },
            "type": "scatter3d"
           }
          ],
          "scattercarpet": [
           {
            "marker": {
             "colorbar": {
              "outlinewidth": 0,
              "ticks": ""
             }
            },
            "type": "scattercarpet"
           }
          ],
          "scattergeo": [
           {
            "marker": {
             "colorbar": {
              "outlinewidth": 0,
              "ticks": ""
             }
            },
            "type": "scattergeo"
           }
          ],
          "scattergl": [
           {
            "marker": {
             "colorbar": {
              "outlinewidth": 0,
              "ticks": ""
             }
            },
            "type": "scattergl"
           }
          ],
          "scattermapbox": [
           {
            "marker": {
             "colorbar": {
              "outlinewidth": 0,
              "ticks": ""
             }
            },
            "type": "scattermapbox"
           }
          ],
          "scatterpolar": [
           {
            "marker": {
             "colorbar": {
              "outlinewidth": 0,
              "ticks": ""
             }
            },
            "type": "scatterpolar"
           }
          ],
          "scatterpolargl": [
           {
            "marker": {
             "colorbar": {
              "outlinewidth": 0,
              "ticks": ""
             }
            },
            "type": "scatterpolargl"
           }
          ],
          "scatterternary": [
           {
            "marker": {
             "colorbar": {
              "outlinewidth": 0,
              "ticks": ""
             }
            },
            "type": "scatterternary"
           }
          ],
          "surface": [
           {
            "colorbar": {
             "outlinewidth": 0,
             "ticks": ""
            },
            "colorscale": [
             [
              0,
              "#0d0887"
             ],
             [
              0.1111111111111111,
              "#46039f"
             ],
             [
              0.2222222222222222,
              "#7201a8"
             ],
             [
              0.3333333333333333,
              "#9c179e"
             ],
             [
              0.4444444444444444,
              "#bd3786"
             ],
             [
              0.5555555555555556,
              "#d8576b"
             ],
             [
              0.6666666666666666,
              "#ed7953"
             ],
             [
              0.7777777777777778,
              "#fb9f3a"
             ],
             [
              0.8888888888888888,
              "#fdca26"
             ],
             [
              1,
              "#f0f921"
             ]
            ],
            "type": "surface"
           }
          ],
          "table": [
           {
            "cells": {
             "fill": {
              "color": "#EBF0F8"
             },
             "line": {
              "color": "white"
             }
            },
            "header": {
             "fill": {
              "color": "#C8D4E3"
             },
             "line": {
              "color": "white"
             }
            },
            "type": "table"
           }
          ]
         },
         "layout": {
          "annotationdefaults": {
           "arrowcolor": "#2a3f5f",
           "arrowhead": 0,
           "arrowwidth": 1
          },
          "autotypenumbers": "strict",
          "coloraxis": {
           "colorbar": {
            "outlinewidth": 0,
            "ticks": ""
           }
          },
          "colorscale": {
           "diverging": [
            [
             0,
             "#8e0152"
            ],
            [
             0.1,
             "#c51b7d"
            ],
            [
             0.2,
             "#de77ae"
            ],
            [
             0.3,
             "#f1b6da"
            ],
            [
             0.4,
             "#fde0ef"
            ],
            [
             0.5,
             "#f7f7f7"
            ],
            [
             0.6,
             "#e6f5d0"
            ],
            [
             0.7,
             "#b8e186"
            ],
            [
             0.8,
             "#7fbc41"
            ],
            [
             0.9,
             "#4d9221"
            ],
            [
             1,
             "#276419"
            ]
           ],
           "sequential": [
            [
             0,
             "#0d0887"
            ],
            [
             0.1111111111111111,
             "#46039f"
            ],
            [
             0.2222222222222222,
             "#7201a8"
            ],
            [
             0.3333333333333333,
             "#9c179e"
            ],
            [
             0.4444444444444444,
             "#bd3786"
            ],
            [
             0.5555555555555556,
             "#d8576b"
            ],
            [
             0.6666666666666666,
             "#ed7953"
            ],
            [
             0.7777777777777778,
             "#fb9f3a"
            ],
            [
             0.8888888888888888,
             "#fdca26"
            ],
            [
             1,
             "#f0f921"
            ]
           ],
           "sequentialminus": [
            [
             0,
             "#0d0887"
            ],
            [
             0.1111111111111111,
             "#46039f"
            ],
            [
             0.2222222222222222,
             "#7201a8"
            ],
            [
             0.3333333333333333,
             "#9c179e"
            ],
            [
             0.4444444444444444,
             "#bd3786"
            ],
            [
             0.5555555555555556,
             "#d8576b"
            ],
            [
             0.6666666666666666,
             "#ed7953"
            ],
            [
             0.7777777777777778,
             "#fb9f3a"
            ],
            [
             0.8888888888888888,
             "#fdca26"
            ],
            [
             1,
             "#f0f921"
            ]
           ]
          },
          "colorway": [
           "#636efa",
           "#EF553B",
           "#00cc96",
           "#ab63fa",
           "#FFA15A",
           "#19d3f3",
           "#FF6692",
           "#B6E880",
           "#FF97FF",
           "#FECB52"
          ],
          "font": {
           "color": "#2a3f5f"
          },
          "geo": {
           "bgcolor": "white",
           "lakecolor": "white",
           "landcolor": "#E5ECF6",
           "showlakes": true,
           "showland": true,
           "subunitcolor": "white"
          },
          "hoverlabel": {
           "align": "left"
          },
          "hovermode": "closest",
          "mapbox": {
           "style": "light"
          },
          "paper_bgcolor": "white",
          "plot_bgcolor": "#E5ECF6",
          "polar": {
           "angularaxis": {
            "gridcolor": "white",
            "linecolor": "white",
            "ticks": ""
           },
           "bgcolor": "#E5ECF6",
           "radialaxis": {
            "gridcolor": "white",
            "linecolor": "white",
            "ticks": ""
           }
          },
          "scene": {
           "xaxis": {
            "backgroundcolor": "#E5ECF6",
            "gridcolor": "white",
            "gridwidth": 2,
            "linecolor": "white",
            "showbackground": true,
            "ticks": "",
            "zerolinecolor": "white"
           },
           "yaxis": {
            "backgroundcolor": "#E5ECF6",
            "gridcolor": "white",
            "gridwidth": 2,
            "linecolor": "white",
            "showbackground": true,
            "ticks": "",
            "zerolinecolor": "white"
           },
           "zaxis": {
            "backgroundcolor": "#E5ECF6",
            "gridcolor": "white",
            "gridwidth": 2,
            "linecolor": "white",
            "showbackground": true,
            "ticks": "",
            "zerolinecolor": "white"
           }
          },
          "shapedefaults": {
           "line": {
            "color": "#2a3f5f"
           }
          },
          "ternary": {
           "aaxis": {
            "gridcolor": "white",
            "linecolor": "white",
            "ticks": ""
           },
           "baxis": {
            "gridcolor": "white",
            "linecolor": "white",
            "ticks": ""
           },
           "bgcolor": "#E5ECF6",
           "caxis": {
            "gridcolor": "white",
            "linecolor": "white",
            "ticks": ""
           }
          },
          "title": {
           "x": 0.05
          },
          "xaxis": {
           "automargin": true,
           "gridcolor": "white",
           "linecolor": "white",
           "ticks": "",
           "title": {
            "standoff": 15
           },
           "zerolinecolor": "white",
           "zerolinewidth": 2
          },
          "yaxis": {
           "automargin": true,
           "gridcolor": "white",
           "linecolor": "white",
           "ticks": "",
           "title": {
            "standoff": 15
           },
           "zerolinecolor": "white",
           "zerolinewidth": 2
          }
         }
        },
        "width": 900,
        "xaxis": {
         "tickmode": "array",
         "ticktext": [
          "Sourcing",
          "Conditioning",
          "Treatment",
          "Forwarding",
          "Delivery"
         ],
         "tickvals": [
          0,
          0.25,
          0.5,
          0.75,
          1
         ]
        },
        "yaxis": {
         "visible": false
        }
       }
      },
      "text/html": [
       "<div>                            <div id=\"611c37de-0c49-4750-a5a8-87a7a4d15415\" class=\"plotly-graph-div\" style=\"height:525px; width:900px;\"></div>            <script type=\"text/javascript\">                require([\"plotly\"], function(Plotly) {                    window.PLOTLYENV=window.PLOTLYENV || {};                                    if (document.getElementById(\"611c37de-0c49-4750-a5a8-87a7a4d15415\")) {                    Plotly.newPlot(                        \"611c37de-0c49-4750-a5a8-87a7a4d15415\",                        [{\"line\":{\"color\":\"black\",\"width\":1.5220633934120573},\"mode\":\"lines\",\"x\":[0,0.25,null],\"y\":[0.0,0.0,null],\"type\":\"scatter\"},{\"hovertemplate\":\"%{text}\",\"marker\":{\"color\":\"black\",\"opacity\":0,\"size\":20},\"mode\":\"markers\",\"text\":[\"Amount: 533.0\"],\"x\":[0.125],\"y\":[0.0],\"type\":\"scatter\"},{\"line\":{\"color\":\"black\",\"width\":5.0},\"mode\":\"lines\",\"x\":[0,0.25,null],\"y\":[0.5,0.5,null],\"type\":\"scatter\"},{\"hovertemplate\":\"%{text}\",\"marker\":{\"color\":\"black\",\"opacity\":0,\"size\":20},\"mode\":\"markers\",\"text\":[\"Amount: 3331.0\"],\"x\":[0.125],\"y\":[0.5],\"type\":\"scatter\"},{\"line\":{\"color\":\"black\",\"width\":1.5220633934120573},\"mode\":\"lines\",\"x\":[0.25,0.5,null],\"y\":[0.0,0.5,null],\"type\":\"scatter\"},{\"hovertemplate\":\"%{text}\",\"marker\":{\"color\":\"black\",\"opacity\":0,\"size\":20},\"mode\":\"markers\",\"text\":[\"Amount: 533.0\"],\"x\":[0.375],\"y\":[0.25],\"type\":\"scatter\"},{\"line\":{\"color\":\"black\",\"width\":5.0},\"mode\":\"lines\",\"x\":[0.25,0.5,null],\"y\":[0.5,0.0,null],\"type\":\"scatter\"},{\"hovertemplate\":\"%{text}\",\"marker\":{\"color\":\"black\",\"opacity\":0,\"size\":20},\"mode\":\"markers\",\"text\":[\"Amount: 3331.0\"],\"x\":[0.375],\"y\":[0.25],\"type\":\"scatter\"},{\"line\":{\"color\":\"black\",\"width\":5.0},\"mode\":\"lines\",\"x\":[0.5,0.75,null],\"y\":[0.0,0.0,null],\"type\":\"scatter\"},{\"hovertemplate\":\"%{text}\",\"marker\":{\"color\":\"black\",\"opacity\":0,\"size\":20},\"mode\":\"markers\",\"text\":[\"Amount: 3331.0\"],\"x\":[0.625],\"y\":[0.0],\"type\":\"scatter\"},{\"line\":{\"color\":\"black\",\"width\":1.5220633934120573},\"mode\":\"lines\",\"x\":[0.5,0.75,null],\"y\":[0.5,0.5,null],\"type\":\"scatter\"},{\"hovertemplate\":\"%{text}\",\"marker\":{\"color\":\"black\",\"opacity\":0,\"size\":20},\"mode\":\"markers\",\"text\":[\"Amount: 533.0\"],\"x\":[0.625],\"y\":[0.5],\"type\":\"scatter\"},{\"line\":{\"color\":\"black\",\"width\":2.528899937849596},\"mode\":\"lines\",\"x\":[0.75,1,null],\"y\":[0.0,0.25,null],\"type\":\"scatter\"},{\"hovertemplate\":\"%{text}\",\"marker\":{\"color\":\"black\",\"opacity\":0,\"size\":20},\"mode\":\"markers\",\"text\":[\"Amount: 1343.0\"],\"x\":[0.875],\"y\":[0.125],\"type\":\"scatter\"},{\"line\":{\"color\":\"black\",\"width\":3.190180236171535},\"mode\":\"lines\",\"x\":[0.75,1,null],\"y\":[0.0,0.5,null],\"type\":\"scatter\"},{\"hovertemplate\":\"%{text}\",\"marker\":{\"color\":\"black\",\"opacity\":0,\"size\":20},\"mode\":\"markers\",\"text\":[\"Amount: 1875.0\"],\"x\":[0.875],\"y\":[0.25],\"type\":\"scatter\"},{\"line\":{\"color\":\"black\",\"width\":1.0},\"mode\":\"lines\",\"x\":[0.75,1,null],\"y\":[0.0,0.75,null],\"type\":\"scatter\"},{\"hovertemplate\":\"%{text}\",\"marker\":{\"color\":\"black\",\"opacity\":0,\"size\":20},\"mode\":\"markers\",\"text\":[\"Amount: 113.0\"],\"x\":[0.875],\"y\":[0.375],\"type\":\"scatter\"},{\"line\":{\"color\":\"black\",\"width\":1.5220633934120573},\"mode\":\"lines\",\"x\":[0.75,1,null],\"y\":[0.5,0.0,null],\"type\":\"scatter\"},{\"hovertemplate\":\"%{text}\",\"marker\":{\"color\":\"black\",\"opacity\":0,\"size\":20},\"mode\":\"markers\",\"text\":[\"Amount: 533.0\"],\"x\":[0.875],\"y\":[0.25],\"type\":\"scatter\"},{\"hovertemplate\":\"%{text}\",\"marker\":{\"color\":\"#1f77b4\",\"size\":25},\"mode\":\"markers\",\"text\":[\"Id: 0<br>Process: Sourcing<br>Location: HUNGARY<br>Amount: 533.0<br>Week: 1\"],\"x\":[0],\"y\":[0.0],\"type\":\"scatter\"},{\"hovertemplate\":\"%{text}\",\"marker\":{\"color\":\"#1f77b4\",\"size\":25},\"mode\":\"markers\",\"text\":[\"Id: 1<br>Process: Sourcing<br>Location: AUSTRIA<br>Amount: 3331.0<br>Week: 1\"],\"x\":[0],\"y\":[0.5],\"type\":\"scatter\"},{\"hovertemplate\":\"%{text}\",\"marker\":{\"color\":\"#ff7f0e\",\"size\":25},\"mode\":\"markers\",\"text\":[\"Id: 2<br>Process: Conditioning<br>Location: HUNGARY<br>Amount: 533.0<br>Week: 1\"],\"x\":[0.25],\"y\":[0.0],\"type\":\"scatter\"},{\"hovertemplate\":\"%{text}\",\"marker\":{\"color\":\"#ff7f0e\",\"size\":25},\"mode\":\"markers\",\"text\":[\"Id: 3<br>Process: Conditioning<br>Location: AUSTRIA<br>Amount: 3331.0<br>Week: 2\"],\"x\":[0.25],\"y\":[0.5],\"type\":\"scatter\"},{\"hovertemplate\":\"%{text}\",\"marker\":{\"color\":\"#2ca02c\",\"size\":25},\"mode\":\"markers\",\"text\":[\"Id: 4<br>Process: Treatment<br>Location: SLOVENIA<br>Amount: 3331.0<br>Week: 5\"],\"x\":[0.5],\"y\":[0.0],\"type\":\"scatter\"},{\"hovertemplate\":\"%{text}\",\"marker\":{\"color\":\"#2ca02c\",\"size\":25},\"mode\":\"markers\",\"text\":[\"Id: 5<br>Process: Treatment<br>Location: SLOVENIA<br>Amount: 533.0<br>Week: 6\"],\"x\":[0.5],\"y\":[0.5],\"type\":\"scatter\"},{\"hovertemplate\":\"%{text}\",\"marker\":{\"color\":\"#d62728\",\"size\":25},\"mode\":\"markers\",\"text\":[\"Id: 6<br>Process: Forwarding<br>Location: FRANCE<br>Amount: 3331.0<br>Week: 9\"],\"x\":[0.75],\"y\":[0.0],\"type\":\"scatter\"},{\"hovertemplate\":\"%{text}\",\"marker\":{\"color\":\"#d62728\",\"size\":25},\"mode\":\"markers\",\"text\":[\"Id: 7<br>Process: Forwarding<br>Location: SLOVENIA<br>Amount: 533.0<br>Week: 12\"],\"x\":[0.75],\"y\":[0.5],\"type\":\"scatter\"},{\"hovertemplate\":\"%{text}\",\"marker\":{\"color\":\"#9467bd\",\"size\":25},\"mode\":\"markers\",\"text\":[\"Id: 8<br>Process: Delivery<br>Location: FRANCE<br>Amount: 533.0<br>Week: 15\"],\"x\":[1],\"y\":[0.0],\"type\":\"scatter\"},{\"hovertemplate\":\"%{text}\",\"marker\":{\"color\":\"#9467bd\",\"size\":25},\"mode\":\"markers\",\"text\":[\"Id: 9<br>Process: Delivery<br>Location: FRANCE<br>Amount: 1343.0<br>Week: 20\"],\"x\":[1],\"y\":[0.25],\"type\":\"scatter\"},{\"hovertemplate\":\"%{text}\",\"marker\":{\"color\":\"#9467bd\",\"size\":25},\"mode\":\"markers\",\"text\":[\"Id: 10<br>Process: Delivery<br>Location: SPAIN<br>Amount: 1875.0<br>Week: 23\"],\"x\":[1],\"y\":[0.5],\"type\":\"scatter\"},{\"hovertemplate\":\"%{text}\",\"marker\":{\"color\":\"#9467bd\",\"size\":25},\"mode\":\"markers\",\"text\":[\"Id: 11<br>Process: Delivery<br>Location: PORTUGAL<br>Amount: 113.0<br>Week: 23\"],\"x\":[1],\"y\":[0.75],\"type\":\"scatter\"}],                        {\"template\":{\"data\":{\"histogram2dcontour\":[{\"type\":\"histogram2dcontour\",\"colorbar\":{\"outlinewidth\":0,\"ticks\":\"\"},\"colorscale\":[[0.0,\"#0d0887\"],[0.1111111111111111,\"#46039f\"],[0.2222222222222222,\"#7201a8\"],[0.3333333333333333,\"#9c179e\"],[0.4444444444444444,\"#bd3786\"],[0.5555555555555556,\"#d8576b\"],[0.6666666666666666,\"#ed7953\"],[0.7777777777777778,\"#fb9f3a\"],[0.8888888888888888,\"#fdca26\"],[1.0,\"#f0f921\"]]}],\"choropleth\":[{\"type\":\"choropleth\",\"colorbar\":{\"outlinewidth\":0,\"ticks\":\"\"}}],\"histogram2d\":[{\"type\":\"histogram2d\",\"colorbar\":{\"outlinewidth\":0,\"ticks\":\"\"},\"colorscale\":[[0.0,\"#0d0887\"],[0.1111111111111111,\"#46039f\"],[0.2222222222222222,\"#7201a8\"],[0.3333333333333333,\"#9c179e\"],[0.4444444444444444,\"#bd3786\"],[0.5555555555555556,\"#d8576b\"],[0.6666666666666666,\"#ed7953\"],[0.7777777777777778,\"#fb9f3a\"],[0.8888888888888888,\"#fdca26\"],[1.0,\"#f0f921\"]]}],\"heatmap\":[{\"type\":\"heatmap\",\"colorbar\":{\"outlinewidth\":0,\"ticks\":\"\"},\"colorscale\":[[0.0,\"#0d0887\"],[0.1111111111111111,\"#46039f\"],[0.2222222222222222,\"#7201a8\"],[0.3333333333333333,\"#9c179e\"],[0.4444444444444444,\"#bd3786\"],[0.5555555555555556,\"#d8576b\"],[0.6666666666666666,\"#ed7953\"],[0.7777777777777778,\"#fb9f3a\"],[0.8888888888888888,\"#fdca26\"],[1.0,\"#f0f921\"]]}],\"heatmapgl\":[{\"type\":\"heatmapgl\",\"colorbar\":{\"outlinewidth\":0,\"ticks\":\"\"},\"colorscale\":[[0.0,\"#0d0887\"],[0.1111111111111111,\"#46039f\"],[0.2222222222222222,\"#7201a8\"],[0.3333333333333333,\"#9c179e\"],[0.4444444444444444,\"#bd3786\"],[0.5555555555555556,\"#d8576b\"],[0.6666666666666666,\"#ed7953\"],[0.7777777777777778,\"#fb9f3a\"],[0.8888888888888888,\"#fdca26\"],[1.0,\"#f0f921\"]]}],\"contourcarpet\":[{\"type\":\"contourcarpet\",\"colorbar\":{\"outlinewidth\":0,\"ticks\":\"\"}}],\"contour\":[{\"type\":\"contour\",\"colorbar\":{\"outlinewidth\":0,\"ticks\":\"\"},\"colorscale\":[[0.0,\"#0d0887\"],[0.1111111111111111,\"#46039f\"],[0.2222222222222222,\"#7201a8\"],[0.3333333333333333,\"#9c179e\"],[0.4444444444444444,\"#bd3786\"],[0.5555555555555556,\"#d8576b\"],[0.6666666666666666,\"#ed7953\"],[0.7777777777777778,\"#fb9f3a\"],[0.8888888888888888,\"#fdca26\"],[1.0,\"#f0f921\"]]}],\"surface\":[{\"type\":\"surface\",\"colorbar\":{\"outlinewidth\":0,\"ticks\":\"\"},\"colorscale\":[[0.0,\"#0d0887\"],[0.1111111111111111,\"#46039f\"],[0.2222222222222222,\"#7201a8\"],[0.3333333333333333,\"#9c179e\"],[0.4444444444444444,\"#bd3786\"],[0.5555555555555556,\"#d8576b\"],[0.6666666666666666,\"#ed7953\"],[0.7777777777777778,\"#fb9f3a\"],[0.8888888888888888,\"#fdca26\"],[1.0,\"#f0f921\"]]}],\"mesh3d\":[{\"type\":\"mesh3d\",\"colorbar\":{\"outlinewidth\":0,\"ticks\":\"\"}}],\"scatter\":[{\"fillpattern\":{\"fillmode\":\"overlay\",\"size\":10,\"solidity\":0.2},\"type\":\"scatter\"}],\"parcoords\":[{\"type\":\"parcoords\",\"line\":{\"colorbar\":{\"outlinewidth\":0,\"ticks\":\"\"}}}],\"scatterpolargl\":[{\"type\":\"scatterpolargl\",\"marker\":{\"colorbar\":{\"outlinewidth\":0,\"ticks\":\"\"}}}],\"bar\":[{\"error_x\":{\"color\":\"#2a3f5f\"},\"error_y\":{\"color\":\"#2a3f5f\"},\"marker\":{\"line\":{\"color\":\"#E5ECF6\",\"width\":0.5},\"pattern\":{\"fillmode\":\"overlay\",\"size\":10,\"solidity\":0.2}},\"type\":\"bar\"}],\"scattergeo\":[{\"type\":\"scattergeo\",\"marker\":{\"colorbar\":{\"outlinewidth\":0,\"ticks\":\"\"}}}],\"scatterpolar\":[{\"type\":\"scatterpolar\",\"marker\":{\"colorbar\":{\"outlinewidth\":0,\"ticks\":\"\"}}}],\"histogram\":[{\"marker\":{\"pattern\":{\"fillmode\":\"overlay\",\"size\":10,\"solidity\":0.2}},\"type\":\"histogram\"}],\"scattergl\":[{\"type\":\"scattergl\",\"marker\":{\"colorbar\":{\"outlinewidth\":0,\"ticks\":\"\"}}}],\"scatter3d\":[{\"type\":\"scatter3d\",\"line\":{\"colorbar\":{\"outlinewidth\":0,\"ticks\":\"\"}},\"marker\":{\"colorbar\":{\"outlinewidth\":0,\"ticks\":\"\"}}}],\"scattermapbox\":[{\"type\":\"scattermapbox\",\"marker\":{\"colorbar\":{\"outlinewidth\":0,\"ticks\":\"\"}}}],\"scatterternary\":[{\"type\":\"scatterternary\",\"marker\":{\"colorbar\":{\"outlinewidth\":0,\"ticks\":\"\"}}}],\"scattercarpet\":[{\"type\":\"scattercarpet\",\"marker\":{\"colorbar\":{\"outlinewidth\":0,\"ticks\":\"\"}}}],\"carpet\":[{\"aaxis\":{\"endlinecolor\":\"#2a3f5f\",\"gridcolor\":\"white\",\"linecolor\":\"white\",\"minorgridcolor\":\"white\",\"startlinecolor\":\"#2a3f5f\"},\"baxis\":{\"endlinecolor\":\"#2a3f5f\",\"gridcolor\":\"white\",\"linecolor\":\"white\",\"minorgridcolor\":\"white\",\"startlinecolor\":\"#2a3f5f\"},\"type\":\"carpet\"}],\"table\":[{\"cells\":{\"fill\":{\"color\":\"#EBF0F8\"},\"line\":{\"color\":\"white\"}},\"header\":{\"fill\":{\"color\":\"#C8D4E3\"},\"line\":{\"color\":\"white\"}},\"type\":\"table\"}],\"barpolar\":[{\"marker\":{\"line\":{\"color\":\"#E5ECF6\",\"width\":0.5},\"pattern\":{\"fillmode\":\"overlay\",\"size\":10,\"solidity\":0.2}},\"type\":\"barpolar\"}],\"pie\":[{\"automargin\":true,\"type\":\"pie\"}]},\"layout\":{\"autotypenumbers\":\"strict\",\"colorway\":[\"#636efa\",\"#EF553B\",\"#00cc96\",\"#ab63fa\",\"#FFA15A\",\"#19d3f3\",\"#FF6692\",\"#B6E880\",\"#FF97FF\",\"#FECB52\"],\"font\":{\"color\":\"#2a3f5f\"},\"hovermode\":\"closest\",\"hoverlabel\":{\"align\":\"left\"},\"paper_bgcolor\":\"white\",\"plot_bgcolor\":\"#E5ECF6\",\"polar\":{\"bgcolor\":\"#E5ECF6\",\"angularaxis\":{\"gridcolor\":\"white\",\"linecolor\":\"white\",\"ticks\":\"\"},\"radialaxis\":{\"gridcolor\":\"white\",\"linecolor\":\"white\",\"ticks\":\"\"}},\"ternary\":{\"bgcolor\":\"#E5ECF6\",\"aaxis\":{\"gridcolor\":\"white\",\"linecolor\":\"white\",\"ticks\":\"\"},\"baxis\":{\"gridcolor\":\"white\",\"linecolor\":\"white\",\"ticks\":\"\"},\"caxis\":{\"gridcolor\":\"white\",\"linecolor\":\"white\",\"ticks\":\"\"}},\"coloraxis\":{\"colorbar\":{\"outlinewidth\":0,\"ticks\":\"\"}},\"colorscale\":{\"sequential\":[[0.0,\"#0d0887\"],[0.1111111111111111,\"#46039f\"],[0.2222222222222222,\"#7201a8\"],[0.3333333333333333,\"#9c179e\"],[0.4444444444444444,\"#bd3786\"],[0.5555555555555556,\"#d8576b\"],[0.6666666666666666,\"#ed7953\"],[0.7777777777777778,\"#fb9f3a\"],[0.8888888888888888,\"#fdca26\"],[1.0,\"#f0f921\"]],\"sequentialminus\":[[0.0,\"#0d0887\"],[0.1111111111111111,\"#46039f\"],[0.2222222222222222,\"#7201a8\"],[0.3333333333333333,\"#9c179e\"],[0.4444444444444444,\"#bd3786\"],[0.5555555555555556,\"#d8576b\"],[0.6666666666666666,\"#ed7953\"],[0.7777777777777778,\"#fb9f3a\"],[0.8888888888888888,\"#fdca26\"],[1.0,\"#f0f921\"]],\"diverging\":[[0,\"#8e0152\"],[0.1,\"#c51b7d\"],[0.2,\"#de77ae\"],[0.3,\"#f1b6da\"],[0.4,\"#fde0ef\"],[0.5,\"#f7f7f7\"],[0.6,\"#e6f5d0\"],[0.7,\"#b8e186\"],[0.8,\"#7fbc41\"],[0.9,\"#4d9221\"],[1,\"#276419\"]]},\"xaxis\":{\"gridcolor\":\"white\",\"linecolor\":\"white\",\"ticks\":\"\",\"title\":{\"standoff\":15},\"zerolinecolor\":\"white\",\"automargin\":true,\"zerolinewidth\":2},\"yaxis\":{\"gridcolor\":\"white\",\"linecolor\":\"white\",\"ticks\":\"\",\"title\":{\"standoff\":15},\"zerolinecolor\":\"white\",\"automargin\":true,\"zerolinewidth\":2},\"scene\":{\"xaxis\":{\"backgroundcolor\":\"#E5ECF6\",\"gridcolor\":\"white\",\"linecolor\":\"white\",\"showbackground\":true,\"ticks\":\"\",\"zerolinecolor\":\"white\",\"gridwidth\":2},\"yaxis\":{\"backgroundcolor\":\"#E5ECF6\",\"gridcolor\":\"white\",\"linecolor\":\"white\",\"showbackground\":true,\"ticks\":\"\",\"zerolinecolor\":\"white\",\"gridwidth\":2},\"zaxis\":{\"backgroundcolor\":\"#E5ECF6\",\"gridcolor\":\"white\",\"linecolor\":\"white\",\"showbackground\":true,\"ticks\":\"\",\"zerolinecolor\":\"white\",\"gridwidth\":2}},\"shapedefaults\":{\"line\":{\"color\":\"#2a3f5f\"}},\"annotationdefaults\":{\"arrowcolor\":\"#2a3f5f\",\"arrowhead\":0,\"arrowwidth\":1},\"geo\":{\"bgcolor\":\"white\",\"landcolor\":\"#E5ECF6\",\"subunitcolor\":\"white\",\"showland\":true,\"showlakes\":true,\"lakecolor\":\"white\"},\"title\":{\"x\":0.05},\"mapbox\":{\"style\":\"light\"}}},\"hovermode\":\"closest\",\"showlegend\":false,\"plot_bgcolor\":\"white\",\"margin\":{\"l\":20,\"r\":20,\"t\":20,\"b\":20},\"xaxis\":{\"tickmode\":\"array\",\"tickvals\":[0,0.25,0.5,0.75,1],\"ticktext\":[\"Sourcing\",\"Conditioning\",\"Treatment\",\"Forwarding\",\"Delivery\"]},\"yaxis\":{\"visible\":false},\"width\":900},                        {\"responsive\": true}                    ).then(function(){\n",
       "                            \n",
       "var gd = document.getElementById('611c37de-0c49-4750-a5a8-87a7a4d15415');\n",
       "var x = new MutationObserver(function (mutations, observer) {{\n",
       "        var display = window.getComputedStyle(gd).display;\n",
       "        if (!display || display === 'none') {{\n",
       "            console.log([gd, 'removed!']);\n",
       "            Plotly.purge(gd);\n",
       "            observer.disconnect();\n",
       "        }}\n",
       "}});\n",
       "\n",
       "// Listen for the removal of the full notebook cells\n",
       "var notebookContainer = gd.closest('#notebook-container');\n",
       "if (notebookContainer) {{\n",
       "    x.observe(notebookContainer, {childList: true});\n",
       "}}\n",
       "\n",
       "// Listen for the clearing of the current output cell\n",
       "var outputEl = gd.closest('.output');\n",
       "if (outputEl) {{\n",
       "    x.observe(outputEl, {childList: true});\n",
       "}}\n",
       "\n",
       "                        })                };                });            </script>        </div>"
      ]
     },
     "metadata": {},
     "output_type": "display_data"
    }
   ],
   "source": [
    "\n",
    "input3_solution.ivisualize()"
   ]
  },
  {
   "attachments": {},
   "cell_type": "markdown",
   "metadata": {},
   "source": [
    "### Input 4"
   ]
  },
  {
   "cell_type": "code",
   "execution_count": 64,
   "metadata": {},
   "outputs": [
    {
     "data": {
      "text/html": [
       "<div>\n",
       "<style scoped>\n",
       "    .dataframe tbody tr th:only-of-type {\n",
       "        vertical-align: middle;\n",
       "    }\n",
       "\n",
       "    .dataframe tbody tr th {\n",
       "        vertical-align: top;\n",
       "    }\n",
       "\n",
       "    .dataframe thead th {\n",
       "        text-align: right;\n",
       "    }\n",
       "</style>\n",
       "<table border=\"1\" class=\"dataframe\">\n",
       "  <thead>\n",
       "    <tr style=\"text-align: right;\">\n",
       "      <th></th>\n",
       "      <th>product</th>\n",
       "      <th>treatment</th>\n",
       "      <th>send_from_cnt</th>\n",
       "      <th>to_processing_cnt</th>\n",
       "      <th>for_process</th>\n",
       "      <th>Week</th>\n",
       "      <th>Amount</th>\n",
       "    </tr>\n",
       "  </thead>\n",
       "  <tbody>\n",
       "    <tr>\n",
       "      <th>0</th>\n",
       "      <td>P11</td>\n",
       "      <td>I320</td>\n",
       "      <td>NaN</td>\n",
       "      <td>AUSTRIA</td>\n",
       "      <td>Sourcing</td>\n",
       "      <td>1</td>\n",
       "      <td>795</td>\n",
       "    </tr>\n",
       "    <tr>\n",
       "      <th>1</th>\n",
       "      <td>P11</td>\n",
       "      <td>I320</td>\n",
       "      <td>NaN</td>\n",
       "      <td>SLOVENIA</td>\n",
       "      <td>Sourcing</td>\n",
       "      <td>1</td>\n",
       "      <td>405</td>\n",
       "    </tr>\n",
       "    <tr>\n",
       "      <th>2</th>\n",
       "      <td>P11</td>\n",
       "      <td>I320</td>\n",
       "      <td>AUSTRIA</td>\n",
       "      <td>AUSTRIA</td>\n",
       "      <td>Conditioning</td>\n",
       "      <td>1</td>\n",
       "      <td>795</td>\n",
       "    </tr>\n",
       "    <tr>\n",
       "      <th>3</th>\n",
       "      <td>P11</td>\n",
       "      <td>I320</td>\n",
       "      <td>SLOVENIA</td>\n",
       "      <td>AUSTRIA</td>\n",
       "      <td>Conditioning</td>\n",
       "      <td>1</td>\n",
       "      <td>405</td>\n",
       "    </tr>\n",
       "    <tr>\n",
       "      <th>4</th>\n",
       "      <td>P11</td>\n",
       "      <td>I320</td>\n",
       "      <td>AUSTRIA</td>\n",
       "      <td>SLOVENIA</td>\n",
       "      <td>Treatment</td>\n",
       "      <td>19</td>\n",
       "      <td>1200</td>\n",
       "    </tr>\n",
       "  </tbody>\n",
       "</table>\n",
       "</div>"
      ],
      "text/plain": [
       "  product treatment send_from_cnt to_processing_cnt   for_process  Week   \n",
       "0     P11      I320           NaN           AUSTRIA      Sourcing     1  \\\n",
       "1     P11      I320           NaN          SLOVENIA      Sourcing     1   \n",
       "2     P11      I320       AUSTRIA           AUSTRIA  Conditioning     1   \n",
       "3     P11      I320      SLOVENIA           AUSTRIA  Conditioning     1   \n",
       "4     P11      I320       AUSTRIA          SLOVENIA     Treatment    19   \n",
       "\n",
       "   Amount  \n",
       "0     795  \n",
       "1     405  \n",
       "2     795  \n",
       "3     405  \n",
       "4    1200  "
      ]
     },
     "execution_count": 64,
     "metadata": {},
     "output_type": "execute_result"
    }
   ],
   "source": [
    "data[\"Input4\"].head()"
   ]
  },
  {
   "cell_type": "code",
   "execution_count": 65,
   "metadata": {},
   "outputs": [],
   "source": [
    "input4_model = NetworkFlowModel(data[\"Input4\"])\n",
    "input4_solution = input4_model.solve()"
   ]
  },
  {
   "cell_type": "code",
   "execution_count": 66,
   "metadata": {},
   "outputs": [
    {
     "data": {
      "text/html": [
       "<div>\n",
       "<style scoped>\n",
       "    .dataframe tbody tr th:only-of-type {\n",
       "        vertical-align: middle;\n",
       "    }\n",
       "\n",
       "    .dataframe tbody tr th {\n",
       "        vertical-align: top;\n",
       "    }\n",
       "\n",
       "    .dataframe thead th {\n",
       "        text-align: right;\n",
       "    }\n",
       "</style>\n",
       "<table border=\"1\" class=\"dataframe\">\n",
       "  <thead>\n",
       "    <tr style=\"text-align: right;\">\n",
       "      <th></th>\n",
       "      <th>Process1_id</th>\n",
       "      <th>Process1_Cnt</th>\n",
       "      <th>Process1_Amount</th>\n",
       "      <th>Process1_Week</th>\n",
       "      <th>Process2_id</th>\n",
       "      <th>Process2_Cnt</th>\n",
       "      <th>Process2_Amount</th>\n",
       "      <th>Process2_Week</th>\n",
       "      <th>Process3_id</th>\n",
       "      <th>Process3_Cnt</th>\n",
       "      <th>Process3_Amount</th>\n",
       "      <th>Process3_Week</th>\n",
       "      <th>Process4_id</th>\n",
       "      <th>Process4_Cnt</th>\n",
       "      <th>Process4_Amount</th>\n",
       "      <th>Process4_Week</th>\n",
       "      <th>Process5_id</th>\n",
       "      <th>Process5_Cnt</th>\n",
       "      <th>Process5_Amount</th>\n",
       "      <th>Process5_Week</th>\n",
       "    </tr>\n",
       "  </thead>\n",
       "  <tbody>\n",
       "    <tr>\n",
       "      <th>0</th>\n",
       "      <td>0</td>\n",
       "      <td>AUSTRIA</td>\n",
       "      <td>795.0</td>\n",
       "      <td>1</td>\n",
       "      <td>2.0</td>\n",
       "      <td>AUSTRIA</td>\n",
       "      <td>795.0</td>\n",
       "      <td>1.0</td>\n",
       "      <td>4.0</td>\n",
       "      <td>SLOVENIA</td>\n",
       "      <td>1200.0</td>\n",
       "      <td>19.0</td>\n",
       "      <td>5.0</td>\n",
       "      <td>SLOVENIA</td>\n",
       "      <td>1200.0</td>\n",
       "      <td>23.0</td>\n",
       "      <td>6.0</td>\n",
       "      <td>HUNGARY</td>\n",
       "      <td>1200.0</td>\n",
       "      <td>23.0</td>\n",
       "    </tr>\n",
       "    <tr>\n",
       "      <th>1</th>\n",
       "      <td>1</td>\n",
       "      <td>SLOVENIA</td>\n",
       "      <td>405.0</td>\n",
       "      <td>1</td>\n",
       "      <td>3.0</td>\n",
       "      <td>AUSTRIA</td>\n",
       "      <td>405.0</td>\n",
       "      <td>1.0</td>\n",
       "      <td>NaN</td>\n",
       "      <td>NaN</td>\n",
       "      <td>NaN</td>\n",
       "      <td>NaN</td>\n",
       "      <td>NaN</td>\n",
       "      <td>NaN</td>\n",
       "      <td>NaN</td>\n",
       "      <td>NaN</td>\n",
       "      <td>NaN</td>\n",
       "      <td>NaN</td>\n",
       "      <td>NaN</td>\n",
       "      <td>NaN</td>\n",
       "    </tr>\n",
       "  </tbody>\n",
       "</table>\n",
       "</div>"
      ],
      "text/plain": [
       "   Process1_id Process1_Cnt  Process1_Amount  Process1_Week  Process2_id   \n",
       "0            0      AUSTRIA            795.0              1          2.0  \\\n",
       "1            1     SLOVENIA            405.0              1          3.0   \n",
       "\n",
       "  Process2_Cnt  Process2_Amount  Process2_Week  Process3_id Process3_Cnt   \n",
       "0      AUSTRIA            795.0            1.0          4.0     SLOVENIA  \\\n",
       "1      AUSTRIA            405.0            1.0          NaN          NaN   \n",
       "\n",
       "   Process3_Amount  Process3_Week  Process4_id Process4_Cnt  Process4_Amount   \n",
       "0           1200.0           19.0          5.0     SLOVENIA           1200.0  \\\n",
       "1              NaN            NaN          NaN          NaN              NaN   \n",
       "\n",
       "   Process4_Week  Process5_id Process5_Cnt  Process5_Amount  Process5_Week  \n",
       "0           23.0          6.0      HUNGARY           1200.0           23.0  \n",
       "1            NaN          NaN          NaN              NaN            NaN  "
      ]
     },
     "execution_count": 66,
     "metadata": {},
     "output_type": "execute_result"
    }
   ],
   "source": [
    "input4_solution.demands"
   ]
  },
  {
   "cell_type": "code",
   "execution_count": 67,
   "metadata": {},
   "outputs": [
    {
     "data": {
      "image/png": "[encoded data removed]",
      "text/plain": [
       "<Figure size 1000x1000 with 1 Axes>"
      ]
     },
     "metadata": {},
     "output_type": "display_data"
    }
   ],
   "source": [
    "input4_solution.visualize()"
   ]
  },
  {
   "cell_type": "code",
   "execution_count": 73,
   "metadata": {},
   "outputs": [
    {
     "data": {
      "application/vnd.plotly.v1+json": {
       "config": {
        "plotlyServerURL": "https://plot.ly"
       },
       "data": [
        {
         "line": {
          "color": "black",
          "width": 2.9622641509433962
         },
         "mode": "lines",
         "type": "scatter",
         "x": [
          0,
          0.25,
          null
         ],
         "y": [
          0,
          0,
          null
         ]
        },
        {
         "hovertemplate": "%{text}",
         "marker": {
          "color": "black",
          "opacity": 0,
          "size": 20
         },
         "mode": "markers",
         "text": [
          "Amount: 795.0"
         ],
         "type": "scatter",
         "x": [
          0.125
         ],
         "y": [
          0
         ]
        },
        {
         "line": {
          "color": "black",
          "width": 1
         },
         "mode": "lines",
         "type": "scatter",
         "x": [
          0,
          0.25,
          null
         ],
         "y": [
          0.5,
          0.5,
          null
         ]
        },
        {
         "hovertemplate": "%{text}",
         "marker": {
          "color": "black",
          "opacity": 0,
          "size": 20
         },
         "mode": "markers",
         "text": [
          "Amount: 405.0"
         ],
         "type": "scatter",
         "x": [
          0.125
         ],
         "y": [
          0.5
         ]
        },
        {
         "line": {
          "color": "black",
          "width": 2.9622641509433962
         },
         "mode": "lines",
         "type": "scatter",
         "x": [
          0.25,
          0.5,
          null
         ],
         "y": [
          0,
          0,
          null
         ]
        },
        {
         "hovertemplate": "%{text}",
         "marker": {
          "color": "black",
          "opacity": 0,
          "size": 20
         },
         "mode": "markers",
         "text": [
          "Amount: 795.0"
         ],
         "type": "scatter",
         "x": [
          0.375
         ],
         "y": [
          0
         ]
        },
        {
         "line": {
          "color": "black",
          "width": 1
         },
         "mode": "lines",
         "type": "scatter",
         "x": [
          0.25,
          0.5,
          null
         ],
         "y": [
          0.5,
          0,
          null
         ]
        },
        {
         "hovertemplate": "%{text}",
         "marker": {
          "color": "black",
          "opacity": 0,
          "size": 20
         },
         "mode": "markers",
         "text": [
          "Amount: 405.0"
         ],
         "type": "scatter",
         "x": [
          0.375
         ],
         "y": [
          0.25
         ]
        },
        {
         "line": {
          "color": "black",
          "width": 5
         },
         "mode": "lines",
         "type": "scatter",
         "x": [
          0.5,
          0.75,
          null
         ],
         "y": [
          0,
          0,
          null
         ]
        },
        {
         "hovertemplate": "%{text}",
         "marker": {
          "color": "black",
          "opacity": 0,
          "size": 20
         },
         "mode": "markers",
         "text": [
          "Amount: 1200.0"
         ],
         "type": "scatter",
         "x": [
          0.625
         ],
         "y": [
          0
         ]
        },
        {
         "line": {
          "color": "black",
          "width": 5
         },
         "mode": "lines",
         "type": "scatter",
         "x": [
          0.75,
          1,
          null
         ],
         "y": [
          0,
          0,
          null
         ]
        },
        {
         "hovertemplate": "%{text}",
         "marker": {
          "color": "black",
          "opacity": 0,
          "size": 20
         },
         "mode": "markers",
         "text": [
          "Amount: 1200.0"
         ],
         "type": "scatter",
         "x": [
          0.875
         ],
         "y": [
          0
         ]
        },
        {
         "hovertemplate": "%{text}",
         "marker": {
          "color": "#1f77b4",
          "size": 25
         },
         "mode": "markers",
         "text": [
          "Id: 0<br>Process: Sourcing<br>Location: AUSTRIA<br>Amount: 795.0<br>Week: 1"
         ],
         "type": "scatter",
         "x": [
          0
         ],
         "y": [
          0
         ]
        },
        {
         "hovertemplate": "%{text}",
         "marker": {
          "color": "#1f77b4",
          "size": 25
         },
         "mode": "markers",
         "text": [
          "Id: 1<br>Process: Sourcing<br>Location: SLOVENIA<br>Amount: 405.0<br>Week: 1"
         ],
         "type": "scatter",
         "x": [
          0
         ],
         "y": [
          0.5
         ]
        },
        {
         "hovertemplate": "%{text}",
         "marker": {
          "color": "#ff7f0e",
          "size": 25
         },
         "mode": "markers",
         "text": [
          "Id: 2<br>Process: Conditioning<br>Location: AUSTRIA<br>Amount: 795.0<br>Week: 1"
         ],
         "type": "scatter",
         "x": [
          0.25
         ],
         "y": [
          0
         ]
        },
        {
         "hovertemplate": "%{text}",
         "marker": {
          "color": "#ff7f0e",
          "size": 25
         },
         "mode": "markers",
         "text": [
          "Id: 3<br>Process: Conditioning<br>Location: AUSTRIA<br>Amount: 405.0<br>Week: 1"
         ],
         "type": "scatter",
         "x": [
          0.25
         ],
         "y": [
          0.5
         ]
        },
        {
         "hovertemplate": "%{text}",
         "marker": {
          "color": "#2ca02c",
          "size": 25
         },
         "mode": "markers",
         "text": [
          "Id: 4<br>Process: Treatment<br>Location: SLOVENIA<br>Amount: 1200.0<br>Week: 19"
         ],
         "type": "scatter",
         "x": [
          0.5
         ],
         "y": [
          0
         ]
        },
        {
         "hovertemplate": "%{text}",
         "marker": {
          "color": "#d62728",
          "size": 25
         },
         "mode": "markers",
         "text": [
          "Id: 5<br>Process: Forwarding<br>Location: SLOVENIA<br>Amount: 1200.0<br>Week: 23"
         ],
         "type": "scatter",
         "x": [
          0.75
         ],
         "y": [
          0
         ]
        },
        {
         "hovertemplate": "%{text}",
         "marker": {
          "color": "#9467bd",
          "size": 25
         },
         "mode": "markers",
         "text": [
          "Id: 6<br>Process: Delivery<br>Location: HUNGARY<br>Amount: 1200.0<br>Week: 23"
         ],
         "type": "scatter",
         "x": [
          1
         ],
         "y": [
          0
         ]
        }
       ],
       "layout": {
        "hovermode": "closest",
        "margin": {
         "b": 20,
         "l": 20,
         "r": 20,
         "t": 20
        },
        "plot_bgcolor": "white",
        "showlegend": false,
        "template": {
         "data": {
          "bar": [
           {
            "error_x": {
             "color": "#2a3f5f"
            },
            "error_y": {
             "color": "#2a3f5f"
            },
            "marker": {
             "line": {
              "color": "#E5ECF6",
              "width": 0.5
             },
             "pattern": {
              "fillmode": "overlay",
              "size": 10,
              "solidity": 0.2
             }
            },
            "type": "bar"
           }
          ],
          "barpolar": [
           {
            "marker": {
             "line": {
              "color": "#E5ECF6",
              "width": 0.5
             },
             "pattern": {
              "fillmode": "overlay",
              "size": 10,
              "solidity": 0.2
             }
            },
            "type": "barpolar"
           }
          ],
          "carpet": [
           {
            "aaxis": {
             "endlinecolor": "#2a3f5f",
             "gridcolor": "white",
             "linecolor": "white",
             "minorgridcolor": "white",
             "startlinecolor": "#2a3f5f"
            },
            "baxis": {
             "endlinecolor": "#2a3f5f",
             "gridcolor": "white",
             "linecolor": "white",
             "minorgridcolor": "white",
             "startlinecolor": "#2a3f5f"
            },
            "type": "carpet"
           }
          ],
          "choropleth": [
           {
            "colorbar": {
             "outlinewidth": 0,
             "ticks": ""
            },
            "type": "choropleth"
           }
          ],
          "contour": [
           {
            "colorbar": {
             "outlinewidth": 0,
             "ticks": ""
            },
            "colorscale": [
             [
              0,
              "#0d0887"
             ],
             [
              0.1111111111111111,
              "#46039f"
             ],
             [
              0.2222222222222222,
              "#7201a8"
             ],
             [
              0.3333333333333333,
              "#9c179e"
             ],
             [
              0.4444444444444444,
              "#bd3786"
             ],
             [
              0.5555555555555556,
              "#d8576b"
             ],
             [
              0.6666666666666666,
              "#ed7953"
             ],
             [
              0.7777777777777778,
              "#fb9f3a"
             ],
             [
              0.8888888888888888,
              "#fdca26"
             ],
             [
              1,
              "#f0f921"
             ]
            ],
            "type": "contour"
           }
          ],
          "contourcarpet": [
           {
            "colorbar": {
             "outlinewidth": 0,
             "ticks": ""
            },
            "type": "contourcarpet"
           }
          ],
          "heatmap": [
           {
            "colorbar": {
             "outlinewidth": 0,
             "ticks": ""
            },
            "colorscale": [
             [
              0,
              "#0d0887"
             ],
             [
              0.1111111111111111,
              "#46039f"
             ],
             [
              0.2222222222222222,
              "#7201a8"
             ],
             [
              0.3333333333333333,
              "#9c179e"
             ],
             [
              0.4444444444444444,
              "#bd3786"
             ],
             [
              0.5555555555555556,
              "#d8576b"
             ],
             [
              0.6666666666666666,
              "#ed7953"
             ],
             [
              0.7777777777777778,
              "#fb9f3a"
             ],
             [
              0.8888888888888888,
              "#fdca26"
             ],
             [
              1,
              "#f0f921"
             ]
            ],
            "type": "heatmap"
           }
          ],
          "heatmapgl": [
           {
            "colorbar": {
             "outlinewidth": 0,
             "ticks": ""
            },
            "colorscale": [
             [
              0,
              "#0d0887"
             ],
             [
              0.1111111111111111,
              "#46039f"
             ],
             [
              0.2222222222222222,
              "#7201a8"
             ],
             [
              0.3333333333333333,
              "#9c179e"
             ],
             [
              0.4444444444444444,
              "#bd3786"
             ],
             [
              0.5555555555555556,
              "#d8576b"
             ],
             [
              0.6666666666666666,
              "#ed7953"
             ],
             [
              0.7777777777777778,
              "#fb9f3a"
             ],
             [
              0.8888888888888888,
              "#fdca26"
             ],
             [
              1,
              "#f0f921"
             ]
            ],
            "type": "heatmapgl"
           }
          ],
          "histogram": [
           {
            "marker": {
             "pattern": {
              "fillmode": "overlay",
              "size": 10,
              "solidity": 0.2
             }
            },
            "type": "histogram"
           }
          ],
          "histogram2d": [
           {
            "colorbar": {
             "outlinewidth": 0,
             "ticks": ""
            },
            "colorscale": [
             [
              0,
              "#0d0887"
             ],
             [
              0.1111111111111111,
              "#46039f"
             ],
             [
              0.2222222222222222,
              "#7201a8"
             ],
             [
              0.3333333333333333,
              "#9c179e"
             ],
             [
              0.4444444444444444,
              "#bd3786"
             ],
             [
              0.5555555555555556,
              "#d8576b"
             ],
             [
              0.6666666666666666,
              "#ed7953"
             ],
             [
              0.7777777777777778,
              "#fb9f3a"
             ],
             [
              0.8888888888888888,
              "#fdca26"
             ],
             [
              1,
              "#f0f921"
             ]
            ],
            "type": "histogram2d"
           }
          ],
          "histogram2dcontour": [
           {
            "colorbar": {
             "outlinewidth": 0,
             "ticks": ""
            },
            "colorscale": [
             [
              0,
              "#0d0887"
             ],
             [
              0.1111111111111111,
              "#46039f"
             ],
             [
              0.2222222222222222,
              "#7201a8"
             ],
             [
              0.3333333333333333,
              "#9c179e"
             ],
             [
              0.4444444444444444,
              "#bd3786"
             ],
             [
              0.5555555555555556,
              "#d8576b"
             ],
             [
              0.6666666666666666,
              "#ed7953"
             ],
             [
              0.7777777777777778,
              "#fb9f3a"
             ],
             [
              0.8888888888888888,
              "#fdca26"
             ],
             [
              1,
              "#f0f921"
             ]
            ],
            "type": "histogram2dcontour"
           }
          ],
          "mesh3d": [
           {
            "colorbar": {
             "outlinewidth": 0,
             "ticks": ""
            },
            "type": "mesh3d"
           }
          ],
          "parcoords": [
           {
            "line": {
             "colorbar": {
              "outlinewidth": 0,
              "ticks": ""
             }
            },
            "type": "parcoords"
           }
          ],
          "pie": [
           {
            "automargin": true,
            "type": "pie"
           }
          ],
          "scatter": [
           {
            "fillpattern": {
             "fillmode": "overlay",
             "size": 10,
             "solidity": 0.2
            },
            "type": "scatter"
           }
          ],
          "scatter3d": [
           {
            "line": {
             "colorbar": {
              "outlinewidth": 0,
              "ticks": ""
             }
            },
            "marker": {
             "colorbar": {
              "outlinewidth": 0,
              "ticks": ""
             }
            },
            "type": "scatter3d"
           }
          ],
          "scattercarpet": [
           {
            "marker": {
             "colorbar": {
              "outlinewidth": 0,
              "ticks": ""
             }
            },
            "type": "scattercarpet"
           }
          ],
          "scattergeo": [
           {
            "marker": {
             "colorbar": {
              "outlinewidth": 0,
              "ticks": ""
             }
            },
            "type": "scattergeo"
           }
          ],
          "scattergl": [
           {
            "marker": {
             "colorbar": {
              "outlinewidth": 0,
              "ticks": ""
             }
            },
            "type": "scattergl"
           }
          ],
          "scattermapbox": [
           {
            "marker": {
             "colorbar": {
              "outlinewidth": 0,
              "ticks": ""
             }
            },
            "type": "scattermapbox"
           }
          ],
          "scatterpolar": [
           {
            "marker": {
             "colorbar": {
              "outlinewidth": 0,
              "ticks": ""
             }
            },
            "type": "scatterpolar"
           }
          ],
          "scatterpolargl": [
           {
            "marker": {
             "colorbar": {
              "outlinewidth": 0,
              "ticks": ""
             }
            },
            "type": "scatterpolargl"
           }
          ],
          "scatterternary": [
           {
            "marker": {
             "colorbar": {
              "outlinewidth": 0,
              "ticks": ""
             }
            },
            "type": "scatterternary"
           }
          ],
          "surface": [
           {
            "colorbar": {
             "outlinewidth": 0,
             "ticks": ""
            },
            "colorscale": [
             [
              0,
              "#0d0887"
             ],
             [
              0.1111111111111111,
              "#46039f"
             ],
             [
              0.2222222222222222,
              "#7201a8"
             ],
             [
              0.3333333333333333,
              "#9c179e"
             ],
             [
              0.4444444444444444,
              "#bd3786"
             ],
             [
              0.5555555555555556,
              "#d8576b"
             ],
             [
              0.6666666666666666,
              "#ed7953"
             ],
             [
              0.7777777777777778,
              "#fb9f3a"
             ],
             [
              0.8888888888888888,
              "#fdca26"
             ],
             [
              1,
              "#f0f921"
             ]
            ],
            "type": "surface"
           }
          ],
          "table": [
           {
            "cells": {
             "fill": {
              "color": "#EBF0F8"
             },
             "line": {
              "color": "white"
             }
            },
            "header": {
             "fill": {
              "color": "#C8D4E3"
             },
             "line": {
              "color": "white"
             }
            },
            "type": "table"
           }
          ]
         },
         "layout": {
          "annotationdefaults": {
           "arrowcolor": "#2a3f5f",
           "arrowhead": 0,
           "arrowwidth": 1
          },
          "autotypenumbers": "strict",
          "coloraxis": {
           "colorbar": {
            "outlinewidth": 0,
            "ticks": ""
           }
          },
          "colorscale": {
           "diverging": [
            [
             0,
             "#8e0152"
            ],
            [
             0.1,
             "#c51b7d"
            ],
            [
             0.2,
             "#de77ae"
            ],
            [
             0.3,
             "#f1b6da"
            ],
            [
             0.4,
             "#fde0ef"
            ],
            [
             0.5,
             "#f7f7f7"
            ],
            [
             0.6,
             "#e6f5d0"
            ],
            [
             0.7,
             "#b8e186"
            ],
            [
             0.8,
             "#7fbc41"
            ],
            [
             0.9,
             "#4d9221"
            ],
            [
             1,
             "#276419"
            ]
           ],
           "sequential": [
            [
             0,
             "#0d0887"
            ],
            [
             0.1111111111111111,
             "#46039f"
            ],
            [
             0.2222222222222222,
             "#7201a8"
            ],
            [
             0.3333333333333333,
             "#9c179e"
            ],
            [
             0.4444444444444444,
             "#bd3786"
            ],
            [
             0.5555555555555556,
             "#d8576b"
            ],
            [
             0.6666666666666666,
             "#ed7953"
            ],
            [
             0.7777777777777778,
             "#fb9f3a"
            ],
            [
             0.8888888888888888,
             "#fdca26"
            ],
            [
             1,
             "#f0f921"
            ]
           ],
           "sequentialminus": [
            [
             0,
             "#0d0887"
            ],
            [
             0.1111111111111111,
             "#46039f"
            ],
            [
             0.2222222222222222,
             "#7201a8"
            ],
            [
             0.3333333333333333,
             "#9c179e"
            ],
            [
             0.4444444444444444,
             "#bd3786"
            ],
            [
             0.5555555555555556,
             "#d8576b"
            ],
            [
             0.6666666666666666,
             "#ed7953"
            ],
            [
             0.7777777777777778,
             "#fb9f3a"
            ],
            [
             0.8888888888888888,
             "#fdca26"
            ],
            [
             1,
             "#f0f921"
            ]
           ]
          },
          "colorway": [
           "#636efa",
           "#EF553B",
           "#00cc96",
           "#ab63fa",
           "#FFA15A",
           "#19d3f3",
           "#FF6692",
           "#B6E880",
           "#FF97FF",
           "#FECB52"
          ],
          "font": {
           "color": "#2a3f5f"
          },
          "geo": {
           "bgcolor": "white",
           "lakecolor": "white",
           "landcolor": "#E5ECF6",
           "showlakes": true,
           "showland": true,
           "subunitcolor": "white"
          },
          "hoverlabel": {
           "align": "left"
          },
          "hovermode": "closest",
          "mapbox": {
           "style": "light"
          },
          "paper_bgcolor": "white",
          "plot_bgcolor": "#E5ECF6",
          "polar": {
           "angularaxis": {
            "gridcolor": "white",
            "linecolor": "white",
            "ticks": ""
           },
           "bgcolor": "#E5ECF6",
           "radialaxis": {
            "gridcolor": "white",
            "linecolor": "white",
            "ticks": ""
           }
          },
          "scene": {
           "xaxis": {
            "backgroundcolor": "#E5ECF6",
            "gridcolor": "white",
            "gridwidth": 2,
            "linecolor": "white",
            "showbackground": true,
            "ticks": "",
            "zerolinecolor": "white"
           },
           "yaxis": {
            "backgroundcolor": "#E5ECF6",
            "gridcolor": "white",
            "gridwidth": 2,
            "linecolor": "white",
            "showbackground": true,
            "ticks": "",
            "zerolinecolor": "white"
           },
           "zaxis": {
            "backgroundcolor": "#E5ECF6",
            "gridcolor": "white",
            "gridwidth": 2,
            "linecolor": "white",
            "showbackground": true,
            "ticks": "",
            "zerolinecolor": "white"
           }
          },
          "shapedefaults": {
           "line": {
            "color": "#2a3f5f"
           }
          },
          "ternary": {
           "aaxis": {
            "gridcolor": "white",
            "linecolor": "white",
            "ticks": ""
           },
           "baxis": {
            "gridcolor": "white",
            "linecolor": "white",
            "ticks": ""
           },
           "bgcolor": "#E5ECF6",
           "caxis": {
            "gridcolor": "white",
            "linecolor": "white",
            "ticks": ""
           }
          },
          "title": {
           "x": 0.05
          },
          "xaxis": {
           "automargin": true,
           "gridcolor": "white",
           "linecolor": "white",
           "ticks": "",
           "title": {
            "standoff": 15
           },
           "zerolinecolor": "white",
           "zerolinewidth": 2
          },
          "yaxis": {
           "automargin": true,
           "gridcolor": "white",
           "linecolor": "white",
           "ticks": "",
           "title": {
            "standoff": 15
           },
           "zerolinecolor": "white",
           "zerolinewidth": 2
          }
         }
        },
        "width": 900,
        "xaxis": {
         "tickmode": "array",
         "ticktext": [
          "Sourcing",
          "Conditioning",
          "Treatment",
          "Forwarding",
          "Delivery"
         ],
         "tickvals": [
          0,
          0.25,
          0.5,
          0.75,
          1
         ]
        },
        "yaxis": {
         "visible": false
        }
       }
      },
      "text/html": [
       "<div>                            <div id=\"f847c7ff-4e28-4b54-9fcb-e4fa599e3990\" class=\"plotly-graph-div\" style=\"height:525px; width:900px;\"></div>            <script type=\"text/javascript\">                require([\"plotly\"], function(Plotly) {                    window.PLOTLYENV=window.PLOTLYENV || {};                                    if (document.getElementById(\"f847c7ff-4e28-4b54-9fcb-e4fa599e3990\")) {                    Plotly.newPlot(                        \"f847c7ff-4e28-4b54-9fcb-e4fa599e3990\",                        [{\"line\":{\"color\":\"black\",\"width\":2.9622641509433962},\"mode\":\"lines\",\"x\":[0,0.25,null],\"y\":[0.0,0.0,null],\"type\":\"scatter\"},{\"hovertemplate\":\"%{text}\",\"marker\":{\"color\":\"black\",\"opacity\":0,\"size\":20},\"mode\":\"markers\",\"text\":[\"Amount: 795.0\"],\"x\":[0.125],\"y\":[0.0],\"type\":\"scatter\"},{\"line\":{\"color\":\"black\",\"width\":1.0},\"mode\":\"lines\",\"x\":[0,0.25,null],\"y\":[0.5,0.5,null],\"type\":\"scatter\"},{\"hovertemplate\":\"%{text}\",\"marker\":{\"color\":\"black\",\"opacity\":0,\"size\":20},\"mode\":\"markers\",\"text\":[\"Amount: 405.0\"],\"x\":[0.125],\"y\":[0.5],\"type\":\"scatter\"},{\"line\":{\"color\":\"black\",\"width\":2.9622641509433962},\"mode\":\"lines\",\"x\":[0.25,0.5,null],\"y\":[0.0,0.0,null],\"type\":\"scatter\"},{\"hovertemplate\":\"%{text}\",\"marker\":{\"color\":\"black\",\"opacity\":0,\"size\":20},\"mode\":\"markers\",\"text\":[\"Amount: 795.0\"],\"x\":[0.375],\"y\":[0.0],\"type\":\"scatter\"},{\"line\":{\"color\":\"black\",\"width\":1.0},\"mode\":\"lines\",\"x\":[0.25,0.5,null],\"y\":[0.5,0.0,null],\"type\":\"scatter\"},{\"hovertemplate\":\"%{text}\",\"marker\":{\"color\":\"black\",\"opacity\":0,\"size\":20},\"mode\":\"markers\",\"text\":[\"Amount: 405.0\"],\"x\":[0.375],\"y\":[0.25],\"type\":\"scatter\"},{\"line\":{\"color\":\"black\",\"width\":5.0},\"mode\":\"lines\",\"x\":[0.5,0.75,null],\"y\":[0.0,0.0,null],\"type\":\"scatter\"},{\"hovertemplate\":\"%{text}\",\"marker\":{\"color\":\"black\",\"opacity\":0,\"size\":20},\"mode\":\"markers\",\"text\":[\"Amount: 1200.0\"],\"x\":[0.625],\"y\":[0.0],\"type\":\"scatter\"},{\"line\":{\"color\":\"black\",\"width\":5.0},\"mode\":\"lines\",\"x\":[0.75,1,null],\"y\":[0.0,0.0,null],\"type\":\"scatter\"},{\"hovertemplate\":\"%{text}\",\"marker\":{\"color\":\"black\",\"opacity\":0,\"size\":20},\"mode\":\"markers\",\"text\":[\"Amount: 1200.0\"],\"x\":[0.875],\"y\":[0.0],\"type\":\"scatter\"},{\"hovertemplate\":\"%{text}\",\"marker\":{\"color\":\"#1f77b4\",\"size\":25},\"mode\":\"markers\",\"text\":[\"Id: 0<br>Process: Sourcing<br>Location: AUSTRIA<br>Amount: 795.0<br>Week: 1\"],\"x\":[0],\"y\":[0.0],\"type\":\"scatter\"},{\"hovertemplate\":\"%{text}\",\"marker\":{\"color\":\"#1f77b4\",\"size\":25},\"mode\":\"markers\",\"text\":[\"Id: 1<br>Process: Sourcing<br>Location: SLOVENIA<br>Amount: 405.0<br>Week: 1\"],\"x\":[0],\"y\":[0.5],\"type\":\"scatter\"},{\"hovertemplate\":\"%{text}\",\"marker\":{\"color\":\"#ff7f0e\",\"size\":25},\"mode\":\"markers\",\"text\":[\"Id: 2<br>Process: Conditioning<br>Location: AUSTRIA<br>Amount: 795.0<br>Week: 1\"],\"x\":[0.25],\"y\":[0.0],\"type\":\"scatter\"},{\"hovertemplate\":\"%{text}\",\"marker\":{\"color\":\"#ff7f0e\",\"size\":25},\"mode\":\"markers\",\"text\":[\"Id: 3<br>Process: Conditioning<br>Location: AUSTRIA<br>Amount: 405.0<br>Week: 1\"],\"x\":[0.25],\"y\":[0.5],\"type\":\"scatter\"},{\"hovertemplate\":\"%{text}\",\"marker\":{\"color\":\"#2ca02c\",\"size\":25},\"mode\":\"markers\",\"text\":[\"Id: 4<br>Process: Treatment<br>Location: SLOVENIA<br>Amount: 1200.0<br>Week: 19\"],\"x\":[0.5],\"y\":[0.0],\"type\":\"scatter\"},{\"hovertemplate\":\"%{text}\",\"marker\":{\"color\":\"#d62728\",\"size\":25},\"mode\":\"markers\",\"text\":[\"Id: 5<br>Process: Forwarding<br>Location: SLOVENIA<br>Amount: 1200.0<br>Week: 23\"],\"x\":[0.75],\"y\":[0.0],\"type\":\"scatter\"},{\"hovertemplate\":\"%{text}\",\"marker\":{\"color\":\"#9467bd\",\"size\":25},\"mode\":\"markers\",\"text\":[\"Id: 6<br>Process: Delivery<br>Location: HUNGARY<br>Amount: 1200.0<br>Week: 23\"],\"x\":[1],\"y\":[0.0],\"type\":\"scatter\"}],                        {\"template\":{\"data\":{\"histogram2dcontour\":[{\"type\":\"histogram2dcontour\",\"colorbar\":{\"outlinewidth\":0,\"ticks\":\"\"},\"colorscale\":[[0.0,\"#0d0887\"],[0.1111111111111111,\"#46039f\"],[0.2222222222222222,\"#7201a8\"],[0.3333333333333333,\"#9c179e\"],[0.4444444444444444,\"#bd3786\"],[0.5555555555555556,\"#d8576b\"],[0.6666666666666666,\"#ed7953\"],[0.7777777777777778,\"#fb9f3a\"],[0.8888888888888888,\"#fdca26\"],[1.0,\"#f0f921\"]]}],\"choropleth\":[{\"type\":\"choropleth\",\"colorbar\":{\"outlinewidth\":0,\"ticks\":\"\"}}],\"histogram2d\":[{\"type\":\"histogram2d\",\"colorbar\":{\"outlinewidth\":0,\"ticks\":\"\"},\"colorscale\":[[0.0,\"#0d0887\"],[0.1111111111111111,\"#46039f\"],[0.2222222222222222,\"#7201a8\"],[0.3333333333333333,\"#9c179e\"],[0.4444444444444444,\"#bd3786\"],[0.5555555555555556,\"#d8576b\"],[0.6666666666666666,\"#ed7953\"],[0.7777777777777778,\"#fb9f3a\"],[0.8888888888888888,\"#fdca26\"],[1.0,\"#f0f921\"]]}],\"heatmap\":[{\"type\":\"heatmap\",\"colorbar\":{\"outlinewidth\":0,\"ticks\":\"\"},\"colorscale\":[[0.0,\"#0d0887\"],[0.1111111111111111,\"#46039f\"],[0.2222222222222222,\"#7201a8\"],[0.3333333333333333,\"#9c179e\"],[0.4444444444444444,\"#bd3786\"],[0.5555555555555556,\"#d8576b\"],[0.6666666666666666,\"#ed7953\"],[0.7777777777777778,\"#fb9f3a\"],[0.8888888888888888,\"#fdca26\"],[1.0,\"#f0f921\"]]}],\"heatmapgl\":[{\"type\":\"heatmapgl\",\"colorbar\":{\"outlinewidth\":0,\"ticks\":\"\"},\"colorscale\":[[0.0,\"#0d0887\"],[0.1111111111111111,\"#46039f\"],[0.2222222222222222,\"#7201a8\"],[0.3333333333333333,\"#9c179e\"],[0.4444444444444444,\"#bd3786\"],[0.5555555555555556,\"#d8576b\"],[0.6666666666666666,\"#ed7953\"],[0.7777777777777778,\"#fb9f3a\"],[0.8888888888888888,\"#fdca26\"],[1.0,\"#f0f921\"]]}],\"contourcarpet\":[{\"type\":\"contourcarpet\",\"colorbar\":{\"outlinewidth\":0,\"ticks\":\"\"}}],\"contour\":[{\"type\":\"contour\",\"colorbar\":{\"outlinewidth\":0,\"ticks\":\"\"},\"colorscale\":[[0.0,\"#0d0887\"],[0.1111111111111111,\"#46039f\"],[0.2222222222222222,\"#7201a8\"],[0.3333333333333333,\"#9c179e\"],[0.4444444444444444,\"#bd3786\"],[0.5555555555555556,\"#d8576b\"],[0.6666666666666666,\"#ed7953\"],[0.7777777777777778,\"#fb9f3a\"],[0.8888888888888888,\"#fdca26\"],[1.0,\"#f0f921\"]]}],\"surface\":[{\"type\":\"surface\",\"colorbar\":{\"outlinewidth\":0,\"ticks\":\"\"},\"colorscale\":[[0.0,\"#0d0887\"],[0.1111111111111111,\"#46039f\"],[0.2222222222222222,\"#7201a8\"],[0.3333333333333333,\"#9c179e\"],[0.4444444444444444,\"#bd3786\"],[0.5555555555555556,\"#d8576b\"],[0.6666666666666666,\"#ed7953\"],[0.7777777777777778,\"#fb9f3a\"],[0.8888888888888888,\"#fdca26\"],[1.0,\"#f0f921\"]]}],\"mesh3d\":[{\"type\":\"mesh3d\",\"colorbar\":{\"outlinewidth\":0,\"ticks\":\"\"}}],\"scatter\":[{\"fillpattern\":{\"fillmode\":\"overlay\",\"size\":10,\"solidity\":0.2},\"type\":\"scatter\"}],\"parcoords\":[{\"type\":\"parcoords\",\"line\":{\"colorbar\":{\"outlinewidth\":0,\"ticks\":\"\"}}}],\"scatterpolargl\":[{\"type\":\"scatterpolargl\",\"marker\":{\"colorbar\":{\"outlinewidth\":0,\"ticks\":\"\"}}}],\"bar\":[{\"error_x\":{\"color\":\"#2a3f5f\"},\"error_y\":{\"color\":\"#2a3f5f\"},\"marker\":{\"line\":{\"color\":\"#E5ECF6\",\"width\":0.5},\"pattern\":{\"fillmode\":\"overlay\",\"size\":10,\"solidity\":0.2}},\"type\":\"bar\"}],\"scattergeo\":[{\"type\":\"scattergeo\",\"marker\":{\"colorbar\":{\"outlinewidth\":0,\"ticks\":\"\"}}}],\"scatterpolar\":[{\"type\":\"scatterpolar\",\"marker\":{\"colorbar\":{\"outlinewidth\":0,\"ticks\":\"\"}}}],\"histogram\":[{\"marker\":{\"pattern\":{\"fillmode\":\"overlay\",\"size\":10,\"solidity\":0.2}},\"type\":\"histogram\"}],\"scattergl\":[{\"type\":\"scattergl\",\"marker\":{\"colorbar\":{\"outlinewidth\":0,\"ticks\":\"\"}}}],\"scatter3d\":[{\"type\":\"scatter3d\",\"line\":{\"colorbar\":{\"outlinewidth\":0,\"ticks\":\"\"}},\"marker\":{\"colorbar\":{\"outlinewidth\":0,\"ticks\":\"\"}}}],\"scattermapbox\":[{\"type\":\"scattermapbox\",\"marker\":{\"colorbar\":{\"outlinewidth\":0,\"ticks\":\"\"}}}],\"scatterternary\":[{\"type\":\"scatterternary\",\"marker\":{\"colorbar\":{\"outlinewidth\":0,\"ticks\":\"\"}}}],\"scattercarpet\":[{\"type\":\"scattercarpet\",\"marker\":{\"colorbar\":{\"outlinewidth\":0,\"ticks\":\"\"}}}],\"carpet\":[{\"aaxis\":{\"endlinecolor\":\"#2a3f5f\",\"gridcolor\":\"white\",\"linecolor\":\"white\",\"minorgridcolor\":\"white\",\"startlinecolor\":\"#2a3f5f\"},\"baxis\":{\"endlinecolor\":\"#2a3f5f\",\"gridcolor\":\"white\",\"linecolor\":\"white\",\"minorgridcolor\":\"white\",\"startlinecolor\":\"#2a3f5f\"},\"type\":\"carpet\"}],\"table\":[{\"cells\":{\"fill\":{\"color\":\"#EBF0F8\"},\"line\":{\"color\":\"white\"}},\"header\":{\"fill\":{\"color\":\"#C8D4E3\"},\"line\":{\"color\":\"white\"}},\"type\":\"table\"}],\"barpolar\":[{\"marker\":{\"line\":{\"color\":\"#E5ECF6\",\"width\":0.5},\"pattern\":{\"fillmode\":\"overlay\",\"size\":10,\"solidity\":0.2}},\"type\":\"barpolar\"}],\"pie\":[{\"automargin\":true,\"type\":\"pie\"}]},\"layout\":{\"autotypenumbers\":\"strict\",\"colorway\":[\"#636efa\",\"#EF553B\",\"#00cc96\",\"#ab63fa\",\"#FFA15A\",\"#19d3f3\",\"#FF6692\",\"#B6E880\",\"#FF97FF\",\"#FECB52\"],\"font\":{\"color\":\"#2a3f5f\"},\"hovermode\":\"closest\",\"hoverlabel\":{\"align\":\"left\"},\"paper_bgcolor\":\"white\",\"plot_bgcolor\":\"#E5ECF6\",\"polar\":{\"bgcolor\":\"#E5ECF6\",\"angularaxis\":{\"gridcolor\":\"white\",\"linecolor\":\"white\",\"ticks\":\"\"},\"radialaxis\":{\"gridcolor\":\"white\",\"linecolor\":\"white\",\"ticks\":\"\"}},\"ternary\":{\"bgcolor\":\"#E5ECF6\",\"aaxis\":{\"gridcolor\":\"white\",\"linecolor\":\"white\",\"ticks\":\"\"},\"baxis\":{\"gridcolor\":\"white\",\"linecolor\":\"white\",\"ticks\":\"\"},\"caxis\":{\"gridcolor\":\"white\",\"linecolor\":\"white\",\"ticks\":\"\"}},\"coloraxis\":{\"colorbar\":{\"outlinewidth\":0,\"ticks\":\"\"}},\"colorscale\":{\"sequential\":[[0.0,\"#0d0887\"],[0.1111111111111111,\"#46039f\"],[0.2222222222222222,\"#7201a8\"],[0.3333333333333333,\"#9c179e\"],[0.4444444444444444,\"#bd3786\"],[0.5555555555555556,\"#d8576b\"],[0.6666666666666666,\"#ed7953\"],[0.7777777777777778,\"#fb9f3a\"],[0.8888888888888888,\"#fdca26\"],[1.0,\"#f0f921\"]],\"sequentialminus\":[[0.0,\"#0d0887\"],[0.1111111111111111,\"#46039f\"],[0.2222222222222222,\"#7201a8\"],[0.3333333333333333,\"#9c179e\"],[0.4444444444444444,\"#bd3786\"],[0.5555555555555556,\"#d8576b\"],[0.6666666666666666,\"#ed7953\"],[0.7777777777777778,\"#fb9f3a\"],[0.8888888888888888,\"#fdca26\"],[1.0,\"#f0f921\"]],\"diverging\":[[0,\"#8e0152\"],[0.1,\"#c51b7d\"],[0.2,\"#de77ae\"],[0.3,\"#f1b6da\"],[0.4,\"#fde0ef\"],[0.5,\"#f7f7f7\"],[0.6,\"#e6f5d0\"],[0.7,\"#b8e186\"],[0.8,\"#7fbc41\"],[0.9,\"#4d9221\"],[1,\"#276419\"]]},\"xaxis\":{\"gridcolor\":\"white\",\"linecolor\":\"white\",\"ticks\":\"\",\"title\":{\"standoff\":15},\"zerolinecolor\":\"white\",\"automargin\":true,\"zerolinewidth\":2},\"yaxis\":{\"gridcolor\":\"white\",\"linecolor\":\"white\",\"ticks\":\"\",\"title\":{\"standoff\":15},\"zerolinecolor\":\"white\",\"automargin\":true,\"zerolinewidth\":2},\"scene\":{\"xaxis\":{\"backgroundcolor\":\"#E5ECF6\",\"gridcolor\":\"white\",\"linecolor\":\"white\",\"showbackground\":true,\"ticks\":\"\",\"zerolinecolor\":\"white\",\"gridwidth\":2},\"yaxis\":{\"backgroundcolor\":\"#E5ECF6\",\"gridcolor\":\"white\",\"linecolor\":\"white\",\"showbackground\":true,\"ticks\":\"\",\"zerolinecolor\":\"white\",\"gridwidth\":2},\"zaxis\":{\"backgroundcolor\":\"#E5ECF6\",\"gridcolor\":\"white\",\"linecolor\":\"white\",\"showbackground\":true,\"ticks\":\"\",\"zerolinecolor\":\"white\",\"gridwidth\":2}},\"shapedefaults\":{\"line\":{\"color\":\"#2a3f5f\"}},\"annotationdefaults\":{\"arrowcolor\":\"#2a3f5f\",\"arrowhead\":0,\"arrowwidth\":1},\"geo\":{\"bgcolor\":\"white\",\"landcolor\":\"#E5ECF6\",\"subunitcolor\":\"white\",\"showland\":true,\"showlakes\":true,\"lakecolor\":\"white\"},\"title\":{\"x\":0.05},\"mapbox\":{\"style\":\"light\"}}},\"hovermode\":\"closest\",\"showlegend\":false,\"plot_bgcolor\":\"white\",\"margin\":{\"l\":20,\"r\":20,\"t\":20,\"b\":20},\"xaxis\":{\"tickmode\":\"array\",\"tickvals\":[0,0.25,0.5,0.75,1],\"ticktext\":[\"Sourcing\",\"Conditioning\",\"Treatment\",\"Forwarding\",\"Delivery\"]},\"yaxis\":{\"visible\":false},\"width\":900},                        {\"responsive\": true}                    ).then(function(){\n",
       "                            \n",
       "var gd = document.getElementById('f847c7ff-4e28-4b54-9fcb-e4fa599e3990');\n",
       "var x = new MutationObserver(function (mutations, observer) {{\n",
       "        var display = window.getComputedStyle(gd).display;\n",
       "        if (!display || display === 'none') {{\n",
       "            console.log([gd, 'removed!']);\n",
       "            Plotly.purge(gd);\n",
       "            observer.disconnect();\n",
       "        }}\n",
       "}});\n",
       "\n",
       "// Listen for the removal of the full notebook cells\n",
       "var notebookContainer = gd.closest('#notebook-container');\n",
       "if (notebookContainer) {{\n",
       "    x.observe(notebookContainer, {childList: true});\n",
       "}}\n",
       "\n",
       "// Listen for the clearing of the current output cell\n",
       "var outputEl = gd.closest('.output');\n",
       "if (outputEl) {{\n",
       "    x.observe(outputEl, {childList: true});\n",
       "}}\n",
       "\n",
       "                        })                };                });            </script>        </div>"
      ]
     },
     "metadata": {},
     "output_type": "display_data"
    }
   ],
   "source": [
    "\n",
    "input4_solution.ivisualize()"
   ]
  },
  {
   "attachments": {},
   "cell_type": "markdown",
   "metadata": {},
   "source": [
    "### Input 5"
   ]
  },
  {
   "cell_type": "code",
   "execution_count": 68,
   "metadata": {},
   "outputs": [
    {
     "data": {
      "text/html": [
       "<div>\n",
       "<style scoped>\n",
       "    .dataframe tbody tr th:only-of-type {\n",
       "        vertical-align: middle;\n",
       "    }\n",
       "\n",
       "    .dataframe tbody tr th {\n",
       "        vertical-align: top;\n",
       "    }\n",
       "\n",
       "    .dataframe thead th {\n",
       "        text-align: right;\n",
       "    }\n",
       "</style>\n",
       "<table border=\"1\" class=\"dataframe\">\n",
       "  <thead>\n",
       "    <tr style=\"text-align: right;\">\n",
       "      <th></th>\n",
       "      <th>product</th>\n",
       "      <th>treatment</th>\n",
       "      <th>send_from_cnt</th>\n",
       "      <th>to_processing_cnt</th>\n",
       "      <th>for_process</th>\n",
       "      <th>Week</th>\n",
       "      <th>Amount</th>\n",
       "      <th>Unnamed: 7</th>\n",
       "      <th>Unnamed: 8</th>\n",
       "    </tr>\n",
       "  </thead>\n",
       "  <tbody>\n",
       "    <tr>\n",
       "      <th>0</th>\n",
       "      <td>P11</td>\n",
       "      <td>I800</td>\n",
       "      <td>FRANCE</td>\n",
       "      <td>FRANCE</td>\n",
       "      <td>Conditioning</td>\n",
       "      <td>1</td>\n",
       "      <td>1064.81</td>\n",
       "      <td>NaN</td>\n",
       "      <td>NaN</td>\n",
       "    </tr>\n",
       "    <tr>\n",
       "      <th>1</th>\n",
       "      <td>P11</td>\n",
       "      <td>I800</td>\n",
       "      <td>ITALY</td>\n",
       "      <td>ITALY</td>\n",
       "      <td>Conditioning</td>\n",
       "      <td>1</td>\n",
       "      <td>1462.82</td>\n",
       "      <td>NaN</td>\n",
       "      <td>NaN</td>\n",
       "    </tr>\n",
       "    <tr>\n",
       "      <th>2</th>\n",
       "      <td>P11</td>\n",
       "      <td>I800</td>\n",
       "      <td>AUSTRIA</td>\n",
       "      <td>AUSTRIA</td>\n",
       "      <td>Conditioning</td>\n",
       "      <td>1</td>\n",
       "      <td>124.30</td>\n",
       "      <td>NaN</td>\n",
       "      <td>NaN</td>\n",
       "    </tr>\n",
       "    <tr>\n",
       "      <th>3</th>\n",
       "      <td>P11</td>\n",
       "      <td>I800</td>\n",
       "      <td>ROMANIA</td>\n",
       "      <td>AUSTRIA</td>\n",
       "      <td>Conditioning</td>\n",
       "      <td>1</td>\n",
       "      <td>6675.88</td>\n",
       "      <td>NaN</td>\n",
       "      <td>NaN</td>\n",
       "    </tr>\n",
       "    <tr>\n",
       "      <th>4</th>\n",
       "      <td>P11</td>\n",
       "      <td>I800</td>\n",
       "      <td>SLOVENIA</td>\n",
       "      <td>AUSTRIA</td>\n",
       "      <td>Conditioning</td>\n",
       "      <td>1</td>\n",
       "      <td>47.19</td>\n",
       "      <td>NaN</td>\n",
       "      <td>NaN</td>\n",
       "    </tr>\n",
       "  </tbody>\n",
       "</table>\n",
       "</div>"
      ],
      "text/plain": [
       "  product treatment send_from_cnt to_processing_cnt   for_process  Week   \n",
       "0     P11      I800        FRANCE            FRANCE  Conditioning     1  \\\n",
       "1     P11      I800         ITALY             ITALY  Conditioning     1   \n",
       "2     P11      I800       AUSTRIA           AUSTRIA  Conditioning     1   \n",
       "3     P11      I800       ROMANIA           AUSTRIA  Conditioning     1   \n",
       "4     P11      I800      SLOVENIA           AUSTRIA  Conditioning     1   \n",
       "\n",
       "    Amount  Unnamed: 7  Unnamed: 8  \n",
       "0  1064.81         NaN         NaN  \n",
       "1  1462.82         NaN         NaN  \n",
       "2   124.30         NaN         NaN  \n",
       "3  6675.88         NaN         NaN  \n",
       "4    47.19         NaN         NaN  "
      ]
     },
     "execution_count": 68,
     "metadata": {},
     "output_type": "execute_result"
    }
   ],
   "source": [
    "data[\"Input5\"].head()"
   ]
  },
  {
   "cell_type": "code",
   "execution_count": 69,
   "metadata": {},
   "outputs": [],
   "source": [
    "input5_model = NetworkFlowModel(data[\"Input5\"])\n",
    "input5_solution = input5_model.solve()"
   ]
  },
  {
   "cell_type": "code",
   "execution_count": 70,
   "metadata": {},
   "outputs": [
    {
     "data": {
      "text/html": [
       "<div>\n",
       "<style scoped>\n",
       "    .dataframe tbody tr th:only-of-type {\n",
       "        vertical-align: middle;\n",
       "    }\n",
       "\n",
       "    .dataframe tbody tr th {\n",
       "        vertical-align: top;\n",
       "    }\n",
       "\n",
       "    .dataframe thead th {\n",
       "        text-align: right;\n",
       "    }\n",
       "</style>\n",
       "<table border=\"1\" class=\"dataframe\">\n",
       "  <thead>\n",
       "    <tr style=\"text-align: right;\">\n",
       "      <th></th>\n",
       "      <th>Process1_id</th>\n",
       "      <th>Process1_Cnt</th>\n",
       "      <th>Process1_Amount</th>\n",
       "      <th>Process1_Week</th>\n",
       "      <th>Process2_id</th>\n",
       "      <th>Process2_Cnt</th>\n",
       "      <th>Process2_Amount</th>\n",
       "      <th>Process2_Week</th>\n",
       "      <th>Process3_id</th>\n",
       "      <th>Process3_Cnt</th>\n",
       "      <th>Process3_Amount</th>\n",
       "      <th>Process3_Week</th>\n",
       "      <th>Process4_id</th>\n",
       "      <th>Process4_Cnt</th>\n",
       "      <th>Process4_Amount</th>\n",
       "      <th>Process4_Week</th>\n",
       "      <th>Process5_id</th>\n",
       "      <th>Process5_Cnt</th>\n",
       "      <th>Process5_Amount</th>\n",
       "      <th>Process5_Week</th>\n",
       "    </tr>\n",
       "  </thead>\n",
       "  <tbody>\n",
       "    <tr>\n",
       "      <th>0</th>\n",
       "      <td>16</td>\n",
       "      <td>AUSTRIA</td>\n",
       "      <td>124.30</td>\n",
       "      <td>1</td>\n",
       "      <td>2.0</td>\n",
       "      <td>AUSTRIA</td>\n",
       "      <td>124.30</td>\n",
       "      <td>1.0</td>\n",
       "      <td>19.0</td>\n",
       "      <td>SLOVENIA</td>\n",
       "      <td>124.30</td>\n",
       "      <td>4.0</td>\n",
       "      <td>9.0</td>\n",
       "      <td>ITALY</td>\n",
       "      <td>124.30</td>\n",
       "      <td>8.0</td>\n",
       "      <td>5.0</td>\n",
       "      <td>TURKEY</td>\n",
       "      <td>124.30</td>\n",
       "      <td>13.0</td>\n",
       "    </tr>\n",
       "    <tr>\n",
       "      <th>1</th>\n",
       "      <td>17</td>\n",
       "      <td>ROMANIA</td>\n",
       "      <td>6675.88</td>\n",
       "      <td>1</td>\n",
       "      <td>3.0</td>\n",
       "      <td>AUSTRIA</td>\n",
       "      <td>6675.88</td>\n",
       "      <td>1.0</td>\n",
       "      <td>25.0</td>\n",
       "      <td>SLOVENIA</td>\n",
       "      <td>6723.07</td>\n",
       "      <td>10.0</td>\n",
       "      <td>13.0</td>\n",
       "      <td>ITALY</td>\n",
       "      <td>6723.07</td>\n",
       "      <td>14.0</td>\n",
       "      <td>6.0</td>\n",
       "      <td>TURKEY</td>\n",
       "      <td>6723.07</td>\n",
       "      <td>18.0</td>\n",
       "    </tr>\n",
       "    <tr>\n",
       "      <th>2</th>\n",
       "      <td>18</td>\n",
       "      <td>SLOVENIA</td>\n",
       "      <td>47.19</td>\n",
       "      <td>1</td>\n",
       "      <td>4.0</td>\n",
       "      <td>AUSTRIA</td>\n",
       "      <td>47.19</td>\n",
       "      <td>1.0</td>\n",
       "      <td>NaN</td>\n",
       "      <td>NaN</td>\n",
       "      <td>NaN</td>\n",
       "      <td>NaN</td>\n",
       "      <td>NaN</td>\n",
       "      <td>NaN</td>\n",
       "      <td>NaN</td>\n",
       "      <td>NaN</td>\n",
       "      <td>NaN</td>\n",
       "      <td>NaN</td>\n",
       "      <td>NaN</td>\n",
       "      <td>NaN</td>\n",
       "    </tr>\n",
       "    <tr>\n",
       "      <th>4</th>\n",
       "      <td>15</td>\n",
       "      <td>ITALY</td>\n",
       "      <td>911.48</td>\n",
       "      <td>1</td>\n",
       "      <td>1.0</td>\n",
       "      <td>ITALY</td>\n",
       "      <td>911.48</td>\n",
       "      <td>1.0</td>\n",
       "      <td>20.0</td>\n",
       "      <td>FRANCE</td>\n",
       "      <td>911.48</td>\n",
       "      <td>5.0</td>\n",
       "      <td>10.0</td>\n",
       "      <td>TURKEY</td>\n",
       "      <td>1623.48</td>\n",
       "      <td>11.0</td>\n",
       "      <td>7.0</td>\n",
       "      <td>TURKEY</td>\n",
       "      <td>1854.53</td>\n",
       "      <td>23.0</td>\n",
       "    </tr>\n",
       "    <tr>\n",
       "      <th>3</th>\n",
       "      <td>14</td>\n",
       "      <td>FRANCE</td>\n",
       "      <td>712.00</td>\n",
       "      <td>1</td>\n",
       "      <td>0.0</td>\n",
       "      <td>FRANCE</td>\n",
       "      <td>712.00</td>\n",
       "      <td>1.0</td>\n",
       "      <td>22.0</td>\n",
       "      <td>FRANCE</td>\n",
       "      <td>712.00</td>\n",
       "      <td>7.0</td>\n",
       "      <td>NaN</td>\n",
       "      <td>NaN</td>\n",
       "      <td>NaN</td>\n",
       "      <td>NaN</td>\n",
       "      <td>NaN</td>\n",
       "      <td>NaN</td>\n",
       "      <td>NaN</td>\n",
       "      <td>NaN</td>\n",
       "    </tr>\n",
       "    <tr>\n",
       "      <th>5</th>\n",
       "      <td>15</td>\n",
       "      <td>ITALY</td>\n",
       "      <td>231.05</td>\n",
       "      <td>1</td>\n",
       "      <td>1.0</td>\n",
       "      <td>ITALY</td>\n",
       "      <td>231.05</td>\n",
       "      <td>1.0</td>\n",
       "      <td>21.0</td>\n",
       "      <td>ITALY</td>\n",
       "      <td>231.05</td>\n",
       "      <td>6.0</td>\n",
       "      <td>11.0</td>\n",
       "      <td>TURKEY</td>\n",
       "      <td>231.05</td>\n",
       "      <td>12.0</td>\n",
       "      <td>NaN</td>\n",
       "      <td>NaN</td>\n",
       "      <td>NaN</td>\n",
       "      <td>NaN</td>\n",
       "    </tr>\n",
       "    <tr>\n",
       "      <th>7</th>\n",
       "      <td>15</td>\n",
       "      <td>ITALY</td>\n",
       "      <td>320.29</td>\n",
       "      <td>1</td>\n",
       "      <td>1.0</td>\n",
       "      <td>ITALY</td>\n",
       "      <td>320.29</td>\n",
       "      <td>1.0</td>\n",
       "      <td>23.0</td>\n",
       "      <td>FRANCE</td>\n",
       "      <td>320.29</td>\n",
       "      <td>9.0</td>\n",
       "      <td>12.0</td>\n",
       "      <td>TURKEY</td>\n",
       "      <td>673.10</td>\n",
       "      <td>14.0</td>\n",
       "      <td>8.0</td>\n",
       "      <td>TURKEY</td>\n",
       "      <td>673.10</td>\n",
       "      <td>24.0</td>\n",
       "    </tr>\n",
       "    <tr>\n",
       "      <th>6</th>\n",
       "      <td>14</td>\n",
       "      <td>FRANCE</td>\n",
       "      <td>352.81</td>\n",
       "      <td>1</td>\n",
       "      <td>0.0</td>\n",
       "      <td>FRANCE</td>\n",
       "      <td>352.81</td>\n",
       "      <td>1.0</td>\n",
       "      <td>24.0</td>\n",
       "      <td>FRANCE</td>\n",
       "      <td>352.81</td>\n",
       "      <td>10.0</td>\n",
       "      <td>NaN</td>\n",
       "      <td>NaN</td>\n",
       "      <td>NaN</td>\n",
       "      <td>NaN</td>\n",
       "      <td>NaN</td>\n",
       "      <td>NaN</td>\n",
       "      <td>NaN</td>\n",
       "      <td>NaN</td>\n",
       "    </tr>\n",
       "  </tbody>\n",
       "</table>\n",
       "</div>"
      ],
      "text/plain": [
       "   Process1_id Process1_Cnt  Process1_Amount  Process1_Week  Process2_id   \n",
       "0           16      AUSTRIA           124.30              1          2.0  \\\n",
       "1           17      ROMANIA          6675.88              1          3.0   \n",
       "2           18     SLOVENIA            47.19              1          4.0   \n",
       "4           15        ITALY           911.48              1          1.0   \n",
       "3           14       FRANCE           712.00              1          0.0   \n",
       "5           15        ITALY           231.05              1          1.0   \n",
       "7           15        ITALY           320.29              1          1.0   \n",
       "6           14       FRANCE           352.81              1          0.0   \n",
       "\n",
       "  Process2_Cnt  Process2_Amount  Process2_Week  Process3_id Process3_Cnt   \n",
       "0      AUSTRIA           124.30            1.0         19.0     SLOVENIA  \\\n",
       "1      AUSTRIA          6675.88            1.0         25.0     SLOVENIA   \n",
       "2      AUSTRIA            47.19            1.0          NaN          NaN   \n",
       "4        ITALY           911.48            1.0         20.0       FRANCE   \n",
       "3       FRANCE           712.00            1.0         22.0       FRANCE   \n",
       "5        ITALY           231.05            1.0         21.0        ITALY   \n",
       "7        ITALY           320.29            1.0         23.0       FRANCE   \n",
       "6       FRANCE           352.81            1.0         24.0       FRANCE   \n",
       "\n",
       "   Process3_Amount  Process3_Week  Process4_id Process4_Cnt  Process4_Amount   \n",
       "0           124.30            4.0          9.0        ITALY           124.30  \\\n",
       "1          6723.07           10.0         13.0        ITALY          6723.07   \n",
       "2              NaN            NaN          NaN          NaN              NaN   \n",
       "4           911.48            5.0         10.0       TURKEY          1623.48   \n",
       "3           712.00            7.0          NaN          NaN              NaN   \n",
       "5           231.05            6.0         11.0       TURKEY           231.05   \n",
       "7           320.29            9.0         12.0       TURKEY           673.10   \n",
       "6           352.81           10.0          NaN          NaN              NaN   \n",
       "\n",
       "   Process4_Week  Process5_id Process5_Cnt  Process5_Amount  Process5_Week  \n",
       "0            8.0          5.0       TURKEY           124.30           13.0  \n",
       "1           14.0          6.0       TURKEY          6723.07           18.0  \n",
       "2            NaN          NaN          NaN              NaN            NaN  \n",
       "4           11.0          7.0       TURKEY          1854.53           23.0  \n",
       "3            NaN          NaN          NaN              NaN            NaN  \n",
       "5           12.0          NaN          NaN              NaN            NaN  \n",
       "7           14.0          8.0       TURKEY           673.10           24.0  \n",
       "6            NaN          NaN          NaN              NaN            NaN  "
      ]
     },
     "execution_count": 70,
     "metadata": {},
     "output_type": "execute_result"
    }
   ],
   "source": [
    "input5_solution.demands"
   ]
  },
  {
   "cell_type": "code",
   "execution_count": 71,
   "metadata": {},
   "outputs": [
    {
     "data": {
      "image/png": "[encoded data removed]",
      "text/plain": [
       "<Figure size 1000x1000 with 1 Axes>"
      ]
     },
     "metadata": {},
     "output_type": "display_data"
    }
   ],
   "source": [
    "input5_solution.visualize()"
   ]
  },
  {
   "cell_type": "code",
   "execution_count": 72,
   "metadata": {},
   "outputs": [
    {
     "data": {
      "application/vnd.plotly.v1+json": {
       "config": {
        "plotlyServerURL": "https://plot.ly"
       },
       "data": [
        {
         "line": {
          "color": "black",
          "width": 1.398335500338532
         },
         "mode": "lines",
         "type": "scatter",
         "x": [
          0.25,
          0.5,
          null
         ],
         "y": [
          0,
          0.42857142857142855,
          null
         ]
        },
        {
         "hovertemplate": "%{text}",
         "marker": {
          "color": "black",
          "opacity": 0,
          "size": 20
         },
         "mode": "markers",
         "text": [
          "Amount: 712.0"
         ],
         "type": "scatter",
         "x": [
          0.375
         ],
         "y": [
          0.21428571428571427
         ]
        },
        {
         "line": {
          "color": "black",
          "width": 1.1831189296392386
         },
         "mode": "lines",
         "type": "scatter",
         "x": [
          0.25,
          0.5,
          null
         ],
         "y": [
          0,
          0.7142857142857142,
          null
         ]
        },
        {
         "hovertemplate": "%{text}",
         "marker": {
          "color": "black",
          "opacity": 0,
          "size": 20
         },
         "mode": "markers",
         "text": [
          "Amount: 352.81"
         ],
         "type": "scatter",
         "x": [
          0.375
         ],
         "y": [
          0.3571428571428571
         ]
        },
        {
         "line": {
          "color": "black",
          "width": 1.5178583198020337
         },
         "mode": "lines",
         "type": "scatter",
         "x": [
          0.25,
          0.5,
          null
         ],
         "y": [
          0.2,
          0.14285714285714285,
          null
         ]
        },
        {
         "hovertemplate": "%{text}",
         "marker": {
          "color": "black",
          "opacity": 0,
          "size": 20
         },
         "mode": "markers",
         "text": [
          "Amount: 911.48"
         ],
         "type": "scatter",
         "x": [
          0.375
         ],
         "y": [
          0.17142857142857143
         ]
        },
        {
         "line": {
          "color": "black",
          "width": 1.1101637536923972
         },
         "mode": "lines",
         "type": "scatter",
         "x": [
          0.25,
          0.5,
          null
         ],
         "y": [
          0.2,
          0.2857142857142857,
          null
         ]
        },
        {
         "hovertemplate": "%{text}",
         "marker": {
          "color": "black",
          "opacity": 0,
          "size": 20
         },
         "mode": "markers",
         "text": [
          "Amount: 231.05"
         ],
         "type": "scatter",
         "x": [
          0.375
         ],
         "y": [
          0.24285714285714285
         ]
        },
        {
         "line": {
          "color": "black",
          "width": 1.1636338580082326
         },
         "mode": "lines",
         "type": "scatter",
         "x": [
          0.25,
          0.5,
          null
         ],
         "y": [
          0.2,
          0.5714285714285714,
          null
         ]
        },
        {
         "hovertemplate": "%{text}",
         "marker": {
          "color": "black",
          "opacity": 0,
          "size": 20
         },
         "mode": "markers",
         "text": [
          "Amount: 320.29"
         ],
         "type": "scatter",
         "x": [
          0.375
         ],
         "y": [
          0.3857142857142857
         ]
        },
        {
         "line": {
          "color": "black",
          "width": 1.0462021486305926
         },
         "mode": "lines",
         "type": "scatter",
         "x": [
          0.25,
          0.5,
          null
         ],
         "y": [
          0.4,
          0,
          null
         ]
        },
        {
         "hovertemplate": "%{text}",
         "marker": {
          "color": "black",
          "opacity": 0,
          "size": 20
         },
         "mode": "markers",
         "text": [
          "Amount: 124.3"
         ],
         "type": "scatter",
         "x": [
          0.375
         ],
         "y": [
          0.2
         ]
        },
        {
         "line": {
          "color": "black",
          "width": 4.971725075945044
         },
         "mode": "lines",
         "type": "scatter",
         "x": [
          0.25,
          0.5,
          null
         ],
         "y": [
          0.6000000000000001,
          0.8571428571428571,
          null
         ]
        },
        {
         "hovertemplate": "%{text}",
         "marker": {
          "color": "black",
          "opacity": 0,
          "size": 20
         },
         "mode": "markers",
         "text": [
          "Amount: 6675.88"
         ],
         "type": "scatter",
         "x": [
          0.375
         ],
         "y": [
          0.7285714285714286
         ]
        },
        {
         "line": {
          "color": "black",
          "width": 1
         },
         "mode": "lines",
         "type": "scatter",
         "x": [
          0.25,
          0.5,
          null
         ],
         "y": [
          0.8,
          0.8571428571428571,
          null
         ]
        },
        {
         "hovertemplate": "%{text}",
         "marker": {
          "color": "black",
          "opacity": 0,
          "size": 20
         },
         "mode": "markers",
         "text": [
          "Amount: 47.19"
         ],
         "type": "scatter",
         "x": [
          0.375
         ],
         "y": [
          0.8285714285714285
         ]
        },
        {
         "line": {
          "color": "black",
          "width": 1.0462021486305926
         },
         "mode": "lines",
         "type": "scatter",
         "x": [
          0.75,
          1,
          null
         ],
         "y": [
          0,
          0,
          null
         ]
        },
        {
         "hovertemplate": "%{text}",
         "marker": {
          "color": "black",
          "opacity": 0,
          "size": 20
         },
         "mode": "markers",
         "text": [
          "Amount: 124.3"
         ],
         "type": "scatter",
         "x": [
          0.875
         ],
         "y": [
          0
         ]
        },
        {
         "line": {
          "color": "black",
          "width": 1.9444687441955217
         },
         "mode": "lines",
         "type": "scatter",
         "x": [
          0.75,
          1,
          null
         ],
         "y": [
          0.2,
          0.5,
          null
         ]
        },
        {
         "hovertemplate": "%{text}",
         "marker": {
          "color": "black",
          "opacity": 0,
          "size": 20
         },
         "mode": "markers",
         "text": [
          "Amount: 1623.48"
         ],
         "type": "scatter",
         "x": [
          0.875
         ],
         "y": [
          0.35
         ]
        },
        {
         "line": {
          "color": "black",
          "width": 1.1101637536923972
         },
         "mode": "lines",
         "type": "scatter",
         "x": [
          0.75,
          1,
          null
         ],
         "y": [
          0.4,
          0.5,
          null
         ]
        },
        {
         "hovertemplate": "%{text}",
         "marker": {
          "color": "black",
          "opacity": 0,
          "size": 20
         },
         "mode": "markers",
         "text": [
          "Amount: 231.05"
         ],
         "type": "scatter",
         "x": [
          0.875
         ],
         "y": [
          0.45
         ]
        },
        {
         "line": {
          "color": "black",
          "width": 1.3750277117024272
         },
         "mode": "lines",
         "type": "scatter",
         "x": [
          0.75,
          1,
          null
         ],
         "y": [
          0.6000000000000001,
          0.75,
          null
         ]
        },
        {
         "hovertemplate": "%{text}",
         "marker": {
          "color": "black",
          "opacity": 0,
          "size": 20
         },
         "mode": "markers",
         "text": [
          "Amount: 673.1"
         ],
         "type": "scatter",
         "x": [
          0.875
         ],
         "y": [
          0.675
         ]
        },
        {
         "line": {
          "color": "black",
          "width": 5
         },
         "mode": "lines",
         "type": "scatter",
         "x": [
          0.75,
          1,
          null
         ],
         "y": [
          0.8,
          0.25,
          null
         ]
        },
        {
         "hovertemplate": "%{text}",
         "marker": {
          "color": "black",
          "opacity": 0,
          "size": 20
         },
         "mode": "markers",
         "text": [
          "Amount: 6723.07"
         ],
         "type": "scatter",
         "x": [
          0.875
         ],
         "y": [
          0.525
         ]
        },
        {
         "line": {
          "color": "black",
          "width": 1.6097293540327267
         },
         "mode": "lines",
         "type": "scatter",
         "x": [
          0,
          0.25,
          null
         ],
         "y": [
          0,
          0,
          null
         ]
        },
        {
         "hovertemplate": "%{text}",
         "marker": {
          "color": "black",
          "opacity": 0,
          "size": 20
         },
         "mode": "markers",
         "text": [
          "Amount: 1064.81"
         ],
         "type": "scatter",
         "x": [
          0.125
         ],
         "y": [
          0
         ]
        },
        {
         "line": {
          "color": "black",
          "width": 1.8482057796125755
         },
         "mode": "lines",
         "type": "scatter",
         "x": [
          0,
          0.25,
          null
         ],
         "y": [
          0.2,
          0.2,
          null
         ]
        },
        {
         "hovertemplate": "%{text}",
         "marker": {
          "color": "black",
          "opacity": 0,
          "size": 20
         },
         "mode": "markers",
         "text": [
          "Amount: 1462.82"
         ],
         "type": "scatter",
         "x": [
          0.125
         ],
         "y": [
          0.2
         ]
        },
        {
         "line": {
          "color": "black",
          "width": 1.0462021486305926
         },
         "mode": "lines",
         "type": "scatter",
         "x": [
          0,
          0.25,
          null
         ],
         "y": [
          0.4,
          0.4,
          null
         ]
        },
        {
         "hovertemplate": "%{text}",
         "marker": {
          "color": "black",
          "opacity": 0,
          "size": 20
         },
         "mode": "markers",
         "text": [
          "Amount: 124.3"
         ],
         "type": "scatter",
         "x": [
          0.125
         ],
         "y": [
          0.4
         ]
        },
        {
         "line": {
          "color": "black",
          "width": 4.971725075945044
         },
         "mode": "lines",
         "type": "scatter",
         "x": [
          0,
          0.25,
          null
         ],
         "y": [
          0.6000000000000001,
          0.6000000000000001,
          null
         ]
        },
        {
         "hovertemplate": "%{text}",
         "marker": {
          "color": "black",
          "opacity": 0,
          "size": 20
         },
         "mode": "markers",
         "text": [
          "Amount: 6675.88"
         ],
         "type": "scatter",
         "x": [
          0.125
         ],
         "y": [
          0.6000000000000001
         ]
        },
        {
         "line": {
          "color": "black",
          "width": 1
         },
         "mode": "lines",
         "type": "scatter",
         "x": [
          0,
          0.25,
          null
         ],
         "y": [
          0.8,
          0.8,
          null
         ]
        },
        {
         "hovertemplate": "%{text}",
         "marker": {
          "color": "black",
          "opacity": 0,
          "size": 20
         },
         "mode": "markers",
         "text": [
          "Amount: 47.19"
         ],
         "type": "scatter",
         "x": [
          0.125
         ],
         "y": [
          0.8
         ]
        },
        {
         "line": {
          "color": "black",
          "width": 1.0462021486305926
         },
         "mode": "lines",
         "type": "scatter",
         "x": [
          0.5,
          0.75,
          null
         ],
         "y": [
          0,
          0,
          null
         ]
        },
        {
         "hovertemplate": "%{text}",
         "marker": {
          "color": "black",
          "opacity": 0,
          "size": 20
         },
         "mode": "markers",
         "text": [
          "Amount: 124.3"
         ],
         "type": "scatter",
         "x": [
          0.625
         ],
         "y": [
          0
         ]
        },
        {
         "line": {
          "color": "black",
          "width": 1.5178583198020337
         },
         "mode": "lines",
         "type": "scatter",
         "x": [
          0.5,
          0.75,
          null
         ],
         "y": [
          0.14285714285714285,
          0.2,
          null
         ]
        },
        {
         "hovertemplate": "%{text}",
         "marker": {
          "color": "black",
          "opacity": 0,
          "size": 20
         },
         "mode": "markers",
         "text": [
          "Amount: 911.48"
         ],
         "type": "scatter",
         "x": [
          0.625
         ],
         "y": [
          0.17142857142857143
         ]
        },
        {
         "line": {
          "color": "black",
          "width": 1.1101637536923972
         },
         "mode": "lines",
         "type": "scatter",
         "x": [
          0.5,
          0.75,
          null
         ],
         "y": [
          0.2857142857142857,
          0.4,
          null
         ]
        },
        {
         "hovertemplate": "%{text}",
         "marker": {
          "color": "black",
          "opacity": 0,
          "size": 20
         },
         "mode": "markers",
         "text": [
          "Amount: 231.05"
         ],
         "type": "scatter",
         "x": [
          0.625
         ],
         "y": [
          0.34285714285714286
         ]
        },
        {
         "line": {
          "color": "black",
          "width": 1.398335500338532
         },
         "mode": "lines",
         "type": "scatter",
         "x": [
          0.5,
          0.75,
          null
         ],
         "y": [
          0.42857142857142855,
          0.2,
          null
         ]
        },
        {
         "hovertemplate": "%{text}",
         "marker": {
          "color": "black",
          "opacity": 0,
          "size": 20
         },
         "mode": "markers",
         "text": [
          "Amount: 712.0"
         ],
         "type": "scatter",
         "x": [
          0.625
         ],
         "y": [
          0.3142857142857143
         ]
        },
        {
         "line": {
          "color": "black",
          "width": 1.1636338580082326
         },
         "mode": "lines",
         "type": "scatter",
         "x": [
          0.5,
          0.75,
          null
         ],
         "y": [
          0.5714285714285714,
          0.6000000000000001,
          null
         ]
        },
        {
         "hovertemplate": "%{text}",
         "marker": {
          "color": "black",
          "opacity": 0,
          "size": 20
         },
         "mode": "markers",
         "text": [
          "Amount: 320.29"
         ],
         "type": "scatter",
         "x": [
          0.625
         ],
         "y": [
          0.5857142857142857
         ]
        },
        {
         "line": {
          "color": "black",
          "width": 1.1831189296392386
         },
         "mode": "lines",
         "type": "scatter",
         "x": [
          0.5,
          0.75,
          null
         ],
         "y": [
          0.7142857142857142,
          0.6000000000000001,
          null
         ]
        },
        {
         "hovertemplate": "%{text}",
         "marker": {
          "color": "black",
          "opacity": 0,
          "size": 20
         },
         "mode": "markers",
         "text": [
          "Amount: 352.81"
         ],
         "type": "scatter",
         "x": [
          0.625
         ],
         "y": [
          0.6571428571428571
         ]
        },
        {
         "line": {
          "color": "black",
          "width": 5
         },
         "mode": "lines",
         "type": "scatter",
         "x": [
          0.5,
          0.75,
          null
         ],
         "y": [
          0.8571428571428571,
          0.8,
          null
         ]
        },
        {
         "hovertemplate": "%{text}",
         "marker": {
          "color": "black",
          "opacity": 0,
          "size": 20
         },
         "mode": "markers",
         "text": [
          "Amount: 6723.07"
         ],
         "type": "scatter",
         "x": [
          0.625
         ],
         "y": [
          0.8285714285714285
         ]
        },
        {
         "hovertemplate": "%{text}",
         "marker": {
          "color": "#1f77b4",
          "size": 25
         },
         "mode": "markers",
         "text": [
          "Id: 0<br>Process: Conditioning<br>Location: FRANCE<br>Amount: 1064.81<br>Week: 1"
         ],
         "type": "scatter",
         "x": [
          0.25
         ],
         "y": [
          0
         ]
        },
        {
         "hovertemplate": "%{text}",
         "marker": {
          "color": "#1f77b4",
          "size": 25
         },
         "mode": "markers",
         "text": [
          "Id: 1<br>Process: Conditioning<br>Location: ITALY<br>Amount: 1462.82<br>Week: 1"
         ],
         "type": "scatter",
         "x": [
          0.25
         ],
         "y": [
          0.2
         ]
        },
        {
         "hovertemplate": "%{text}",
         "marker": {
          "color": "#1f77b4",
          "size": 25
         },
         "mode": "markers",
         "text": [
          "Id: 2<br>Process: Conditioning<br>Location: AUSTRIA<br>Amount: 124.3<br>Week: 1"
         ],
         "type": "scatter",
         "x": [
          0.25
         ],
         "y": [
          0.4
         ]
        },
        {
         "hovertemplate": "%{text}",
         "marker": {
          "color": "#1f77b4",
          "size": 25
         },
         "mode": "markers",
         "text": [
          "Id: 3<br>Process: Conditioning<br>Location: AUSTRIA<br>Amount: 6675.88<br>Week: 1"
         ],
         "type": "scatter",
         "x": [
          0.25
         ],
         "y": [
          0.6000000000000001
         ]
        },
        {
         "hovertemplate": "%{text}",
         "marker": {
          "color": "#1f77b4",
          "size": 25
         },
         "mode": "markers",
         "text": [
          "Id: 4<br>Process: Conditioning<br>Location: AUSTRIA<br>Amount: 47.19<br>Week: 1"
         ],
         "type": "scatter",
         "x": [
          0.25
         ],
         "y": [
          0.8
         ]
        },
        {
         "hovertemplate": "%{text}",
         "marker": {
          "color": "#ff7f0e",
          "size": 25
         },
         "mode": "markers",
         "text": [
          "Id: 5<br>Process: Delivery<br>Location: TURKEY<br>Amount: 124.3<br>Week: 13"
         ],
         "type": "scatter",
         "x": [
          1
         ],
         "y": [
          0
         ]
        },
        {
         "hovertemplate": "%{text}",
         "marker": {
          "color": "#ff7f0e",
          "size": 25
         },
         "mode": "markers",
         "text": [
          "Id: 6<br>Process: Delivery<br>Location: TURKEY<br>Amount: 6723.07<br>Week: 18"
         ],
         "type": "scatter",
         "x": [
          1
         ],
         "y": [
          0.25
         ]
        },
        {
         "hovertemplate": "%{text}",
         "marker": {
          "color": "#ff7f0e",
          "size": 25
         },
         "mode": "markers",
         "text": [
          "Id: 7<br>Process: Delivery<br>Location: TURKEY<br>Amount: 1854.53<br>Week: 23"
         ],
         "type": "scatter",
         "x": [
          1
         ],
         "y": [
          0.5
         ]
        },
        {
         "hovertemplate": "%{text}",
         "marker": {
          "color": "#ff7f0e",
          "size": 25
         },
         "mode": "markers",
         "text": [
          "Id: 8<br>Process: Delivery<br>Location: TURKEY<br>Amount: 673.1<br>Week: 24"
         ],
         "type": "scatter",
         "x": [
          1
         ],
         "y": [
          0.75
         ]
        },
        {
         "hovertemplate": "%{text}",
         "marker": {
          "color": "#2ca02c",
          "size": 25
         },
         "mode": "markers",
         "text": [
          "Id: 9<br>Process: Forwarding<br>Location: ITALY<br>Amount: 124.3<br>Week: 8"
         ],
         "type": "scatter",
         "x": [
          0.75
         ],
         "y": [
          0
         ]
        },
        {
         "hovertemplate": "%{text}",
         "marker": {
          "color": "#2ca02c",
          "size": 25
         },
         "mode": "markers",
         "text": [
          "Id: 10<br>Process: Forwarding<br>Location: TURKEY<br>Amount: 1623.48<br>Week: 11"
         ],
         "type": "scatter",
         "x": [
          0.75
         ],
         "y": [
          0.2
         ]
        },
        {
         "hovertemplate": "%{text}",
         "marker": {
          "color": "#2ca02c",
          "size": 25
         },
         "mode": "markers",
         "text": [
          "Id: 11<br>Process: Forwarding<br>Location: TURKEY<br>Amount: 231.05<br>Week: 12"
         ],
         "type": "scatter",
         "x": [
          0.75
         ],
         "y": [
          0.4
         ]
        },
        {
         "hovertemplate": "%{text}",
         "marker": {
          "color": "#2ca02c",
          "size": 25
         },
         "mode": "markers",
         "text": [
          "Id: 12<br>Process: Forwarding<br>Location: TURKEY<br>Amount: 673.1<br>Week: 14"
         ],
         "type": "scatter",
         "x": [
          0.75
         ],
         "y": [
          0.6000000000000001
         ]
        },
        {
         "hovertemplate": "%{text}",
         "marker": {
          "color": "#2ca02c",
          "size": 25
         },
         "mode": "markers",
         "text": [
          "Id: 13<br>Process: Forwarding<br>Location: ITALY<br>Amount: 6723.07<br>Week: 14"
         ],
         "type": "scatter",
         "x": [
          0.75
         ],
         "y": [
          0.8
         ]
        },
        {
         "hovertemplate": "%{text}",
         "marker": {
          "color": "#d62728",
          "size": 25
         },
         "mode": "markers",
         "text": [
          "Id: 14<br>Process: Sourcing<br>Location: FRANCE<br>Amount: 1064.81<br>Week: 1"
         ],
         "type": "scatter",
         "x": [
          0
         ],
         "y": [
          0
         ]
        },
        {
         "hovertemplate": "%{text}",
         "marker": {
          "color": "#d62728",
          "size": 25
         },
         "mode": "markers",
         "text": [
          "Id: 15<br>Process: Sourcing<br>Location: ITALY<br>Amount: 1462.82<br>Week: 1"
         ],
         "type": "scatter",
         "x": [
          0
         ],
         "y": [
          0.2
         ]
        },
        {
         "hovertemplate": "%{text}",
         "marker": {
          "color": "#d62728",
          "size": 25
         },
         "mode": "markers",
         "text": [
          "Id: 16<br>Process: Sourcing<br>Location: AUSTRIA<br>Amount: 124.3<br>Week: 1"
         ],
         "type": "scatter",
         "x": [
          0
         ],
         "y": [
          0.4
         ]
        },
        {
         "hovertemplate": "%{text}",
         "marker": {
          "color": "#d62728",
          "size": 25
         },
         "mode": "markers",
         "text": [
          "Id: 17<br>Process: Sourcing<br>Location: ROMANIA<br>Amount: 6675.88<br>Week: 1"
         ],
         "type": "scatter",
         "x": [
          0
         ],
         "y": [
          0.6000000000000001
         ]
        },
        {
         "hovertemplate": "%{text}",
         "marker": {
          "color": "#d62728",
          "size": 25
         },
         "mode": "markers",
         "text": [
          "Id: 18<br>Process: Sourcing<br>Location: SLOVENIA<br>Amount: 47.19<br>Week: 1"
         ],
         "type": "scatter",
         "x": [
          0
         ],
         "y": [
          0.8
         ]
        },
        {
         "hovertemplate": "%{text}",
         "marker": {
          "color": "#9467bd",
          "size": 25
         },
         "mode": "markers",
         "text": [
          "Id: 19<br>Process: Treatment<br>Location: SLOVENIA<br>Amount: 124.3<br>Week: 4"
         ],
         "type": "scatter",
         "x": [
          0.5
         ],
         "y": [
          0
         ]
        },
        {
         "hovertemplate": "%{text}",
         "marker": {
          "color": "#9467bd",
          "size": 25
         },
         "mode": "markers",
         "text": [
          "Id: 20<br>Process: Treatment<br>Location: FRANCE<br>Amount: 911.48<br>Week: 5"
         ],
         "type": "scatter",
         "x": [
          0.5
         ],
         "y": [
          0.14285714285714285
         ]
        },
        {
         "hovertemplate": "%{text}",
         "marker": {
          "color": "#9467bd",
          "size": 25
         },
         "mode": "markers",
         "text": [
          "Id: 21<br>Process: Treatment<br>Location: ITALY<br>Amount: 231.05<br>Week: 6"
         ],
         "type": "scatter",
         "x": [
          0.5
         ],
         "y": [
          0.2857142857142857
         ]
        },
        {
         "hovertemplate": "%{text}",
         "marker": {
          "color": "#9467bd",
          "size": 25
         },
         "mode": "markers",
         "text": [
          "Id: 22<br>Process: Treatment<br>Location: FRANCE<br>Amount: 712.0<br>Week: 7"
         ],
         "type": "scatter",
         "x": [
          0.5
         ],
         "y": [
          0.42857142857142855
         ]
        },
        {
         "hovertemplate": "%{text}",
         "marker": {
          "color": "#9467bd",
          "size": 25
         },
         "mode": "markers",
         "text": [
          "Id: 23<br>Process: Treatment<br>Location: FRANCE<br>Amount: 320.29<br>Week: 9"
         ],
         "type": "scatter",
         "x": [
          0.5
         ],
         "y": [
          0.5714285714285714
         ]
        },
        {
         "hovertemplate": "%{text}",
         "marker": {
          "color": "#9467bd",
          "size": 25
         },
         "mode": "markers",
         "text": [
          "Id: 24<br>Process: Treatment<br>Location: FRANCE<br>Amount: 352.81<br>Week: 10"
         ],
         "type": "scatter",
         "x": [
          0.5
         ],
         "y": [
          0.7142857142857142
         ]
        },
        {
         "hovertemplate": "%{text}",
         "marker": {
          "color": "#9467bd",
          "size": 25
         },
         "mode": "markers",
         "text": [
          "Id: 25<br>Process: Treatment<br>Location: SLOVENIA<br>Amount: 6723.07<br>Week: 10"
         ],
         "type": "scatter",
         "x": [
          0.5
         ],
         "y": [
          0.8571428571428571
         ]
        }
       ],
       "layout": {
        "hovermode": "closest",
        "margin": {
         "b": 20,
         "l": 20,
         "r": 20,
         "t": 20
        },
        "plot_bgcolor": "white",
        "showlegend": false,
        "template": {
         "data": {
          "bar": [
           {
            "error_x": {
             "color": "#2a3f5f"
            },
            "error_y": {
             "color": "#2a3f5f"
            },
            "marker": {
             "line": {
              "color": "#E5ECF6",
              "width": 0.5
             },
             "pattern": {
              "fillmode": "overlay",
              "size": 10,
              "solidity": 0.2
             }
            },
            "type": "bar"
           }
          ],
          "barpolar": [
           {
            "marker": {
             "line": {
              "color": "#E5ECF6",
              "width": 0.5
             },
             "pattern": {
              "fillmode": "overlay",
              "size": 10,
              "solidity": 0.2
             }
            },
            "type": "barpolar"
           }
          ],
          "carpet": [
           {
            "aaxis": {
             "endlinecolor": "#2a3f5f",
             "gridcolor": "white",
             "linecolor": "white",
             "minorgridcolor": "white",
             "startlinecolor": "#2a3f5f"
            },
            "baxis": {
             "endlinecolor": "#2a3f5f",
             "gridcolor": "white",
             "linecolor": "white",
             "minorgridcolor": "white",
             "startlinecolor": "#2a3f5f"
            },
            "type": "carpet"
           }
          ],
          "choropleth": [
           {
            "colorbar": {
             "outlinewidth": 0,
             "ticks": ""
            },
            "type": "choropleth"
           }
          ],
          "contour": [
           {
            "colorbar": {
             "outlinewidth": 0,
             "ticks": ""
            },
            "colorscale": [
             [
              0,
              "#0d0887"
             ],
             [
              0.1111111111111111,
              "#46039f"
             ],
             [
              0.2222222222222222,
              "#7201a8"
             ],
             [
              0.3333333333333333,
              "#9c179e"
             ],
             [
              0.4444444444444444,
              "#bd3786"
             ],
             [
              0.5555555555555556,
              "#d8576b"
             ],
             [
              0.6666666666666666,
              "#ed7953"
             ],
             [
              0.7777777777777778,
              "#fb9f3a"
             ],
             [
              0.8888888888888888,
              "#fdca26"
             ],
             [
              1,
              "#f0f921"
             ]
            ],
            "type": "contour"
           }
          ],
          "contourcarpet": [
           {
            "colorbar": {
             "outlinewidth": 0,
             "ticks": ""
            },
            "type": "contourcarpet"
           }
          ],
          "heatmap": [
           {
            "colorbar": {
             "outlinewidth": 0,
             "ticks": ""
            },
            "colorscale": [
             [
              0,
              "#0d0887"
             ],
             [
              0.1111111111111111,
              "#46039f"
             ],
             [
              0.2222222222222222,
              "#7201a8"
             ],
             [
              0.3333333333333333,
              "#9c179e"
             ],
             [
              0.4444444444444444,
              "#bd3786"
             ],
             [
              0.5555555555555556,
              "#d8576b"
             ],
             [
              0.6666666666666666,
              "#ed7953"
             ],
             [
              0.7777777777777778,
              "#fb9f3a"
             ],
             [
              0.8888888888888888,
              "#fdca26"
             ],
             [
              1,
              "#f0f921"
             ]
            ],
            "type": "heatmap"
           }
          ],
          "heatmapgl": [
           {
            "colorbar": {
             "outlinewidth": 0,
             "ticks": ""
            },
            "colorscale": [
             [
              0,
              "#0d0887"
             ],
             [
              0.1111111111111111,
              "#46039f"
             ],
             [
              0.2222222222222222,
              "#7201a8"
             ],
             [
              0.3333333333333333,
              "#9c179e"
             ],
             [
              0.4444444444444444,
              "#bd3786"
             ],
             [
              0.5555555555555556,
              "#d8576b"
             ],
             [
              0.6666666666666666,
              "#ed7953"
             ],
             [
              0.7777777777777778,
              "#fb9f3a"
             ],
             [
              0.8888888888888888,
              "#fdca26"
             ],
             [
              1,
              "#f0f921"
             ]
            ],
            "type": "heatmapgl"
           }
          ],
          "histogram": [
           {
            "marker": {
             "pattern": {
              "fillmode": "overlay",
              "size": 10,
              "solidity": 0.2
             }
            },
            "type": "histogram"
           }
          ],
          "histogram2d": [
           {
            "colorbar": {
             "outlinewidth": 0,
             "ticks": ""
            },
            "colorscale": [
             [
              0,
              "#0d0887"
             ],
             [
              0.1111111111111111,
              "#46039f"
             ],
             [
              0.2222222222222222,
              "#7201a8"
             ],
             [
              0.3333333333333333,
              "#9c179e"
             ],
             [
              0.4444444444444444,
              "#bd3786"
             ],
             [
              0.5555555555555556,
              "#d8576b"
             ],
             [
              0.6666666666666666,
              "#ed7953"
             ],
             [
              0.7777777777777778,
              "#fb9f3a"
             ],
             [
              0.8888888888888888,
              "#fdca26"
             ],
             [
              1,
              "#f0f921"
             ]
            ],
            "type": "histogram2d"
           }
          ],
          "histogram2dcontour": [
           {
            "colorbar": {
             "outlinewidth": 0,
             "ticks": ""
            },
            "colorscale": [
             [
              0,
              "#0d0887"
             ],
             [
              0.1111111111111111,
              "#46039f"
             ],
             [
              0.2222222222222222,
              "#7201a8"
             ],
             [
              0.3333333333333333,
              "#9c179e"
             ],
             [
              0.4444444444444444,
              "#bd3786"
             ],
             [
              0.5555555555555556,
              "#d8576b"
             ],
             [
              0.6666666666666666,
              "#ed7953"
             ],
             [
              0.7777777777777778,
              "#fb9f3a"
             ],
             [
              0.8888888888888888,
              "#fdca26"
             ],
             [
              1,
              "#f0f921"
             ]
            ],
            "type": "histogram2dcontour"
           }
          ],
          "mesh3d": [
           {
            "colorbar": {
             "outlinewidth": 0,
             "ticks": ""
            },
            "type": "mesh3d"
           }
          ],
          "parcoords": [
           {
            "line": {
             "colorbar": {
              "outlinewidth": 0,
              "ticks": ""
             }
            },
            "type": "parcoords"
           }
          ],
          "pie": [
           {
            "automargin": true,
            "type": "pie"
           }
          ],
          "scatter": [
           {
            "fillpattern": {
             "fillmode": "overlay",
             "size": 10,
             "solidity": 0.2
            },
            "type": "scatter"
           }
          ],
          "scatter3d": [
           {
            "line": {
             "colorbar": {
              "outlinewidth": 0,
              "ticks": ""
             }
            },
            "marker": {
             "colorbar": {
              "outlinewidth": 0,
              "ticks": ""
             }
            },
            "type": "scatter3d"
           }
          ],
          "scattercarpet": [
           {
            "marker": {
             "colorbar": {
              "outlinewidth": 0,
              "ticks": ""
             }
            },
            "type": "scattercarpet"
           }
          ],
          "scattergeo": [
           {
            "marker": {
             "colorbar": {
              "outlinewidth": 0,
              "ticks": ""
             }
            },
            "type": "scattergeo"
           }
          ],
          "scattergl": [
           {
            "marker": {
             "colorbar": {
              "outlinewidth": 0,
              "ticks": ""
             }
            },
            "type": "scattergl"
           }
          ],
          "scattermapbox": [
           {
            "marker": {
             "colorbar": {
              "outlinewidth": 0,
              "ticks": ""
             }
            },
            "type": "scattermapbox"
           }
          ],
          "scatterpolar": [
           {
            "marker": {
             "colorbar": {
              "outlinewidth": 0,
              "ticks": ""
             }
            },
            "type": "scatterpolar"
           }
          ],
          "scatterpolargl": [
           {
            "marker": {
             "colorbar": {
              "outlinewidth": 0,
              "ticks": ""
             }
            },
            "type": "scatterpolargl"
           }
          ],
          "scatterternary": [
           {
            "marker": {
             "colorbar": {
              "outlinewidth": 0,
              "ticks": ""
             }
            },
            "type": "scatterternary"
           }
          ],
          "surface": [
           {
            "colorbar": {
             "outlinewidth": 0,
             "ticks": ""
            },
            "colorscale": [
             [
              0,
              "#0d0887"
             ],
             [
              0.1111111111111111,
              "#46039f"
             ],
             [
              0.2222222222222222,
              "#7201a8"
             ],
             [
              0.3333333333333333,
              "#9c179e"
             ],
             [
              0.4444444444444444,
              "#bd3786"
             ],
             [
              0.5555555555555556,
              "#d8576b"
             ],
             [
              0.6666666666666666,
              "#ed7953"
             ],
             [
              0.7777777777777778,
              "#fb9f3a"
             ],
             [
              0.8888888888888888,
              "#fdca26"
             ],
             [
              1,
              "#f0f921"
             ]
            ],
            "type": "surface"
           }
          ],
          "table": [
           {
            "cells": {
             "fill": {
              "color": "#EBF0F8"
             },
             "line": {
              "color": "white"
             }
            },
            "header": {
             "fill": {
              "color": "#C8D4E3"
             },
             "line": {
              "color": "white"
             }
            },
            "type": "table"
           }
          ]
         },
         "layout": {
          "annotationdefaults": {
           "arrowcolor": "#2a3f5f",
           "arrowhead": 0,
           "arrowwidth": 1
          },
          "autotypenumbers": "strict",
          "coloraxis": {
           "colorbar": {
            "outlinewidth": 0,
            "ticks": ""
           }
          },
          "colorscale": {
           "diverging": [
            [
             0,
             "#8e0152"
            ],
            [
             0.1,
             "#c51b7d"
            ],
            [
             0.2,
             "#de77ae"
            ],
            [
             0.3,
             "#f1b6da"
            ],
            [
             0.4,
             "#fde0ef"
            ],
            [
             0.5,
             "#f7f7f7"
            ],
            [
             0.6,
             "#e6f5d0"
            ],
            [
             0.7,
             "#b8e186"
            ],
            [
             0.8,
             "#7fbc41"
            ],
            [
             0.9,
             "#4d9221"
            ],
            [
             1,
             "#276419"
            ]
           ],
           "sequential": [
            [
             0,
             "#0d0887"
            ],
            [
             0.1111111111111111,
             "#46039f"
            ],
            [
             0.2222222222222222,
             "#7201a8"
            ],
            [
             0.3333333333333333,
             "#9c179e"
            ],
            [
             0.4444444444444444,
             "#bd3786"
            ],
            [
             0.5555555555555556,
             "#d8576b"
            ],
            [
             0.6666666666666666,
             "#ed7953"
            ],
            [
             0.7777777777777778,
             "#fb9f3a"
            ],
            [
             0.8888888888888888,
             "#fdca26"
            ],
            [
             1,
             "#f0f921"
            ]
           ],
           "sequentialminus": [
            [
             0,
             "#0d0887"
            ],
            [
             0.1111111111111111,
             "#46039f"
            ],
            [
             0.2222222222222222,
             "#7201a8"
            ],
            [
             0.3333333333333333,
             "#9c179e"
            ],
            [
             0.4444444444444444,
             "#bd3786"
            ],
            [
             0.5555555555555556,
             "#d8576b"
            ],
            [
             0.6666666666666666,
             "#ed7953"
            ],
            [
             0.7777777777777778,
             "#fb9f3a"
            ],
            [
             0.8888888888888888,
             "#fdca26"
            ],
            [
             1,
             "#f0f921"
            ]
           ]
          },
          "colorway": [
           "#636efa",
           "#EF553B",
           "#00cc96",
           "#ab63fa",
           "#FFA15A",
           "#19d3f3",
           "#FF6692",
           "#B6E880",
           "#FF97FF",
           "#FECB52"
          ],
          "font": {
           "color": "#2a3f5f"
          },
          "geo": {
           "bgcolor": "white",
           "lakecolor": "white",
           "landcolor": "#E5ECF6",
           "showlakes": true,
           "showland": true,
           "subunitcolor": "white"
          },
          "hoverlabel": {
           "align": "left"
          },
          "hovermode": "closest",
          "mapbox": {
           "style": "light"
          },
          "paper_bgcolor": "white",
          "plot_bgcolor": "#E5ECF6",
          "polar": {
           "angularaxis": {
            "gridcolor": "white",
            "linecolor": "white",
            "ticks": ""
           },
           "bgcolor": "#E5ECF6",
           "radialaxis": {
            "gridcolor": "white",
            "linecolor": "white",
            "ticks": ""
           }
          },
          "scene": {
           "xaxis": {
            "backgroundcolor": "#E5ECF6",
            "gridcolor": "white",
            "gridwidth": 2,
            "linecolor": "white",
            "showbackground": true,
            "ticks": "",
            "zerolinecolor": "white"
           },
           "yaxis": {
            "backgroundcolor": "#E5ECF6",
            "gridcolor": "white",
            "gridwidth": 2,
            "linecolor": "white",
            "showbackground": true,
            "ticks": "",
            "zerolinecolor": "white"
           },
           "zaxis": {
            "backgroundcolor": "#E5ECF6",
            "gridcolor": "white",
            "gridwidth": 2,
            "linecolor": "white",
            "showbackground": true,
            "ticks": "",
            "zerolinecolor": "white"
           }
          },
          "shapedefaults": {
           "line": {
            "color": "#2a3f5f"
           }
          },
          "ternary": {
           "aaxis": {
            "gridcolor": "white",
            "linecolor": "white",
            "ticks": ""
           },
           "baxis": {
            "gridcolor": "white",
            "linecolor": "white",
            "ticks": ""
           },
           "bgcolor": "#E5ECF6",
           "caxis": {
            "gridcolor": "white",
            "linecolor": "white",
            "ticks": ""
           }
          },
          "title": {
           "x": 0.05
          },
          "xaxis": {
           "automargin": true,
           "gridcolor": "white",
           "linecolor": "white",
           "ticks": "",
           "title": {
            "standoff": 15
           },
           "zerolinecolor": "white",
           "zerolinewidth": 2
          },
          "yaxis": {
           "automargin": true,
           "gridcolor": "white",
           "linecolor": "white",
           "ticks": "",
           "title": {
            "standoff": 15
           },
           "zerolinecolor": "white",
           "zerolinewidth": 2
          }
         }
        },
        "width": 900,
        "xaxis": {
         "tickmode": "array",
         "ticktext": [
          "Sourcing",
          "Conditioning",
          "Treatment",
          "Forwarding",
          "Delivery"
         ],
         "tickvals": [
          0,
          0.25,
          0.5,
          0.75,
          1
         ]
        },
        "yaxis": {
         "visible": false
        }
       }
      },
      "text/html": [
       "<div>                            <div id=\"65067f6e-dca3-4b41-9982-d6b44f8ceb0c\" class=\"plotly-graph-div\" style=\"height:525px; width:900px;\"></div>            <script type=\"text/javascript\">                require([\"plotly\"], function(Plotly) {                    window.PLOTLYENV=window.PLOTLYENV || {};                                    if (document.getElementById(\"65067f6e-dca3-4b41-9982-d6b44f8ceb0c\")) {                    Plotly.newPlot(                        \"65067f6e-dca3-4b41-9982-d6b44f8ceb0c\",                        [{\"line\":{\"color\":\"black\",\"width\":1.398335500338532},\"mode\":\"lines\",\"x\":[0.25,0.5,null],\"y\":[0.0,0.42857142857142855,null],\"type\":\"scatter\"},{\"hovertemplate\":\"%{text}\",\"marker\":{\"color\":\"black\",\"opacity\":0,\"size\":20},\"mode\":\"markers\",\"text\":[\"Amount: 712.0\"],\"x\":[0.375],\"y\":[0.21428571428571427],\"type\":\"scatter\"},{\"line\":{\"color\":\"black\",\"width\":1.1831189296392386},\"mode\":\"lines\",\"x\":[0.25,0.5,null],\"y\":[0.0,0.7142857142857142,null],\"type\":\"scatter\"},{\"hovertemplate\":\"%{text}\",\"marker\":{\"color\":\"black\",\"opacity\":0,\"size\":20},\"mode\":\"markers\",\"text\":[\"Amount: 352.81\"],\"x\":[0.375],\"y\":[0.3571428571428571],\"type\":\"scatter\"},{\"line\":{\"color\":\"black\",\"width\":1.5178583198020337},\"mode\":\"lines\",\"x\":[0.25,0.5,null],\"y\":[0.2,0.14285714285714285,null],\"type\":\"scatter\"},{\"hovertemplate\":\"%{text}\",\"marker\":{\"color\":\"black\",\"opacity\":0,\"size\":20},\"mode\":\"markers\",\"text\":[\"Amount: 911.48\"],\"x\":[0.375],\"y\":[0.17142857142857143],\"type\":\"scatter\"},{\"line\":{\"color\":\"black\",\"width\":1.1101637536923972},\"mode\":\"lines\",\"x\":[0.25,0.5,null],\"y\":[0.2,0.2857142857142857,null],\"type\":\"scatter\"},{\"hovertemplate\":\"%{text}\",\"marker\":{\"color\":\"black\",\"opacity\":0,\"size\":20},\"mode\":\"markers\",\"text\":[\"Amount: 231.05\"],\"x\":[0.375],\"y\":[0.24285714285714285],\"type\":\"scatter\"},{\"line\":{\"color\":\"black\",\"width\":1.1636338580082326},\"mode\":\"lines\",\"x\":[0.25,0.5,null],\"y\":[0.2,0.5714285714285714,null],\"type\":\"scatter\"},{\"hovertemplate\":\"%{text}\",\"marker\":{\"color\":\"black\",\"opacity\":0,\"size\":20},\"mode\":\"markers\",\"text\":[\"Amount: 320.29\"],\"x\":[0.375],\"y\":[0.3857142857142857],\"type\":\"scatter\"},{\"line\":{\"color\":\"black\",\"width\":1.0462021486305926},\"mode\":\"lines\",\"x\":[0.25,0.5,null],\"y\":[0.4,0.0,null],\"type\":\"scatter\"},{\"hovertemplate\":\"%{text}\",\"marker\":{\"color\":\"black\",\"opacity\":0,\"size\":20},\"mode\":\"markers\",\"text\":[\"Amount: 124.3\"],\"x\":[0.375],\"y\":[0.2],\"type\":\"scatter\"},{\"line\":{\"color\":\"black\",\"width\":4.971725075945044},\"mode\":\"lines\",\"x\":[0.25,0.5,null],\"y\":[0.6000000000000001,0.8571428571428571,null],\"type\":\"scatter\"},{\"hovertemplate\":\"%{text}\",\"marker\":{\"color\":\"black\",\"opacity\":0,\"size\":20},\"mode\":\"markers\",\"text\":[\"Amount: 6675.88\"],\"x\":[0.375],\"y\":[0.7285714285714286],\"type\":\"scatter\"},{\"line\":{\"color\":\"black\",\"width\":1.0},\"mode\":\"lines\",\"x\":[0.25,0.5,null],\"y\":[0.8,0.8571428571428571,null],\"type\":\"scatter\"},{\"hovertemplate\":\"%{text}\",\"marker\":{\"color\":\"black\",\"opacity\":0,\"size\":20},\"mode\":\"markers\",\"text\":[\"Amount: 47.19\"],\"x\":[0.375],\"y\":[0.8285714285714285],\"type\":\"scatter\"},{\"line\":{\"color\":\"black\",\"width\":1.0462021486305926},\"mode\":\"lines\",\"x\":[0.75,1,null],\"y\":[0.0,0.0,null],\"type\":\"scatter\"},{\"hovertemplate\":\"%{text}\",\"marker\":{\"color\":\"black\",\"opacity\":0,\"size\":20},\"mode\":\"markers\",\"text\":[\"Amount: 124.3\"],\"x\":[0.875],\"y\":[0.0],\"type\":\"scatter\"},{\"line\":{\"color\":\"black\",\"width\":1.9444687441955217},\"mode\":\"lines\",\"x\":[0.75,1,null],\"y\":[0.2,0.5,null],\"type\":\"scatter\"},{\"hovertemplate\":\"%{text}\",\"marker\":{\"color\":\"black\",\"opacity\":0,\"size\":20},\"mode\":\"markers\",\"text\":[\"Amount: 1623.48\"],\"x\":[0.875],\"y\":[0.35],\"type\":\"scatter\"},{\"line\":{\"color\":\"black\",\"width\":1.1101637536923972},\"mode\":\"lines\",\"x\":[0.75,1,null],\"y\":[0.4,0.5,null],\"type\":\"scatter\"},{\"hovertemplate\":\"%{text}\",\"marker\":{\"color\":\"black\",\"opacity\":0,\"size\":20},\"mode\":\"markers\",\"text\":[\"Amount: 231.05\"],\"x\":[0.875],\"y\":[0.45],\"type\":\"scatter\"},{\"line\":{\"color\":\"black\",\"width\":1.3750277117024272},\"mode\":\"lines\",\"x\":[0.75,1,null],\"y\":[0.6000000000000001,0.75,null],\"type\":\"scatter\"},{\"hovertemplate\":\"%{text}\",\"marker\":{\"color\":\"black\",\"opacity\":0,\"size\":20},\"mode\":\"markers\",\"text\":[\"Amount: 673.1\"],\"x\":[0.875],\"y\":[0.675],\"type\":\"scatter\"},{\"line\":{\"color\":\"black\",\"width\":5.0},\"mode\":\"lines\",\"x\":[0.75,1,null],\"y\":[0.8,0.25,null],\"type\":\"scatter\"},{\"hovertemplate\":\"%{text}\",\"marker\":{\"color\":\"black\",\"opacity\":0,\"size\":20},\"mode\":\"markers\",\"text\":[\"Amount: 6723.07\"],\"x\":[0.875],\"y\":[0.525],\"type\":\"scatter\"},{\"line\":{\"color\":\"black\",\"width\":1.6097293540327267},\"mode\":\"lines\",\"x\":[0,0.25,null],\"y\":[0.0,0.0,null],\"type\":\"scatter\"},{\"hovertemplate\":\"%{text}\",\"marker\":{\"color\":\"black\",\"opacity\":0,\"size\":20},\"mode\":\"markers\",\"text\":[\"Amount: 1064.81\"],\"x\":[0.125],\"y\":[0.0],\"type\":\"scatter\"},{\"line\":{\"color\":\"black\",\"width\":1.8482057796125755},\"mode\":\"lines\",\"x\":[0,0.25,null],\"y\":[0.2,0.2,null],\"type\":\"scatter\"},{\"hovertemplate\":\"%{text}\",\"marker\":{\"color\":\"black\",\"opacity\":0,\"size\":20},\"mode\":\"markers\",\"text\":[\"Amount: 1462.82\"],\"x\":[0.125],\"y\":[0.2],\"type\":\"scatter\"},{\"line\":{\"color\":\"black\",\"width\":1.0462021486305926},\"mode\":\"lines\",\"x\":[0,0.25,null],\"y\":[0.4,0.4,null],\"type\":\"scatter\"},{\"hovertemplate\":\"%{text}\",\"marker\":{\"color\":\"black\",\"opacity\":0,\"size\":20},\"mode\":\"markers\",\"text\":[\"Amount: 124.3\"],\"x\":[0.125],\"y\":[0.4],\"type\":\"scatter\"},{\"line\":{\"color\":\"black\",\"width\":4.971725075945044},\"mode\":\"lines\",\"x\":[0,0.25,null],\"y\":[0.6000000000000001,0.6000000000000001,null],\"type\":\"scatter\"},{\"hovertemplate\":\"%{text}\",\"marker\":{\"color\":\"black\",\"opacity\":0,\"size\":20},\"mode\":\"markers\",\"text\":[\"Amount: 6675.88\"],\"x\":[0.125],\"y\":[0.6000000000000001],\"type\":\"scatter\"},{\"line\":{\"color\":\"black\",\"width\":1.0},\"mode\":\"lines\",\"x\":[0,0.25,null],\"y\":[0.8,0.8,null],\"type\":\"scatter\"},{\"hovertemplate\":\"%{text}\",\"marker\":{\"color\":\"black\",\"opacity\":0,\"size\":20},\"mode\":\"markers\",\"text\":[\"Amount: 47.19\"],\"x\":[0.125],\"y\":[0.8],\"type\":\"scatter\"},{\"line\":{\"color\":\"black\",\"width\":1.0462021486305926},\"mode\":\"lines\",\"x\":[0.5,0.75,null],\"y\":[0.0,0.0,null],\"type\":\"scatter\"},{\"hovertemplate\":\"%{text}\",\"marker\":{\"color\":\"black\",\"opacity\":0,\"size\":20},\"mode\":\"markers\",\"text\":[\"Amount: 124.3\"],\"x\":[0.625],\"y\":[0.0],\"type\":\"scatter\"},{\"line\":{\"color\":\"black\",\"width\":1.5178583198020337},\"mode\":\"lines\",\"x\":[0.5,0.75,null],\"y\":[0.14285714285714285,0.2,null],\"type\":\"scatter\"},{\"hovertemplate\":\"%{text}\",\"marker\":{\"color\":\"black\",\"opacity\":0,\"size\":20},\"mode\":\"markers\",\"text\":[\"Amount: 911.48\"],\"x\":[0.625],\"y\":[0.17142857142857143],\"type\":\"scatter\"},{\"line\":{\"color\":\"black\",\"width\":1.1101637536923972},\"mode\":\"lines\",\"x\":[0.5,0.75,null],\"y\":[0.2857142857142857,0.4,null],\"type\":\"scatter\"},{\"hovertemplate\":\"%{text}\",\"marker\":{\"color\":\"black\",\"opacity\":0,\"size\":20},\"mode\":\"markers\",\"text\":[\"Amount: 231.05\"],\"x\":[0.625],\"y\":[0.34285714285714286],\"type\":\"scatter\"},{\"line\":{\"color\":\"black\",\"width\":1.398335500338532},\"mode\":\"lines\",\"x\":[0.5,0.75,null],\"y\":[0.42857142857142855,0.2,null],\"type\":\"scatter\"},{\"hovertemplate\":\"%{text}\",\"marker\":{\"color\":\"black\",\"opacity\":0,\"size\":20},\"mode\":\"markers\",\"text\":[\"Amount: 712.0\"],\"x\":[0.625],\"y\":[0.3142857142857143],\"type\":\"scatter\"},{\"line\":{\"color\":\"black\",\"width\":1.1636338580082326},\"mode\":\"lines\",\"x\":[0.5,0.75,null],\"y\":[0.5714285714285714,0.6000000000000001,null],\"type\":\"scatter\"},{\"hovertemplate\":\"%{text}\",\"marker\":{\"color\":\"black\",\"opacity\":0,\"size\":20},\"mode\":\"markers\",\"text\":[\"Amount: 320.29\"],\"x\":[0.625],\"y\":[0.5857142857142857],\"type\":\"scatter\"},{\"line\":{\"color\":\"black\",\"width\":1.1831189296392386},\"mode\":\"lines\",\"x\":[0.5,0.75,null],\"y\":[0.7142857142857142,0.6000000000000001,null],\"type\":\"scatter\"},{\"hovertemplate\":\"%{text}\",\"marker\":{\"color\":\"black\",\"opacity\":0,\"size\":20},\"mode\":\"markers\",\"text\":[\"Amount: 352.81\"],\"x\":[0.625],\"y\":[0.6571428571428571],\"type\":\"scatter\"},{\"line\":{\"color\":\"black\",\"width\":5.0},\"mode\":\"lines\",\"x\":[0.5,0.75,null],\"y\":[0.8571428571428571,0.8,null],\"type\":\"scatter\"},{\"hovertemplate\":\"%{text}\",\"marker\":{\"color\":\"black\",\"opacity\":0,\"size\":20},\"mode\":\"markers\",\"text\":[\"Amount: 6723.07\"],\"x\":[0.625],\"y\":[0.8285714285714285],\"type\":\"scatter\"},{\"hovertemplate\":\"%{text}\",\"marker\":{\"color\":\"#1f77b4\",\"size\":25},\"mode\":\"markers\",\"text\":[\"Id: 0<br>Process: Conditioning<br>Location: FRANCE<br>Amount: 1064.81<br>Week: 1\"],\"x\":[0.25],\"y\":[0.0],\"type\":\"scatter\"},{\"hovertemplate\":\"%{text}\",\"marker\":{\"color\":\"#1f77b4\",\"size\":25},\"mode\":\"markers\",\"text\":[\"Id: 1<br>Process: Conditioning<br>Location: ITALY<br>Amount: 1462.82<br>Week: 1\"],\"x\":[0.25],\"y\":[0.2],\"type\":\"scatter\"},{\"hovertemplate\":\"%{text}\",\"marker\":{\"color\":\"#1f77b4\",\"size\":25},\"mode\":\"markers\",\"text\":[\"Id: 2<br>Process: Conditioning<br>Location: AUSTRIA<br>Amount: 124.3<br>Week: 1\"],\"x\":[0.25],\"y\":[0.4],\"type\":\"scatter\"},{\"hovertemplate\":\"%{text}\",\"marker\":{\"color\":\"#1f77b4\",\"size\":25},\"mode\":\"markers\",\"text\":[\"Id: 3<br>Process: Conditioning<br>Location: AUSTRIA<br>Amount: 6675.88<br>Week: 1\"],\"x\":[0.25],\"y\":[0.6000000000000001],\"type\":\"scatter\"},{\"hovertemplate\":\"%{text}\",\"marker\":{\"color\":\"#1f77b4\",\"size\":25},\"mode\":\"markers\",\"text\":[\"Id: 4<br>Process: Conditioning<br>Location: AUSTRIA<br>Amount: 47.19<br>Week: 1\"],\"x\":[0.25],\"y\":[0.8],\"type\":\"scatter\"},{\"hovertemplate\":\"%{text}\",\"marker\":{\"color\":\"#ff7f0e\",\"size\":25},\"mode\":\"markers\",\"text\":[\"Id: 5<br>Process: Delivery<br>Location: TURKEY<br>Amount: 124.3<br>Week: 13\"],\"x\":[1],\"y\":[0.0],\"type\":\"scatter\"},{\"hovertemplate\":\"%{text}\",\"marker\":{\"color\":\"#ff7f0e\",\"size\":25},\"mode\":\"markers\",\"text\":[\"Id: 6<br>Process: Delivery<br>Location: TURKEY<br>Amount: 6723.07<br>Week: 18\"],\"x\":[1],\"y\":[0.25],\"type\":\"scatter\"},{\"hovertemplate\":\"%{text}\",\"marker\":{\"color\":\"#ff7f0e\",\"size\":25},\"mode\":\"markers\",\"text\":[\"Id: 7<br>Process: Delivery<br>Location: TURKEY<br>Amount: 1854.53<br>Week: 23\"],\"x\":[1],\"y\":[0.5],\"type\":\"scatter\"},{\"hovertemplate\":\"%{text}\",\"marker\":{\"color\":\"#ff7f0e\",\"size\":25},\"mode\":\"markers\",\"text\":[\"Id: 8<br>Process: Delivery<br>Location: TURKEY<br>Amount: 673.1<br>Week: 24\"],\"x\":[1],\"y\":[0.75],\"type\":\"scatter\"},{\"hovertemplate\":\"%{text}\",\"marker\":{\"color\":\"#2ca02c\",\"size\":25},\"mode\":\"markers\",\"text\":[\"Id: 9<br>Process: Forwarding<br>Location: ITALY<br>Amount: 124.3<br>Week: 8\"],\"x\":[0.75],\"y\":[0.0],\"type\":\"scatter\"},{\"hovertemplate\":\"%{text}\",\"marker\":{\"color\":\"#2ca02c\",\"size\":25},\"mode\":\"markers\",\"text\":[\"Id: 10<br>Process: Forwarding<br>Location: TURKEY<br>Amount: 1623.48<br>Week: 11\"],\"x\":[0.75],\"y\":[0.2],\"type\":\"scatter\"},{\"hovertemplate\":\"%{text}\",\"marker\":{\"color\":\"#2ca02c\",\"size\":25},\"mode\":\"markers\",\"text\":[\"Id: 11<br>Process: Forwarding<br>Location: TURKEY<br>Amount: 231.05<br>Week: 12\"],\"x\":[0.75],\"y\":[0.4],\"type\":\"scatter\"},{\"hovertemplate\":\"%{text}\",\"marker\":{\"color\":\"#2ca02c\",\"size\":25},\"mode\":\"markers\",\"text\":[\"Id: 12<br>Process: Forwarding<br>Location: TURKEY<br>Amount: 673.1<br>Week: 14\"],\"x\":[0.75],\"y\":[0.6000000000000001],\"type\":\"scatter\"},{\"hovertemplate\":\"%{text}\",\"marker\":{\"color\":\"#2ca02c\",\"size\":25},\"mode\":\"markers\",\"text\":[\"Id: 13<br>Process: Forwarding<br>Location: ITALY<br>Amount: 6723.07<br>Week: 14\"],\"x\":[0.75],\"y\":[0.8],\"type\":\"scatter\"},{\"hovertemplate\":\"%{text}\",\"marker\":{\"color\":\"#d62728\",\"size\":25},\"mode\":\"markers\",\"text\":[\"Id: 14<br>Process: Sourcing<br>Location: FRANCE<br>Amount: 1064.81<br>Week: 1\"],\"x\":[0],\"y\":[0.0],\"type\":\"scatter\"},{\"hovertemplate\":\"%{text}\",\"marker\":{\"color\":\"#d62728\",\"size\":25},\"mode\":\"markers\",\"text\":[\"Id: 15<br>Process: Sourcing<br>Location: ITALY<br>Amount: 1462.82<br>Week: 1\"],\"x\":[0],\"y\":[0.2],\"type\":\"scatter\"},{\"hovertemplate\":\"%{text}\",\"marker\":{\"color\":\"#d62728\",\"size\":25},\"mode\":\"markers\",\"text\":[\"Id: 16<br>Process: Sourcing<br>Location: AUSTRIA<br>Amount: 124.3<br>Week: 1\"],\"x\":[0],\"y\":[0.4],\"type\":\"scatter\"},{\"hovertemplate\":\"%{text}\",\"marker\":{\"color\":\"#d62728\",\"size\":25},\"mode\":\"markers\",\"text\":[\"Id: 17<br>Process: Sourcing<br>Location: ROMANIA<br>Amount: 6675.88<br>Week: 1\"],\"x\":[0],\"y\":[0.6000000000000001],\"type\":\"scatter\"},{\"hovertemplate\":\"%{text}\",\"marker\":{\"color\":\"#d62728\",\"size\":25},\"mode\":\"markers\",\"text\":[\"Id: 18<br>Process: Sourcing<br>Location: SLOVENIA<br>Amount: 47.19<br>Week: 1\"],\"x\":[0],\"y\":[0.8],\"type\":\"scatter\"},{\"hovertemplate\":\"%{text}\",\"marker\":{\"color\":\"#9467bd\",\"size\":25},\"mode\":\"markers\",\"text\":[\"Id: 19<br>Process: Treatment<br>Location: SLOVENIA<br>Amount: 124.3<br>Week: 4\"],\"x\":[0.5],\"y\":[0.0],\"type\":\"scatter\"},{\"hovertemplate\":\"%{text}\",\"marker\":{\"color\":\"#9467bd\",\"size\":25},\"mode\":\"markers\",\"text\":[\"Id: 20<br>Process: Treatment<br>Location: FRANCE<br>Amount: 911.48<br>Week: 5\"],\"x\":[0.5],\"y\":[0.14285714285714285],\"type\":\"scatter\"},{\"hovertemplate\":\"%{text}\",\"marker\":{\"color\":\"#9467bd\",\"size\":25},\"mode\":\"markers\",\"text\":[\"Id: 21<br>Process: Treatment<br>Location: ITALY<br>Amount: 231.05<br>Week: 6\"],\"x\":[0.5],\"y\":[0.2857142857142857],\"type\":\"scatter\"},{\"hovertemplate\":\"%{text}\",\"marker\":{\"color\":\"#9467bd\",\"size\":25},\"mode\":\"markers\",\"text\":[\"Id: 22<br>Process: Treatment<br>Location: FRANCE<br>Amount: 712.0<br>Week: 7\"],\"x\":[0.5],\"y\":[0.42857142857142855],\"type\":\"scatter\"},{\"hovertemplate\":\"%{text}\",\"marker\":{\"color\":\"#9467bd\",\"size\":25},\"mode\":\"markers\",\"text\":[\"Id: 23<br>Process: Treatment<br>Location: FRANCE<br>Amount: 320.29<br>Week: 9\"],\"x\":[0.5],\"y\":[0.5714285714285714],\"type\":\"scatter\"},{\"hovertemplate\":\"%{text}\",\"marker\":{\"color\":\"#9467bd\",\"size\":25},\"mode\":\"markers\",\"text\":[\"Id: 24<br>Process: Treatment<br>Location: FRANCE<br>Amount: 352.81<br>Week: 10\"],\"x\":[0.5],\"y\":[0.7142857142857142],\"type\":\"scatter\"},{\"hovertemplate\":\"%{text}\",\"marker\":{\"color\":\"#9467bd\",\"size\":25},\"mode\":\"markers\",\"text\":[\"Id: 25<br>Process: Treatment<br>Location: SLOVENIA<br>Amount: 6723.07<br>Week: 10\"],\"x\":[0.5],\"y\":[0.8571428571428571],\"type\":\"scatter\"}],                        {\"template\":{\"data\":{\"histogram2dcontour\":[{\"type\":\"histogram2dcontour\",\"colorbar\":{\"outlinewidth\":0,\"ticks\":\"\"},\"colorscale\":[[0.0,\"#0d0887\"],[0.1111111111111111,\"#46039f\"],[0.2222222222222222,\"#7201a8\"],[0.3333333333333333,\"#9c179e\"],[0.4444444444444444,\"#bd3786\"],[0.5555555555555556,\"#d8576b\"],[0.6666666666666666,\"#ed7953\"],[0.7777777777777778,\"#fb9f3a\"],[0.8888888888888888,\"#fdca26\"],[1.0,\"#f0f921\"]]}],\"choropleth\":[{\"type\":\"choropleth\",\"colorbar\":{\"outlinewidth\":0,\"ticks\":\"\"}}],\"histogram2d\":[{\"type\":\"histogram2d\",\"colorbar\":{\"outlinewidth\":0,\"ticks\":\"\"},\"colorscale\":[[0.0,\"#0d0887\"],[0.1111111111111111,\"#46039f\"],[0.2222222222222222,\"#7201a8\"],[0.3333333333333333,\"#9c179e\"],[0.4444444444444444,\"#bd3786\"],[0.5555555555555556,\"#d8576b\"],[0.6666666666666666,\"#ed7953\"],[0.7777777777777778,\"#fb9f3a\"],[0.8888888888888888,\"#fdca26\"],[1.0,\"#f0f921\"]]}],\"heatmap\":[{\"type\":\"heatmap\",\"colorbar\":{\"outlinewidth\":0,\"ticks\":\"\"},\"colorscale\":[[0.0,\"#0d0887\"],[0.1111111111111111,\"#46039f\"],[0.2222222222222222,\"#7201a8\"],[0.3333333333333333,\"#9c179e\"],[0.4444444444444444,\"#bd3786\"],[0.5555555555555556,\"#d8576b\"],[0.6666666666666666,\"#ed7953\"],[0.7777777777777778,\"#fb9f3a\"],[0.8888888888888888,\"#fdca26\"],[1.0,\"#f0f921\"]]}],\"heatmapgl\":[{\"type\":\"heatmapgl\",\"colorbar\":{\"outlinewidth\":0,\"ticks\":\"\"},\"colorscale\":[[0.0,\"#0d0887\"],[0.1111111111111111,\"#46039f\"],[0.2222222222222222,\"#7201a8\"],[0.3333333333333333,\"#9c179e\"],[0.4444444444444444,\"#bd3786\"],[0.5555555555555556,\"#d8576b\"],[0.6666666666666666,\"#ed7953\"],[0.7777777777777778,\"#fb9f3a\"],[0.8888888888888888,\"#fdca26\"],[1.0,\"#f0f921\"]]}],\"contourcarpet\":[{\"type\":\"contourcarpet\",\"colorbar\":{\"outlinewidth\":0,\"ticks\":\"\"}}],\"contour\":[{\"type\":\"contour\",\"colorbar\":{\"outlinewidth\":0,\"ticks\":\"\"},\"colorscale\":[[0.0,\"#0d0887\"],[0.1111111111111111,\"#46039f\"],[0.2222222222222222,\"#7201a8\"],[0.3333333333333333,\"#9c179e\"],[0.4444444444444444,\"#bd3786\"],[0.5555555555555556,\"#d8576b\"],[0.6666666666666666,\"#ed7953\"],[0.7777777777777778,\"#fb9f3a\"],[0.8888888888888888,\"#fdca26\"],[1.0,\"#f0f921\"]]}],\"surface\":[{\"type\":\"surface\",\"colorbar\":{\"outlinewidth\":0,\"ticks\":\"\"},\"colorscale\":[[0.0,\"#0d0887\"],[0.1111111111111111,\"#46039f\"],[0.2222222222222222,\"#7201a8\"],[0.3333333333333333,\"#9c179e\"],[0.4444444444444444,\"#bd3786\"],[0.5555555555555556,\"#d8576b\"],[0.6666666666666666,\"#ed7953\"],[0.7777777777777778,\"#fb9f3a\"],[0.8888888888888888,\"#fdca26\"],[1.0,\"#f0f921\"]]}],\"mesh3d\":[{\"type\":\"mesh3d\",\"colorbar\":{\"outlinewidth\":0,\"ticks\":\"\"}}],\"scatter\":[{\"fillpattern\":{\"fillmode\":\"overlay\",\"size\":10,\"solidity\":0.2},\"type\":\"scatter\"}],\"parcoords\":[{\"type\":\"parcoords\",\"line\":{\"colorbar\":{\"outlinewidth\":0,\"ticks\":\"\"}}}],\"scatterpolargl\":[{\"type\":\"scatterpolargl\",\"marker\":{\"colorbar\":{\"outlinewidth\":0,\"ticks\":\"\"}}}],\"bar\":[{\"error_x\":{\"color\":\"#2a3f5f\"},\"error_y\":{\"color\":\"#2a3f5f\"},\"marker\":{\"line\":{\"color\":\"#E5ECF6\",\"width\":0.5},\"pattern\":{\"fillmode\":\"overlay\",\"size\":10,\"solidity\":0.2}},\"type\":\"bar\"}],\"scattergeo\":[{\"type\":\"scattergeo\",\"marker\":{\"colorbar\":{\"outlinewidth\":0,\"ticks\":\"\"}}}],\"scatterpolar\":[{\"type\":\"scatterpolar\",\"marker\":{\"colorbar\":{\"outlinewidth\":0,\"ticks\":\"\"}}}],\"histogram\":[{\"marker\":{\"pattern\":{\"fillmode\":\"overlay\",\"size\":10,\"solidity\":0.2}},\"type\":\"histogram\"}],\"scattergl\":[{\"type\":\"scattergl\",\"marker\":{\"colorbar\":{\"outlinewidth\":0,\"ticks\":\"\"}}}],\"scatter3d\":[{\"type\":\"scatter3d\",\"line\":{\"colorbar\":{\"outlinewidth\":0,\"ticks\":\"\"}},\"marker\":{\"colorbar\":{\"outlinewidth\":0,\"ticks\":\"\"}}}],\"scattermapbox\":[{\"type\":\"scattermapbox\",\"marker\":{\"colorbar\":{\"outlinewidth\":0,\"ticks\":\"\"}}}],\"scatterternary\":[{\"type\":\"scatterternary\",\"marker\":{\"colorbar\":{\"outlinewidth\":0,\"ticks\":\"\"}}}],\"scattercarpet\":[{\"type\":\"scattercarpet\",\"marker\":{\"colorbar\":{\"outlinewidth\":0,\"ticks\":\"\"}}}],\"carpet\":[{\"aaxis\":{\"endlinecolor\":\"#2a3f5f\",\"gridcolor\":\"white\",\"linecolor\":\"white\",\"minorgridcolor\":\"white\",\"startlinecolor\":\"#2a3f5f\"},\"baxis\":{\"endlinecolor\":\"#2a3f5f\",\"gridcolor\":\"white\",\"linecolor\":\"white\",\"minorgridcolor\":\"white\",\"startlinecolor\":\"#2a3f5f\"},\"type\":\"carpet\"}],\"table\":[{\"cells\":{\"fill\":{\"color\":\"#EBF0F8\"},\"line\":{\"color\":\"white\"}},\"header\":{\"fill\":{\"color\":\"#C8D4E3\"},\"line\":{\"color\":\"white\"}},\"type\":\"table\"}],\"barpolar\":[{\"marker\":{\"line\":{\"color\":\"#E5ECF6\",\"width\":0.5},\"pattern\":{\"fillmode\":\"overlay\",\"size\":10,\"solidity\":0.2}},\"type\":\"barpolar\"}],\"pie\":[{\"automargin\":true,\"type\":\"pie\"}]},\"layout\":{\"autotypenumbers\":\"strict\",\"colorway\":[\"#636efa\",\"#EF553B\",\"#00cc96\",\"#ab63fa\",\"#FFA15A\",\"#19d3f3\",\"#FF6692\",\"#B6E880\",\"#FF97FF\",\"#FECB52\"],\"font\":{\"color\":\"#2a3f5f\"},\"hovermode\":\"closest\",\"hoverlabel\":{\"align\":\"left\"},\"paper_bgcolor\":\"white\",\"plot_bgcolor\":\"#E5ECF6\",\"polar\":{\"bgcolor\":\"#E5ECF6\",\"angularaxis\":{\"gridcolor\":\"white\",\"linecolor\":\"white\",\"ticks\":\"\"},\"radialaxis\":{\"gridcolor\":\"white\",\"linecolor\":\"white\",\"ticks\":\"\"}},\"ternary\":{\"bgcolor\":\"#E5ECF6\",\"aaxis\":{\"gridcolor\":\"white\",\"linecolor\":\"white\",\"ticks\":\"\"},\"baxis\":{\"gridcolor\":\"white\",\"linecolor\":\"white\",\"ticks\":\"\"},\"caxis\":{\"gridcolor\":\"white\",\"linecolor\":\"white\",\"ticks\":\"\"}},\"coloraxis\":{\"colorbar\":{\"outlinewidth\":0,\"ticks\":\"\"}},\"colorscale\":{\"sequential\":[[0.0,\"#0d0887\"],[0.1111111111111111,\"#46039f\"],[0.2222222222222222,\"#7201a8\"],[0.3333333333333333,\"#9c179e\"],[0.4444444444444444,\"#bd3786\"],[0.5555555555555556,\"#d8576b\"],[0.6666666666666666,\"#ed7953\"],[0.7777777777777778,\"#fb9f3a\"],[0.8888888888888888,\"#fdca26\"],[1.0,\"#f0f921\"]],\"sequentialminus\":[[0.0,\"#0d0887\"],[0.1111111111111111,\"#46039f\"],[0.2222222222222222,\"#7201a8\"],[0.3333333333333333,\"#9c179e\"],[0.4444444444444444,\"#bd3786\"],[0.5555555555555556,\"#d8576b\"],[0.6666666666666666,\"#ed7953\"],[0.7777777777777778,\"#fb9f3a\"],[0.8888888888888888,\"#fdca26\"],[1.0,\"#f0f921\"]],\"diverging\":[[0,\"#8e0152\"],[0.1,\"#c51b7d\"],[0.2,\"#de77ae\"],[0.3,\"#f1b6da\"],[0.4,\"#fde0ef\"],[0.5,\"#f7f7f7\"],[0.6,\"#e6f5d0\"],[0.7,\"#b8e186\"],[0.8,\"#7fbc41\"],[0.9,\"#4d9221\"],[1,\"#276419\"]]},\"xaxis\":{\"gridcolor\":\"white\",\"linecolor\":\"white\",\"ticks\":\"\",\"title\":{\"standoff\":15},\"zerolinecolor\":\"white\",\"automargin\":true,\"zerolinewidth\":2},\"yaxis\":{\"gridcolor\":\"white\",\"linecolor\":\"white\",\"ticks\":\"\",\"title\":{\"standoff\":15},\"zerolinecolor\":\"white\",\"automargin\":true,\"zerolinewidth\":2},\"scene\":{\"xaxis\":{\"backgroundcolor\":\"#E5ECF6\",\"gridcolor\":\"white\",\"linecolor\":\"white\",\"showbackground\":true,\"ticks\":\"\",\"zerolinecolor\":\"white\",\"gridwidth\":2},\"yaxis\":{\"backgroundcolor\":\"#E5ECF6\",\"gridcolor\":\"white\",\"linecolor\":\"white\",\"showbackground\":true,\"ticks\":\"\",\"zerolinecolor\":\"white\",\"gridwidth\":2},\"zaxis\":{\"backgroundcolor\":\"#E5ECF6\",\"gridcolor\":\"white\",\"linecolor\":\"white\",\"showbackground\":true,\"ticks\":\"\",\"zerolinecolor\":\"white\",\"gridwidth\":2}},\"shapedefaults\":{\"line\":{\"color\":\"#2a3f5f\"}},\"annotationdefaults\":{\"arrowcolor\":\"#2a3f5f\",\"arrowhead\":0,\"arrowwidth\":1},\"geo\":{\"bgcolor\":\"white\",\"landcolor\":\"#E5ECF6\",\"subunitcolor\":\"white\",\"showland\":true,\"showlakes\":true,\"lakecolor\":\"white\"},\"title\":{\"x\":0.05},\"mapbox\":{\"style\":\"light\"}}},\"hovermode\":\"closest\",\"showlegend\":false,\"plot_bgcolor\":\"white\",\"margin\":{\"l\":20,\"r\":20,\"t\":20,\"b\":20},\"xaxis\":{\"tickmode\":\"array\",\"tickvals\":[0,0.25,0.5,0.75,1],\"ticktext\":[\"Sourcing\",\"Conditioning\",\"Treatment\",\"Forwarding\",\"Delivery\"]},\"yaxis\":{\"visible\":false},\"width\":900},                        {\"responsive\": true}                    ).then(function(){\n",
       "                            \n",
       "var gd = document.getElementById('65067f6e-dca3-4b41-9982-d6b44f8ceb0c');\n",
       "var x = new MutationObserver(function (mutations, observer) {{\n",
       "        var display = window.getComputedStyle(gd).display;\n",
       "        if (!display || display === 'none') {{\n",
       "            console.log([gd, 'removed!']);\n",
       "            Plotly.purge(gd);\n",
       "            observer.disconnect();\n",
       "        }}\n",
       "}});\n",
       "\n",
       "// Listen for the removal of the full notebook cells\n",
       "var notebookContainer = gd.closest('#notebook-container');\n",
       "if (notebookContainer) {{\n",
       "    x.observe(notebookContainer, {childList: true});\n",
       "}}\n",
       "\n",
       "// Listen for the clearing of the current output cell\n",
       "var outputEl = gd.closest('.output');\n",
       "if (outputEl) {{\n",
       "    x.observe(outputEl, {childList: true});\n",
       "}}\n",
       "\n",
       "                        })                };                });            </script>        </div>"
      ]
     },
     "metadata": {},
     "output_type": "display_data"
    }
   ],
   "source": [
    "input5_solution.ivisualize()"
   ]
  },
  {
   "cell_type": "code",
   "execution_count": null,
   "metadata": {},
   "outputs": [],
   "source": []
  }
 ],
 "metadata": {
  "kernelspec": {
   "display_name": "corteva",
   "language": "python",
   "name": "python3"
  },
  "language_info": {
   "codemirror_mode": {
    "name": "ipython",
    "version": 3
   },
   "file_extension": ".py",
   "mimetype": "text/x-python",
   "name": "python",
   "nbconvert_exporter": "python",
   "pygments_lexer": "ipython3",
   "version": "3.11.3"
  },
  "orig_nbformat": 4
 },
 "nbformat": 4,
 "nbformat_minor": 2
}
